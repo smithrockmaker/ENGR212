{
 "cells": [
  {
   "cell_type": "markdown",
   "metadata": {},
   "source": [
    "## ENGR 212 Lecture Notes\n",
    "\n",
    "### Lecture 13\n",
    "#### 18.1 - 18.2 in Bedford/Fowler\n",
    "\n",
    "As we did before we now move from the description (kinematics) of the motion of complex machines to the explanation (dynamics) of their motion. In a sense this is much like the work we did in ENGR 211 (Statics) except that we are dealing with unbalanced forces and moments (torques).\n"
   ]
  },
  {
   "cell_type": "markdown",
   "metadata": {},
   "source": [
    "### Linear Forces\n",
    "\n",
    "Newton's 2nd Law in it's linear form is a comfortable part of how you probably think at this point. Some small conceptual insights into it's application to more complex systems with both internal and external forces are warranted at this point.\n",
    "\n",
    ".$$\\large \\sum\\bar{F}_{external} = m_{sys}\\: \\bar{a}_{cm} $$\n",
    "\n",
    "Any internal forces cancel out due to Newton's 3rd Law. An important perspective in the case of complex machines is that we can consider different subsystems within a more complex system as we did with solving truss problems by the method of trusses. \n",
    "\n",
    "#### Moments in Complex Systems:\n",
    "\n",
    "As I look at the second half of section 18.1 I feel like it distracts from the the important result which is at the end of section 18.2. In the text the author carefully distinguishes angular momentum around some arbitrary origin and the angular momentum around the center of mass. This leads to many confusing similar terms. Here are the relevant results. \n",
    "\n",
    "Around a particular origin:\n",
    "\n",
    ".$$\\large \\sum\\bar{M}_{O} = I_O\\: \\bar{\\alpha} $$\n",
    "\n",
    "Around the center of mass:\n",
    "\n",
    ".$$\\large \\sum\\bar{M}= I\\: \\bar{\\alpha} $$\n",
    "\n",
    "In the notation of the text $\\bar{M}_{O}$ are the moments around a chosen origin while $\\bar{M}$ are the moments around the center of mass of the object or system.\n",
    "\n",
    "\n"
   ]
  },
  {
   "cell_type": "markdown",
   "metadata": {},
   "source": [
    "***\n",
    "### Sample Problem: Gear Chain\n",
    "\n",
    ">What are the components of the velocity and acceleration of point A on the right hand disk? \n",
    "\n",
    "<img src=\"https://raw.githubusercontent.com/smithrockmaker/ENGR212/master/images/Sample11-1.png\" />\n",
    "\n",
    "[Solution](https://github.com/smithrockmaker/ENGR212/blob/main/documents/SampleProb11-1.pdf)\n",
    "***"
   ]
  },
  {
   "cell_type": "markdown",
   "metadata": {},
   "source": [
    "***\n",
    "### Sample Problem: Linkage \n",
    "\n",
    ">Given the following linkage what is the velocity of the slide at this moment. Notice that the problem is contrained by the slot so C can only have a horizontal velocity.\n",
    "\n",
    "<img src=\"https://raw.githubusercontent.com/smithrockmaker/ENGR212/master/images/Sample11-2.png\" />\n",
    "\n",
    "[Solution](https://github.com/smithrockmaker/ENGR212/blob/main/documents/SampleProb11-2.pdf)\n",
    "***"
   ]
  },
  {
   "cell_type": "code",
   "execution_count": null,
   "metadata": {},
   "outputs": [],
   "source": []
  }
 ],
 "metadata": {
  "kernelspec": {
   "display_name": "Python 3",
   "language": "python",
   "name": "python3"
  },
  "language_info": {
   "codemirror_mode": {
    "name": "ipython",
    "version": 3
   },
   "file_extension": ".py",
   "mimetype": "text/x-python",
   "name": "python",
   "nbconvert_exporter": "python",
   "pygments_lexer": "ipython3",
   "version": "3.8.5"
  }
 },
 "nbformat": 4,
 "nbformat_minor": 4
}
