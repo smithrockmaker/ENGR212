{
 "cells": [
  {
   "cell_type": "markdown",
   "metadata": {},
   "source": [
    "## ENGR 212 Lecture Notes\n",
    "\n",
    "### Lecture 13\n",
    "#### 18.1 - 18.2 in Bedford/Fowler\n",
    "\n",
    "As we did before we now move from the description (kinematics) of the motion of complex machines to the explanation (dynamics) of their motion. In a sense this is much like the work we did in ENGR 211 (Statics) except that we are dealing with unbalanced forces and moments (torques).\n"
   ]
  },
  {
   "cell_type": "markdown",
   "metadata": {},
   "source": [
    "### Linear Forces\n",
    "\n",
    "Newton's 2nd Law in it's linear form is a comfortable part of how you probably think at this point. Some small conceptual insights into it's application to more complex systems with both internal and external forces are warranted at this point.\n",
    "\n",
    ".$$\\large \\sum\\bar{F}_{external} = m_{sys}\\: \\bar{a}_{cm} $$\n",
    "\n",
    "Any internal forces cancel out due to Newton's 3rd Law. An important perspective in the case of complex machines is that we can consider different subsystems within a more complex system as we did with solving truss problems by the method of trusses. \n",
    "\n",
    "#### Moments in Complex Systems:\n",
    "\n",
    "As I look at the second half of section 18.1 I feel like it distracts from the the important result which is at the end of section 18.2. In the text the author carefully distinguishes angular momentum around some arbitrary origin and the angular momentum around the center of mass. This leads to many confusing similar terms. Here are the relevant results. \n",
    "\n",
    "Around a particular origin:\n",
    "\n",
    ".$$\\large \\sum\\bar{M}_{O} = I_O\\: \\bar{\\alpha} $$\n",
    "\n",
    "Around the center of mass:\n",
    "\n",
    ".$$\\large \\sum\\bar{M}= I\\: \\bar{\\alpha} $$\n",
    "\n",
    "In the notation of the text $\\bar{M}_{O}$ are the moments around a chosen origin while $\\bar{M}$ are the moments around the center of mass of the object or system.\n",
    "\n",
    "### Problem Solving\n",
    "\n",
    "Think back to the transition between CH13 (kinematics) and CH14 (Dynamics). At that time it was confusing how they related but we approached CH 14 problems by creating freebody diagrams, choosing a coordinate system, and writing Newton's 2nd Law along the axes in our coordinate system. We often needed the kinematics material from CH13 to determine the components of the acceleration in the chosen coordinate system which provided additional data to answer the question. Same story here. We have Newtons 2nd Law in both it's linear and angular form above. In additional we have the kinematic equations to describe the motions of complex machines which may provide additional needed information to solve the problem.\n"
   ]
  },
  {
   "cell_type": "markdown",
   "metadata": {},
   "source": [
    "***\n",
    "### Sample Problem: Falling Bar\n",
    "\n",
    ">It seems remarkably simple but when we worry about the motion of the physical bar as it rotates it gets a bit more exciting. The moment of inertia of a bar around one end is given by $I = \\frac{1}{3}mL^2$ (we will learn to calculate this shortly). Determine the reaction forces at the pin A as a function of $\\theta$ and specifically when the bar is horizontal. Assume the bar is initially stationary when it is released in the horizontal position. \n",
    "\n",
    "<img src=\"https://raw.githubusercontent.com/smithrockmaker/ENGR212/master/images/sample13-1.png\" />\n",
    "\n",
    ">The text approaches a similar example problem in cartesian coordinates which is reasonable enough for the starting point but is unhelpful for any other location. My solution starts in polar coordinates. You may gain some insight from comparing the two solutions.\n",
    "\n",
    "\n",
    "[Solution](https://github.com/smithrockmaker/ENGR212/blob/main/documents/SampleProb13-1.pdf)\n",
    "***"
   ]
  },
  {
   "cell_type": "markdown",
   "metadata": {},
   "source": [
    "***\n",
    "### Sample Problem: Front Loader\n",
    "\n",
    ">18-24.\n",
    "\n",
    "<img src=\"https://raw.githubusercontent.com/smithrockmaker/ENGR212/master/images/sample13-2.png\" />\n",
    "\n",
    "[Solution](https://github.com/smithrockmaker/ENGR212/blob/main/documents/SampleProb13-2.pdf)\n",
    "***"
   ]
  },
  {
   "cell_type": "markdown",
   "metadata": {},
   "source": [
    "***\n",
    "### Sample Problem: Front Loader\n",
    "\n",
    ">18-24.\n",
    "\n",
    "<img src=\"https://raw.githubusercontent.com/smithrockmaker/ENGR212/master/images/sample13-3.png\" />\n",
    "\n",
    "[Solution](https://github.com/smithrockmaker/ENGR212/blob/main/documents/SampleProb13-3.pdf)\n",
    "***"
   ]
  },
  {
   "cell_type": "code",
   "execution_count": null,
   "metadata": {},
   "outputs": [],
   "source": []
  }
 ],
 "metadata": {
  "kernelspec": {
   "display_name": "Python 3",
   "language": "python",
   "name": "python3"
  },
  "language_info": {
   "codemirror_mode": {
    "name": "ipython",
    "version": 3
   },
   "file_extension": ".py",
   "mimetype": "text/x-python",
   "name": "python",
   "nbconvert_exporter": "python",
   "pygments_lexer": "ipython3",
   "version": "3.8.5"
  }
 },
 "nbformat": 4,
 "nbformat_minor": 4
}
