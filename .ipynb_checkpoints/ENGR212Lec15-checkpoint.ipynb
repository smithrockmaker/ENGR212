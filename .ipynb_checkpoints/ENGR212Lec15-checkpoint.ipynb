{
 "cells": [
  {
   "cell_type": "markdown",
   "metadata": {},
   "source": [
    "## ENGR 212 Lecture Notes\n",
    "\n",
    "### Lecture 15\n",
    "#### Appendix from CH18 on Moments of Inertia in Bedford/Fowler\n",
    "\n",
    "In our previous discussion of dynamics of complex machines we introduced the idea of the moment of inertia (I is the usual symbol) that represents the rotational equivalent of mass. In depends both on the mass of the object subjected to a moment (torque) as well as the arrangement of the mass relative to the axis of rotation."
   ]
  },
  {
   "cell_type": "markdown",
   "metadata": {},
   "source": [
    "#### Newton's 2nd Law for Rotation:\n",
    "\n",
    "As we noted previously Newton's 2nd Law takes two forms. The first for moments around a general axis of rotation and the second is implicitly for moments and rotations around the center of mass of the object.\n",
    "\n",
    "Around a particular origin:\n",
    "\n",
    ".$$\\large \\sum\\bar{M}_{O} = I_O\\: \\bar{\\alpha} $$\n",
    "\n",
    "Around the center of mass:\n",
    "\n",
    ".$$\\large \\sum\\bar{M}= I\\: \\bar{\\alpha} $$\n"
   ]
  },
  {
   "cell_type": "markdown",
   "metadata": {},
   "source": [
    "### I (moment of inertia)\n",
    "\n",
    "### Formal Math Description:\n",
    "\n",
    "This is the formal mathematical description of the moment of inertia of an object around any axis:\n",
    "\n",
    ".$$\\large I_0 = \\int_m r^2\\: dm$$\n",
    "\n",
    "Where r is the location of each dm relative to the axis of rotation. This can get quite complex for 3D object though it is not so bad for planar objects."
   ]
  },
  {
   "cell_type": "markdown",
   "metadata": {},
   "source": [
    "### The Reality\n",
    "\n",
    "**Look it up!!** The reality is that all the typical shapes for which we need to know moments of inertia have been calculated. This includes rectangles, spheres, I beams, bars, etc etc. As a result we look them up. Here is a sample table...\n",
    "\n",
    "<img src=\"https://raw.githubusercontent.com/smithrockmaker/ENGR212/master/images/momentInertia.jpg\" />\n",
    "\n",
    "You will no doubt notice that the moments of inertia are all for rotation around the center of mass of the object. This is because we have a simple tool to find the moment of inertial around another axis parallel to the axis through the center of mass. This tool is called the Parallel Axis Theorem."
   ]
  },
  {
   "cell_type": "markdown",
   "metadata": {},
   "source": [
    "***\n",
    "### Sample Problem: Falling Bar\n",
    "\n",
    ">It seems remarkably simple but when we worry about the motion of the physical bar as it rotates it gets a bit more exciting. The moment of inertia of a bar around one end is given by $I = \\frac{1}{3}mL^2$ (we will learn to calculate this shortly). Determine the reaction forces at the pin A as a function of $\\theta$ and specifically when the bar is horizontal. Assume the bar is initially stationary when it is released in the horizontal position. \n",
    "\n",
    "<img src=\"https://raw.githubusercontent.com/smithrockmaker/ENGR212/master/images/Sample14-1.png\" />\n",
    "\n",
    ">The text approaches a similar example problem in cartesian coordinates which is reasonable enough for the starting point but is unhelpful for any other location. My solution starts in polar coordinates. You may gain some insight from comparing the two solutions.\n",
    "\n",
    "\n",
    "[Solution](https://github.com/smithrockmaker/ENGR212/blob/main/documents/SampleProb14-1.pdf)\n",
    "***"
   ]
  },
  {
   "cell_type": "markdown",
   "metadata": {},
   "source": [
    "***\n",
    "### Sample Problem: Front Loader\n",
    "\n",
    ">ABC is a single rigid body whose mass is 320 kg. The moment of inertia (I) of the body around it's center of mass is $360 kg-m^2$ and the hydraulic piston attached at B exerts a linear force of 14 kN. Point A is stationary. What is the angular acceleration of the 'arm' ABC.\n",
    "\n",
    "<img src=\"https://raw.githubusercontent.com/smithrockmaker/ENGR212/master/images/Sample14-2.png\" />\n",
    "\n",
    "[Solution](https://github.com/smithrockmaker/ENGR212/blob/main/documents/SampleProb14-2.pdf)\n",
    "***"
   ]
  },
  {
   "cell_type": "markdown",
   "metadata": {},
   "source": [
    "***\n",
    "### Sample Problem: Sun Gear\n",
    "\n",
    ">For this sun and planetary gear system the mass of the sun gear (in the center) is 320 kg and the individual planetary gears are 38 kg (beefy gear system). The moments of inertia around the center of mass of each gear are $I_s = 40\\: kg\\: m^2$ and $I_p=0.6\\: kg\\: m^2$ respectively. A couple of 200 N-m is applied to sun gear. What is the tangential force exerted by each planetary gear on the sun gear at the points of contact?\n",
    "\n",
    "<img src=\"https://raw.githubusercontent.com/smithrockmaker/ENGR212/master/images/Sample14-3.png\" />\n",
    "\n",
    "[Solution](https://github.com/smithrockmaker/ENGR212/blob/main/documents/SampleProb14-3.pdf)\n",
    "***"
   ]
  },
  {
   "cell_type": "code",
   "execution_count": null,
   "metadata": {},
   "outputs": [],
   "source": []
  }
 ],
 "metadata": {
  "kernelspec": {
   "display_name": "Python 3",
   "language": "python",
   "name": "python3"
  },
  "language_info": {
   "codemirror_mode": {
    "name": "ipython",
    "version": 3
   },
   "file_extension": ".py",
   "mimetype": "text/x-python",
   "name": "python",
   "nbconvert_exporter": "python",
   "pygments_lexer": "ipython3",
   "version": "3.8.5"
  }
 },
 "nbformat": 4,
 "nbformat_minor": 4
}
