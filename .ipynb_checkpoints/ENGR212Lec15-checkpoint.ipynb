{
 "cells": [
  {
   "cell_type": "markdown",
   "metadata": {},
   "source": [
    "## ENGR 212 Lecture Notes\n",
    "\n",
    "### Lecture 15\n",
    "#### Appendix from CH18 on Moments of Inertia in Bedford/Fowler\n",
    "\n",
    "In our previous discussion of dynamics of complex machines we introduced the idea of the moment of inertia (I is the usual symbol) that represents the rotational equivalent of mass. In depends both on the mass of the object subjected to a moment (torque) as well as the arrangement of the mass relative to the axis of rotation."
   ]
  },
  {
   "cell_type": "markdown",
   "metadata": {},
   "source": [
    "#### Newton's 2nd Law for Rotation:\n",
    "\n",
    "As we noted previously Newton's 2nd Law takes two forms. The first for moments around a general axis of rotation and the second is implicitly for moments and rotations around the center of mass of the object.\n",
    "\n",
    "Around a particular origin:\n",
    "\n",
    ".$$\\large \\sum\\bar{M}_{O} = I_O\\: \\bar{\\alpha} $$\n",
    "\n",
    "Around the center of mass:\n",
    "\n",
    ".$$\\large \\sum\\bar{M}= I\\: \\bar{\\alpha} $$\n"
   ]
  },
  {
   "cell_type": "markdown",
   "metadata": {},
   "source": [
    "### I (moment of inertia)\n",
    "\n",
    "### Formal Math Description:\n",
    "\n",
    "This is the formal mathematical description of the moment of inertia of an object around any axis:\n",
    "\n",
    ".$$\\large I_0 = \\int_m r^2\\: dm$$\n",
    "\n",
    "Where r is the location of each dm relative to the axis of rotation. This can get quite complex for 3D object though it is not so bad for planar objects. Please notice that the moment of inertia is a SCALAR not a vector!!\n",
    "\n",
    "Notice also that 'I' has units of $kg\\: m^2$. Another mixed set of units for which there is no special name at this point."
   ]
  },
  {
   "cell_type": "markdown",
   "metadata": {},
   "source": [
    "### The Reality\n",
    "\n",
    "**Look it up!!** The reality is that all the typical shapes for which we need to know moments of inertia have been calculated. This includes rectangles, spheres, I beams, bars, etc etc. As a result we look them up. Here is a sample table...\n",
    "\n",
    "<img src=\"https://raw.githubusercontent.com/smithrockmaker/ENGR212/master/images/momentInertia.jpg\" />\n",
    "\n",
    "You will no doubt notice that the moments of inertia are all for rotation around the center of mass of the object. This is because we have a simple tool to find the moment of inertial around another axis parallel to the axis through the center of mass. This tool is called the Parallel Axis Theorem.\n",
    "\n",
    "Here are some additional useful shapes and their moments around different axes.\n",
    "\n",
    "<img src=\"https://raw.githubusercontent.com/smithrockmaker/ENGR212/master/images/momentInertia2.jpg\" />"
   ]
  },
  {
   "cell_type": "markdown",
   "metadata": {},
   "source": [
    "### Parallel Axis Theorem\n",
    "\n",
    "You can look in many places to see a mathematical proof of the parallel axis theorem. I don't find a lot of conceptual value in this particular proof so I will not reproduce it here. Suffice to say you can find it many places if you are interested. Here is the result:\n",
    "\n",
    ".$$\\large I_0 = I + d^2\\:m$$\n",
    "\n",
    "'d' is the distance from the axis through the center of mass and m is the total mass of the object. Consider the moment of inertia for a meter stick or rod around it's end rather than it's middle. I (around the center of mass is given by...\n",
    "\n",
    ".$$\\large I = \\frac{1}{12}m L^2$$\n",
    "\n",
    "To find I around the end of the stick or rod we only have to notice that the end is L/2 away from the center of mass and....\n",
    "\n",
    ".$$\\large I_{end} = \\frac{1}{12}m\\: L^2 + (\\frac{L}{2})^2 m = \\frac{mL^2}{3}$$\n",
    "\n",
    "This is 4x as big as the moment of inertia around the center of mass which explains why trying to 'waggle' a meter stick around it's center is MUCH easier than trying to 'waggle' it from the end.\n"
   ]
  },
  {
   "cell_type": "markdown",
   "metadata": {},
   "source": [
    "### I for Compound Objects\n",
    "\n",
    "So what do we do for slightly more complex objects like an I beam? Next term in Strengths we will need the moment of inertia for the cross section of various beams. Some of these are tabulated but sometimes we need to figure them out. Consider this basic I beam.\n",
    "\n",
    "<img src=\"https://raw.githubusercontent.com/smithrockmaker/ENGR212/master/images/Ibeam.jpg\" />\n",
    "\n",
    "If you squint as you look at it you can see that the beam is a big rectangle that is missing two smaller rectangles (one on each side). The total moment of inertia of this beam is the moment of inertia for the large rectangle minus the moment of inertia for each of the 'anti-rectangles' around whatever axis you are interested in. Not surprisingly one has to be careful doing this to get the various applications of the parallel axis theorem correct but it is much easier than trying to set up the integral."
   ]
  },
  {
   "cell_type": "markdown",
   "metadata": {},
   "source": [
    "***\n",
    "### Sample Problem: Dynamics of Ladder\n",
    "\n",
    ">While it's tempting to ask you to sort out the dynamics of a ladder against the wall from scratch it is a but of a pain algebraically. In addition the text has an error in it's derivation of the basic result.  \n",
    "\n",
    "<img src=\"https://raw.githubusercontent.com/smithrockmaker/ENGR212/master/images/ladderWall.png\" />\n",
    "\n",
    "While I might have chosen different labels I will use the ones from the text just for clarity although I will change l to L to avoid certain confusions.\n",
    "\n",
    "<img src=\"https://raw.githubusercontent.com/smithrockmaker/ENGR212/master/images/FBDLadder1.png\" />\n",
    "\n",
    "### Newton's 2nd Translation\n",
    "\n",
    "As we have learned in CH 18 we write Newton's 2nd Law translation and divide it up into it's x and y components. This leads to...\n",
    "\n",
    ".$$\\large \\sum \\bar{F}_x = P = m\\: \\bar{a}_{G_x}$$\n",
    "\n",
    ".$$\\large \\sum \\bar{F}_y = N - mg = m\\: \\bar{a}_{G_y}$$\n",
    "\n",
    "I want to point out that Newton's 2nd Law in translational form is describing the acceleration of the center of mass at G. As you are now aware we might be describing the accelerations of various points on this ladder in both linear and rotational terms."
   ]
  },
  {
   "cell_type": "markdown",
   "metadata": {},
   "source": [
    "### Newton's 2nd Rotation\n",
    "\n",
    "Now moving on the the rotational form of Newton's Law. One decision we have to make is what axis of rotation to consider. It is not entirely comfortable in the begining to wrap our heads around the idea that $\\omega$ and $\\alpha$ will be the same regardless thought the moments and 'I' will be different depending on our choice. In this case lets take the axis of rotation to be the center of mass where \n",
    "\n",
    ".$$\\large I = \\frac{1}{12}m\\: L^2$$\n",
    "\n",
    ".$$\\large \\sum \\bar{M} = N(\\frac{L}{2}sin(\\theta)) - P(\\frac{L}{2}cos(\\theta)) = I \\bar{\\alpha}$$\n",
    "\n",
    "...which, more compactly, looks like.....\n",
    "\n",
    ".$$\\large  \\frac{L}{2}(Nsin\\theta - Pcos\\theta) = I \\bar{\\alpha}$$\n",
    "\n",
    "Generally what we would expect to know in such a problem would be the length of the ladder and it's mass (assuming we're on earth). That means there are 5 variables that we don't know (N, P, $a_x$, $a_y$, $\\alpha$) and only 3 equations. We need more equations!! Because of the wall and the floor we have constraints on $a_P$ and $a_N$ which we might be able to exploit."
   ]
  },
  {
   "cell_type": "markdown",
   "metadata": {},
   "source": [
    "### Relative Accelerations\n",
    "\n",
    "What we need to connect are the accelerations at the wall and the floor, which are constrained, to the acceleration of the center of mass described by Newton's 2nd Law for translation. \n",
    "\n",
    ".$$ \\large \\bar{a}_{G/O} = \\bar{a}_{N/O} + \\bar{\\alpha} \\times\\bar{r}_{G/N} - \\omega^2 \\bar{r}_{G/N}$$\n",
    "\n",
    "Chase the terms carefully and we get...\n",
    "\n",
    ".$$ \\large a_{G_x}\\hat{i} + a_{G_y}\\hat{j} = [a_N + \\frac{L}{2}(-\\alpha cos\\theta+\\omega^2sin\\theta)]\\hat{i} + \\frac{L}{2}(-\\alpha sin\\theta-\\omega^2cos\\theta)\\hat{j}$$\n",
    "\n",
    "From this we can extract a slightly simpler bit of information by looking at the y components....\n",
    "\n",
    ".$$ \\large a_{G_y} = \\frac{L}{2}(-\\alpha sin\\theta-\\omega^2cos\\theta)$$\n",
    "\n",
    "Because we don't know $a_N$ the equation for the x component seems less helpful.\n",
    "\n",
    "Repeating this process to connect the vertical motion of P to the center of mass we start with...\n",
    "\n",
    ".$$ \\large \\bar{a}_{G/O} = \\bar{a}_{P/O} + \\bar{\\alpha} \\times\\bar{r}_{G/P} - \\omega^2 \\bar{r}_{G/P}$$\n",
    "\n",
    "which yields....\n",
    "\n",
    ".$$ \\large a_{G_x}\\hat{i} + a_{G_y}\\hat{j} = \\frac{L}{2}(-\\alpha cos\\theta-\\omega^2sin\\theta)\\hat{i} + [a_P + \\frac{L}{2}(\\alpha sin\\theta+\\omega^2cos\\theta)]\\hat{j}$$\n",
    "\n",
    "..giving us....\n",
    "\n",
    ".$$ \\large a_{G_x} = \\frac{L}{2}(\\alpha cos\\theta-\\omega^2sin\\theta)$$\n",
    "\n",
    "**NOTE** The book's example has the sign on these terms wrong. When I tried to reproduce the algebra it didn't work until I checked the original math -- yikes!"
   ]
  },
  {
   "cell_type": "markdown",
   "metadata": {},
   "source": [
    "### Ready to Solve\n",
    "\n",
    "Here are the 5 equations that we have. The sharp eyed among you will notice that we actually have 6 unknowns because we've added $\\omega$. There is some fortuitous algebra that saves us which you will see in a moment.\n",
    "\n",
    ".$$\\large \\sum \\bar{F}_x = P = m\\: \\bar{a}_{G_x}$$\n",
    "\n",
    ".$$\\large \\sum \\bar{F}_y = N - mg = m\\: \\bar{a}_{G_y}$$\n",
    "\n",
    ".$$\\large  \\frac{L}{2}(Nsin\\theta - Pcos\\theta) = I \\bar{\\alpha}$$\n",
    "\n",
    ".$$ \\large a_{G_y} = \\frac{L}{2}(-\\alpha sin\\theta-\\omega^2cos\\theta)$$\n",
    "\n",
    ".$$ \\large a_{G_x} = \\frac{L}{2}(\\alpha cos\\theta-\\omega^2sin\\theta)$$"
   ]
  },
  {
   "cell_type": "markdown",
   "metadata": {},
   "source": [
    "### Solving\n",
    "\n",
    "Start by substituting the last two into the RHS of the first two to get....\n",
    "\n",
    ".$$\\large P = m\\: [\\frac{L}{2}(\\alpha cos\\theta-\\omega^2sin\\theta)]$$\n",
    "\n",
    ".$$\\large N - mg = m\\: [\\frac{L}{2}(-\\alpha sin\\theta-\\omega^2cos\\theta)]$$\n",
    "\n",
    "Then put both of these into the 3rd equation above to get....\n",
    "\n",
    ".$$\\large  \\frac{L}{2}([m\\: \\frac{L}{2}(-\\alpha sin\\theta-\\omega^2cos\\theta) + mg]sin\\theta - [m\\:\\frac{L}{2}(\\alpha cos\\theta-\\omega^2sin\\theta)]cos\\theta) = I \\bar{\\alpha}$$\n",
    "\n",
    "Look carefully at the $\\omega^2$ terms and you will see that they cancel -- Yay!! Collecting the $\\alpha$ terms we get...\n",
    "\n",
    "\n",
    ".$$\\large  m\\frac{L^2}{4}(-\\alpha (sin^2\\theta + cos^2\\theta))+ \\frac{L}{2}mg\\: sin\\theta = I \\bar{\\alpha}$$\n",
    "\n",
    "Remembering that \n",
    "\n",
    ".$$\\large  sin^2\\theta + cos^2\\theta= 1$$\n",
    "\n",
    "This simplifies to...\n",
    "\n",
    ".$$\\large  m\\frac{L^2}{4}(-\\alpha) + \\frac{L}{2}mg\\:sin\\theta = I \\bar{\\alpha}$$"
   ]
  },
  {
   "cell_type": "markdown",
   "metadata": {},
   "source": [
    "### Last Steps...\n",
    "\n",
    ".$$\\large  \\frac{L}{2}mg\\:sin\\theta = \\alpha(I + m\\frac{L^2}{4})$$\n",
    "\n",
    "Substituting for I gives...\n",
    "\n",
    ".$$\\large  \\frac{L}{2}mg\\:sin\\theta = \\alpha(\\frac{1}{12}mL^2 + m\\frac{L^2}{4}) =\\alpha(m\\frac{L^2}{3})$$\n",
    "\n",
    "Rearranging and cancelling....\n",
    "\n",
    ".$$\\large  \\alpha =\\frac{3g}{2L}sin\\theta$$"
   ]
  },
  {
   "cell_type": "markdown",
   "metadata": {},
   "source": [
    "## My Point:\n",
    "\n",
    "What is my point? At this moment in the term a long careful problem is just a bit too much to ask **BUT** the expectation is that you could, if you were fresh, do this independently. These are the types of problems you are expected to be able to attack without coming completely unglued. That doesn't even mean you get it right the first try. I went through all this algebra 3+ times until I found the book's error and convinced myself that I trusted all the steps. "
   ]
  },
  {
   "cell_type": "markdown",
   "metadata": {},
   "source": [
    "### What about $\\omega$?\n",
    "\n",
    ".$$\\large \\alpha(\\theta) = \\frac{d\\omega}{d\\theta}\\frac{d\\theta}{dt} = \\omega\\frac{d\\omega}{d\\theta} = \\frac{3g}{2L}sin\\theta$$\n",
    "\n",
    "Separate variables and integrate..\n",
    "\n",
    ".$$\\large \\int_{\\omega_0}^{\\omega_f} \\omega\\: d\\omega = \\frac{3g}{2L}\\int_{\\theta_0}^{\\theta_f}sin\\theta\\: d\\theta$$\n",
    "\n",
    "Gives us....\n",
    "\n",
    ".$$\\large \\omega^2 = \\frac{3g}{L}(1-cos\\theta)$$"
   ]
  },
  {
   "cell_type": "markdown",
   "metadata": {},
   "source": [
    "### Everything Else....\n",
    "\n",
    "Now that we have $\\alpha$ and $\\omega$ we can determine any other variable by going back to the 5 equations and doing a little math (no algebra!) That's what you need to do for RP14!!\n",
    "\n",
    "End Sample Problem - finally!\n",
    "***"
   ]
  },
  {
   "cell_type": "code",
   "execution_count": null,
   "metadata": {},
   "outputs": [],
   "source": []
  }
 ],
 "metadata": {
  "kernelspec": {
   "display_name": "Python 3",
   "language": "python",
   "name": "python3"
  },
  "language_info": {
   "codemirror_mode": {
    "name": "ipython",
    "version": 3
   },
   "file_extension": ".py",
   "mimetype": "text/x-python",
   "name": "python",
   "nbconvert_exporter": "python",
   "pygments_lexer": "ipython3",
   "version": "3.8.5"
  }
 },
 "nbformat": 4,
 "nbformat_minor": 4
}
