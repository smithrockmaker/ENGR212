{
 "cells": [
  {
   "cell_type": "markdown",
   "metadata": {},
   "source": [
    "## ENGR 212 Lecture Notes\n",
    "\n",
    "### Lecture 2\n",
    "#### Sections 13.4 - 13.6 in Bedford/Fowler"
   ]
  },
  {
   "cell_type": "markdown",
   "metadata": {},
   "source": [
    "## Summary:\n",
    "\n",
    "As we move to explore dynamics in various coordinate systems we start in Cartesian coordinates where the unit vectors are constant.\n",
    "\n",
    "### Movement in Cartesian Coordinates:\n",
    "\n",
    "$$\\large \\bar{r} = x\\hat{i} + y\\hat{j} + z\\hat{k} $$\n",
    "\n",
    "$$\\large \\bar{v} = \\frac{dx}{dt}\\hat{i} + \\frac{dy}{dt}\\hat{j}+ \\frac{dz}{dt}\\hat{k}$$ \n",
    "\n",
    "$$ \\large \\quad = v_x\\hat{i} + v_y\\hat{j}+ v_z\\hat{k}$$\n",
    "\n",
    "$$\\large \\bar{a} = \\frac{dv_x}{dt}\\hat{i} + \\frac{dv_y}{dt}\\hat{j}+ \\frac{dv_z}{dt}\\hat{k}$$\n",
    "\n",
    "$$ \\large \\quad = a_x\\hat{i} + a_y\\hat{j}+ a_z\\hat{k}$$\n",
    "\n",
    "x, v, and a are related through integrals and derivatives as noted in Lec 1.\n",
    "\n",
    "### Angular Variables:\n",
    "\n",
    "$$\\large s \\longrightarrow \\theta , \\: s = \\rho \\theta$$\n",
    "$$\\large v \\longrightarrow \\omega , \\: v = \\rho \\omega, \\: \\omega = \\frac{d\\theta}{dt}$$\n",
    "$$\\large a \\longrightarrow \\alpha , \\: a = \\rho \\alpha, \\: \\alpha = \\frac{d\\omega}{dt}$$\n",
    "\n",
    "### d/dt for rotating unit vectors:\n",
    "\n",
    "The relationship between normal and tangential unit vectors that are changing direction is the same for all perpendicular unit vectors. \n",
    "\n",
    "$$\\large \\frac{d\\hat{u_t}}{dt} = \\frac{d\\theta}{dt}\\hat{u_n} = \\omega\\: \\hat{u_n}$$\n",
    "\n",
    "### Movement in Normal and Tangential (n/t) Coordinates:\n",
    "\n",
    "$$\\large \\bar{v} = \\frac{ds}{dt}\\hat{e_t} $$\n",
    "\n",
    ".$$\\large \\bar{a} = \\frac{dv}{dt}\\hat{e_t} + \\frac{v^2}{\\rho} \\hat{e_n} = \\frac{dv}{dt}\\hat{e_t} + \\rho \\omega^2 \\hat{e_n} $$\n",
    "\n",
    ".$$\\large \\bar{a} = a_t\\hat{e_t}+ a_n \\hat{e_n} $$\n",
    "\n",
    "where:\n",
    "\n",
    "$$\\large  a_t = \\frac{dv}{dt}, \\:  a_n = \\frac{v^2}{\\rho} = \\rho \\omega^2 $$"
   ]
  },
  {
   "cell_type": "markdown",
   "metadata": {},
   "source": [
    "## How we get to all the tools/expressions in the Summary!\n"
   ]
  },
  {
   "cell_type": "markdown",
   "metadata": {},
   "source": [
    "### Generalized Motion (Curvilinear) - Cartesian Coords:\n",
    "#### 13.4\n",
    "\n",
    "#### Core Concept:\n",
    "\n",
    "If we now express our generalized position vector $\\vec{r}$ in Cartesian coordinates we get....\n",
    "\n",
    "$$\\large \\bar{r} = x\\hat{i} + y\\hat{j} + z\\hat{k} $$\n",
    "\n",
    "where $\\hat{i}, \\: \\hat{j},\\: \\hat{k}$ are the traditional representations of the unit vectors in the Cartesian system. If we now differentiate thoughtfully we get...\n",
    "\n",
    "$$\\large \\bar{v} = \\frac{d\\bar{r}}{dt} = [\\frac{dx}{dt}\\hat{i}+ x\\frac{d\\hat{i}}{dt}] + [\\frac{dy}{dt}\\hat{j}+ y\\frac{d\\hat{j}}{dt}]+ ...$$\n",
    "\n",
    "In the Cartesian coordinate system the unit vectors always have the same magnitude and direction which means that $\\frac{d\\bar{i}}{dt}=0 , \\:\\frac{d\\bar{j}}{dt}=0$ and $\\frac{d\\bar{k}}{dt}=0$. I want to make this explicit here because there is a tendency to think of unit vectors as merely placeholders in the mathematical expression but they are actually legitimate mathematical entities that we must address like any other part of the mathematical expression. In this case the velocity can be simply expressed as...\n",
    "\n",
    "$$\\large \\bar{v} = \\frac{d\\bar{r}}{dt} = \\frac{dx}{dt}\\hat{i} + \\frac{dy}{dt}\\hat{j}+ \\frac{dz}{dt}\\hat{k}$$\n",
    "\n",
    ".$$\\large \\bar{v} = v_x\\hat{i} + v_y\\hat{j}+ v_z\\hat{k}$$\n",
    "\n",
    "Applying the same process to find the acceleration we get...\n",
    "\n",
    "$$\\large \\bar{a} = \\frac{d\\bar{v}}{dt} = \\frac{dv_x}{dt}\\hat{i} + \\frac{dv_y}{dt}\\hat{j}+ \\frac{dv_z}{dt}\\hat{k}$$\n",
    "\n",
    ".$$\\large \\bar{a} = a_x\\hat{i} + a_y\\hat{j}+ a_z\\hat{k}$$\n",
    "\n",
    "As a result any generalized motion in Cartesian coordinates is \"just\" the superposition of 3 straight line motions as we have discussed in section 13.3. Recognize that the information we have about any of the 9 variables (x,y,z,$v_x,v_y,v_z,a_x,a_y,a_z$) might depend on t, v, or s! Each of the three directions is mathematically independent though the specific circumstances of the problem setting may compel particular relationships between any of the variables. \n",
    "\n",
    "#### Example:\n",
    "\n",
    "Consider this image below. If the plane were to release a package at some point how would you determine where it lands on the slope? Given that $a_x = 0$ and $a_y = -9.8$ you can use our current tools to determine x(t) and y(t). The slope provides a constraint between x and y that is needed to find the point at which the package  hits the slope. This is just a conceptual example.\n",
    "\n",
    "<img src=\"https://useruploads.socratic.org/0AezRV8NRnCAAZ8AokgU_fly.jpg\" />"
   ]
  },
  {
   "cell_type": "markdown",
   "metadata": {},
   "source": [
    "***\n",
    "### Sample Problem: Curvilinear (Cartesian)\n",
    "\n",
    ">A basketball is thrown towards a hoop that is three feet higher in the y direction and 25 feet away in the x direction. If the ball is thrown at an initial angle of 50 degrees, what must the initial velocity be for the ball to make it into the hoop?\n",
    "\n",
    "<img src=\"https://raw.githubusercontent.com/smithrockmaker/ENGR212/master/images/Penn2.png\" />\n",
    "\n",
    "[Solution](https://github.com/smithrockmaker/ENGR212/blob/main/documents/SampleProb2-1.pdf)\n",
    "***"
   ]
  },
  {
   "cell_type": "markdown",
   "metadata": {},
   "source": [
    "### Angular Motion:\n",
    "#### 13.5\n",
    "\n",
    "As we move into angular motion we need to take a moment to be clear about variables. Angular position is typically labeled as $\\theta$. Angular velocity as $\\omega = \\frac{d\\theta}{dt}$ and angular acceleration as $\n",
    "\\alpha = \\frac{d\\omega}{dt} = \\frac{d^2\\theta}{dt^2}$. These kinematic variables have all the same relationships to each other that our linear variables do including potential for $\\alpha(\\omega)$ or $\\alpha(\\theta)$. These dependencies can lead to separation of variables and integration in some circumstances.\n",
    "\n",
    "We also have a well defined relationship between the linear and angular variables. From the definition of angles in radians we can see that $\\Delta s = \\rho \\Delta \\theta$ when a particle is traveling along an arc of whose radius of curvature is $\\rho$. This particular image the red line indicates the path of the particle, the blue arc is the imaginary circle of radius $\\rho$ along which the particle is traveling at the instant shown. In the most general sense $\\rho = \\rho(s)$ which may be different at every point along the path. The author uses $\\phi$ to label the angle instead of $\\theta$.\n",
    "\n",
    "<img src=\"https://raw.githubusercontent.com/smithrockmaker/ENGR212/master/images/radiuscurvature.gif\" />\n",
    "\n",
    "Because so many objects of interest are rotating or moving along circular paths it is important to understand  the 'rate of change' of a unit vector due angular movement. In the image below $\\hat{u_t}$ and $\\hat{u_n}$ represent two unit vectors which we will eventually come to call tangential and normal. They could just as easily represent $\\hat{i}$ and $\\hat{j}$. \n",
    "\n",
    "<img src=\"https://raw.githubusercontent.com/smithrockmaker/ENGR212/master/images/unit_vector.png\" />\n",
    "(J Moore et al, Penn State, CC-BY-SA 4.0 International)\n",
    "\n",
    "When we seek to understand $\\frac{d\\hat{u_t}}{dt}$ we start by allowing the unit vector to rotate between some initial orientation and a final orientation after some time dt. $\\hat{u_t}$ has rotated an angle $d\\theta$ and $d\\bar{u_t} = |\\hat{u_t}_f - \\hat{u_t}_0|\\hat{u_n}$. Notice the diretion of $d\\bar{u_t}$ is aligned with $\\hat{u_n}$. If we express our angles in radians then the length of $d\\bar{u_t} = r_{u_t} d\\theta = d\\theta$ since $r_{u_t} = 1$ by definition. Since all of these changes take place over a time dt we arrive (avoiding any  limiting arguments for math class) with....\n",
    "\n",
    "$$\\large \\label{eqn1}\\tag{1} \\frac{d\\hat{u_t}}{dt} = \\frac{d\\theta}{dt}\\hat{u_n} = \\omega\\: \\hat{u_n}$$\n",
    "\n",
    "**Note:** Depending on the author normal and tangential unit vectors are sometimes written as $\\hat{u_n}$ and $\\hat{u_t}$, or $\\hat{t}$ and $\\hat{n}$, or $\\hat{e_n}$ and $\\hat{e_t}$. Be alert and flexible. The 't' and 'n' are your clues!\n",
    "\n",
    "### Motion Around Single Axis:\n",
    "\n",
    "Angular motion around a single axis is the equivalent of straight line motion. Generally speaking most of the problems we will address will only be rotating in a single plane which is the same as rotating around a single axis. More general motion is possible around 3 axes of rotation but we'll save that for some time when we want to make your head hurt:) When there is rotation around a single axis remember the equivalency between linear and angular variables:\n",
    "\n",
    "$$\\large \\label{eqn2}\\tag{2} s \\longrightarrow \\theta , \\: s = \\rho \\theta$$\n",
    "$$\\large \\label{eqn3}\\tag{3} v \\longrightarrow \\omega , \\: v = \\rho \\omega$$\n",
    "$$\\large \\label{eqn4}\\tag{4} a \\longrightarrow \\alpha , \\: a = \\rho \\alpha$$\n"
   ]
  },
  {
   "cell_type": "markdown",
   "metadata": {},
   "source": [
    "***\n",
    "### Sample Problem: Angular Motion\n",
    "\n",
    ">An electric drill is rotating at 200 rpm when the power is removed. Not surprisingly the motor spins down where the acceleration (from angular forms of Newton's Laws) is given by \n",
    "\n",
    "$$ \\large \\alpha = -0.014 \\: \\omega $$\n",
    "\n",
    ">..in $rad/s^2$ where $\\omega$ is the angular velocity in rad/s. Note that this is equivalent to a linear kinematics problem where a = a(v)!!\n",
    "1. What is the angular velocity 30 s after the power is removed? \n",
    "2. How many revolutions until the rotor is at rest? \n",
    "\n",
    "[Solution](https://github.com/smithrockmaker/ENGR212/blob/main/documents/SampleProb2-2.pdf)\n",
    "***"
   ]
  },
  {
   "cell_type": "markdown",
   "metadata": {},
   "source": [
    "### Generalized Motion (Curvilinear) - Normal and Tangential Coordinates:\n",
    "#### 13.6\n",
    "\n",
    "Looking back at the plot of a generalized path through space (plot in Lec 1) you will hopefully notice that $d\\bar{r} = \\bar{r}_2 - \\bar{r}_1$ is a tiny vector aligned with the path of the particle. $d\\bar{r}$ is, in fact, tangent to the path. We could rewrite this as $d\\bar{r} = |d\\bar{r}|\\hat{e_t}$. Note that $|d\\bar{r}|= ds$ which is just the distance the object has traveled along the path between $\\bar{r}_1$ and $\\bar{r}_2$. Putting this all together we get....\n",
    "\n",
    "$$\\large \\bar{v} = \\frac{d\\bar{r}}{dt} = \\frac{|d\\bar{r}|\\hat{e_t}}{dt} = \\frac{ds}{dt}\\hat{e_t} = v\\hat{e_t}$$\n",
    "\n",
    "#### Planar Motion:\n",
    "\n",
    "All of what is stated above is true for generalized motion in 3D. We are going to simplify a little by assuming , for the time being, that our 'generalized motion' is restricted to a plane. This is equivalent to required any rotations to be around a single axis as discussed previously.\n",
    "\n",
    "Given that $\\bar{a} = \\frac{d\\bar{v}}{dt}$ we can carefully follow apply the product rule to see that...\n",
    "\n",
    "$$\\large \\bar{a} = \\frac{d\\bar{v}}{dt} = \\frac{d}{dt}(v\\hat{e_t}) = \\frac{dv}{dt}\\hat{e_t}+ v\\frac{d\\hat{e_t}}{dt}$$\n",
    "\n",
    "Remembering from (\\ref{eqn1}) (a slight change in notation from previously)...\n",
    "\n",
    "$$\\large \\frac{d\\hat{e_t}}{dt} = \\omega \\hat{e_n}$$\n",
    "\n",
    "..and substituting\n",
    "\n",
    "$$\\large \\bar{a} = \\frac{dv}{dt}\\hat{e_t}+ v\\omega \\hat{e_n} $$\n",
    "\n",
    "...substituting from (\\ref{eqn3})....\n",
    "\n",
    "$$\\large \\omega = \\frac{v}{\\rho}$$\n",
    "\n",
    "..gives...\n",
    "\n",
    "$$\\large \\bar{a} = \\frac{dv}{dt}\\hat{e_t}+ \\frac{v^2}{\\rho} \\hat{e_n} = \\frac{dv}{dt}\\hat{e_t}+ \\rho \\omega^2 \\hat{e_n}$$\n",
    "\n",
    "#### Consolidating Tools: Normal and Tangential Coords\n",
    "\n",
    "$$\\large \\bar{v} = \\frac{ds}{dt}\\hat{e_t} $$\n",
    "\n",
    ".$$\\large \\bar{a} = \\frac{dv}{dt}\\hat{e_t} + \\frac{v^2}{\\rho} \\hat{e_n} = \\frac{dv}{dt}\\hat{e_t} + \\rho \\omega^2 \\hat{e_n} $$\n",
    "\n",
    ".$$\\large \\bar{a} = a_t\\hat{e_t}+ a_n \\hat{e_n} $$\n",
    "\n",
    "where:\n",
    "\n",
    "$$\\large  a_t = \\frac{dv}{dt}, \\:  a_n = \\frac{v^2}{\\rho} = \\rho \\omega^2 $$"
   ]
  },
  {
   "cell_type": "markdown",
   "metadata": {},
   "source": [
    "***\n",
    "### Sample Problem: Normal and Tangential\n",
    "\n",
    ">In the design for an autonomous vehicle the tangential acceleration is set at 0.6 m/s2. The car starts from A on the track illustrated. \n",
    "\n",
    "<img src=\"https://raw.githubusercontent.com/smithrockmaker/ENGR212/master/images/carTrack.png\" />\n",
    "\n",
    "1. What is the vehicle's velocity and acceleration in normal and tangential components at B?\n",
    "\n",
    "\n",
    "\n",
    "[Solution](https://github.com/smithrockmaker/ENGR212/blob/main/documents/SampleProb2-3.pdf)\n",
    "***"
   ]
  },
  {
   "cell_type": "markdown",
   "metadata": {},
   "source": [
    "### Radius of Curvature (Instantaneous):\n",
    "\n",
    "In the case of planar motion there is a relatively compact way to calculate the radius of curvature of the path if you have a description of the path in Cartesian coordinates. Given a function y = y(x) that describes the path then $\\rho$ can be calculated using...\n",
    "\n",
    "$$\\large \\rho (x) = \\frac{[1+(\\frac{dy}{dx})^2]^{3/2}}{|\\frac{d^2y}{dx^2}|} $$\n",
    "\n",
    "This will give you a function of x that you can evaluate at a particular value of x to determine the radius of curvature at that point. This is also possible in 3D but we're not going there."
   ]
  },
  {
   "cell_type": "markdown",
   "metadata": {},
   "source": [
    "### Moving Between Cartesian and Normal/Tangential Coordinates:\n",
    "\n",
    "From time to time a problem which we solve in normal and tangential coordinates needs to be recast back to Cartesian coordinates to understand forces or velocities in the x and y directions. If we have a solution in normal and tangential coordinates we only have to transform the unit vectors since $a_t$ and $a_n$ are merely scalars. The following transformations will do the trick where $\\theta$ is the rotation of $\\hat{e}_t$ relative to the x axis.....\n",
    "\n",
    "$$\\large \\hat{e}_t  = cos(\\theta)\\: \\hat{i} + sin(\\theta)\\: \\hat{j}$$\n",
    "\n",
    ".$$\\large \\hat{e}_n  = -sin(\\theta)\\: \\hat{i} + cos(\\theta)\\: \\hat{j}$$"
   ]
  },
  {
   "cell_type": "markdown",
   "metadata": {},
   "source": [
    "### Special Case: Circular Motion\n",
    "\n",
    "In the case of circular motion $\\rho$ is a constant that is often labeled R. Please note the lovely opportunities for confusion with $\\bar{r}$, $\\rho$, and R. $\\bar{r}$ is the generalized position vector, $\\rho$ is the instantaneous radius of curvature, and R is the constant radius of a circle. \n",
    "\n",
    "If we go back through the description of $\\bar{v}$ and $\\bar{a}$ in normal and tangential coordinates and replace s with R$\\theta$ and $\\rho$ with R we get the following results....\n",
    "\n",
    "$$\\large s = R\\: \\theta$$\n",
    "\n",
    ".$$\\large \\bar{v} = v \\hat{e}_t \\:, \\: v = R \\frac{d\\theta}{dt}= r\\omega $$\n",
    "\n",
    ".$$\\large a_t = R \\frac{d\\omega}{dt} = r \\alpha \\: , \\: a_n = v\\frac{d\\theta}{dt} = \\frac{v^2}{R} = R\\omega^2$$\n",
    "\n",
    ".$$\\large \\bar{a} = a_t \\hat{e}_t + a_n \\hat{e}_n $$"
   ]
  },
  {
   "cell_type": "markdown",
   "metadata": {},
   "source": [
    "[Lecture 2: Class Discussion](https://www.youtube.com/watch?v=SOsM-LRYPsM&feature=youtu.be)"
   ]
  }
 ],
 "metadata": {
  "kernelspec": {
   "display_name": "Python 3 (ipykernel)",
   "language": "python",
   "name": "python3"
  },
  "language_info": {
   "codemirror_mode": {
    "name": "ipython",
    "version": 3
   },
   "file_extension": ".py",
   "mimetype": "text/x-python",
   "name": "python",
   "nbconvert_exporter": "python",
   "pygments_lexer": "ipython3",
   "version": "3.8.12"
  }
 },
 "nbformat": 4,
 "nbformat_minor": 4
}
