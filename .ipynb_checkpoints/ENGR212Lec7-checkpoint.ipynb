{
 "cells": [
  {
   "cell_type": "markdown",
   "metadata": {},
   "source": [
    "## ENGR 212 Lecture Notes\n",
    "\n",
    "### Lecture 7\n",
    "#### 15.1 - 15.2 in Bedford/Fowler\n",
    "\n",
    "I find myself bothered by a sense that almost all of the problems in this chapter can be done using only ideas from PH 211 over a year ago. I'm going to try and push on that a little. The primary difference between ENGR 212 and PH 211 is really just the complexity of the settings and the possibility of work done by forces which must be found by integration. \n",
    "\n",
    "### Notation:\n",
    "\n",
    "Energy is one of the places with the LEAST consistent notation across different texts and disciplines. In physics we usually start with W for work/energy, KE for Kinetic Energy, and PE for any form of Potential Energy. We quickly migrate to W, T (kinetic energy), and U (potential energy). Some folks prefer E, K, and U respectively. This text uses U for everything which is a bit unusual. I wish I could propose a better system but it can't happen. When energy is part of the discussion be very alert to possible alternate meanings for symbols.\n",
    "\n",
    "### Units: \n",
    "\n",
    "In SI units energy is measure in Joules = Newton meters (J = Nm). In engineering units energy is often measured in ft-lbs and we'll leave it at that. Power is measured in watts (W) or ft-lbs/s. Because it is a common anachronism 1 hp (horsepower) is 745.7 W if you need to convert.\n",
    "\n",
    "### Energy Bar Charts:\n",
    "\n",
    "Even though this text does not reference the idea of energy bar charts we will do so in every problem. I am working on a python notebook that might allow you to build your energy bar chart interactively which would be cool if I can get it working. \n",
    "\n",
    "### Conceptual Content:\n",
    "\n",
    "Energy is conserved is the basic statement. This broad statement can require more subtle interpretation as energy flows in or out of our defined system. Defining the boundaries of your system becomes very important as systems get more complicated.\n",
    "\n",
    "**Intial System Energy + Energy added or lost = Final System Energy**\n",
    "\n",
    "### Kinetic Energy:\n",
    "\n",
    "Both microscopically and macroscopically kinetic energy is given by \n",
    "\n",
    "$$\\large  KE = T = K = U = \\frac{1}{2} m v^2 $$\n",
    "\n",
    "Be careful.... we may have systems where the mass is changing\n",
    "\n",
    "### Potential Energy: Gravity\n",
    "\n",
    "If the force of gravity in a particular setting is reasonably constant so that 'g' = constant then....\n",
    "\n",
    "$$\\large PE_g = U_g = m g y$$\n",
    "\n",
    "It is important to note that because we are always interested in the change in energy you can pick a location (y) where $PE_g = 0$. Also important to note that this expression has an implicit expectation that 'up' is '+'. \n",
    "\n",
    "More generally the potential energy 'stored' in the gravitational field is given by....\n",
    "\n",
    "$$ \\large U_g = m g R_{E}^2 \\frac{1}{r}$$\n",
    "\n",
    "where g is the gravitational constant at the surface and r is the distance from the center of the 'earth'. This should strike you as very familiar from electrostatics where this is the same form as the electric potential V!\n",
    "\n",
    "### Potential Energy: Ideal Springs\n",
    "\n",
    "Applying the same tools to ideal springs where $F_s = - k x$  a quick integration leads to \n",
    "\n",
    "$$\\large PE_s = U_s = \\frac{1}{2}k \\Delta x^2$$\n",
    "\n",
    "where you know to be careful that $\\Delta x$ is the stretch or compression of the spring from it's relaxed length. Be alert to the possibility of springs whose forces do not satisfy Hooke's Law. These will need to be treated with more generality.\n"
   ]
  },
  {
   "cell_type": "markdown",
   "metadata": {},
   "source": [
    "## More Generally:\n",
    "\n",
    "### Work done by a Force:\n",
    "\n",
    "In PH 211 we described the 'work done' by a force as $W_F = F \\cdot \\Delta x$ when the force is constant in magnitude and direction. Be careful to note the irritating potential confusion of W for work with W for weight in lots of engineering problems. More generally we can express the energy moved by a force as an object moves from location 1 to location 2 ...\n",
    "\n",
    "$$ \\large W_{12} = U_{12} = W_{F_{12}} = \\int_1^2 \\bar{F} \\cdot d\\bar{r}$$\n",
    "\n",
    "where that is a vector dot product of $\\bar{F}$ and $d\\bar{r}$. All kinds of direction, coordinate systems, and component issues are possible here so be alert if you need to apply this tool. In this context the magnitude of the force may be constant but it's relationship to the path $r(t)$ may change. The force itself could be position dependent for any number of reasons. \n",
    "\n",
    "### Potential Energy and $W_F$\n",
    "\n",
    "If the potential energy function is known then one can just use it. If the Force in a problem does not have a known relationship to a potential energy function then use the expression above to figure out the work done without worrying about an unknown potential energy.\n",
    "\n",
    "In the event you find that the 'work done' by a particular force in your job only depends on the end points **AND** is independent of the path then the following definition of the potential energy applies. Otherwise it's irrelevant. \n",
    "\n",
    "$$ \\large U_{12} = -W_{F_{12}}$$\n",
    "\n"
   ]
  },
  {
   "cell_type": "markdown",
   "metadata": {},
   "source": [
    "## Power\n",
    "\n",
    "Power is an important idea given that we are often concerned about the rate at which we wish to change the energy of a system whether we are removing it to slow it down or adding it to speed it up. \n",
    "\n",
    "$$\\large P = \\frac{d}{dt} \\int_1^2 \\bar{F_{net}} \\cdot d\\bar{r} =\\frac{dW_{net}}{dt}$$\n",
    "\n",
    "This indicates that power is a rate and as such the power being delivered (or removed) and any moment is given by....\n",
    "\n",
    "$$\\large P_{instantaneous} = \\bar{F} \\cdot \\bar{v}$$\n",
    "\n",
    "and if we wish to think of averages across a process then...\n",
    "\n",
    "$$\\large P_{average} = \\frac{W_{net}}{\\Delta t}$$"
   ]
  },
  {
   "cell_type": "markdown",
   "metadata": {},
   "source": [
    "## Problem Solving:\n",
    "\n",
    "### Freebody Diagram\n",
    "\n",
    "We still need to start with a freebody diagram so that we can assess the potential contribution of each force to the movement of energy within and between the system and the environment. Take the time to be clear about the boundary of your system where energy is crossing that boundary.\n",
    "\n",
    "### Energy Bar Chart:\n",
    "\n",
    "Just do it.\n",
    "\n",
    "### Energy Conservation:\n",
    "\n",
    "Once you have the bar chart you can literally write down the equation representing conservation of energy and address each term in the expression independently. You may need to use Newton's Laws or kinematics to determine positions or forces but the energy conservation equation provides the framework for those calculations. \n",
    "\n",
    "### Math:)"
   ]
  },
  {
   "cell_type": "markdown",
   "metadata": {},
   "source": [
    "***\n",
    "### Sample Problem: normal/tangential\n",
    "\n",
    ">The disc is rotating in the horizontal plane at a constant angular velocity of 4 rad/s. The sides of the slot are 'smooth' and the string is aligned with the slot. Determine tension in the string as well as the direction and magnitude of the force on the slider ($m_{slider} = .5\\:$ kg) from the side of the slot.\n",
    "\n",
    "<img src=\"https://raw.githubusercontent.com/smithrockmaker/ENGR212/master/images/Sample6-1.png\" />\n",
    "\n",
    "[Solution](https://github.com/smithrockmaker/ENGR212/blob/main/documents/SampleProb6-1.pdf)\n",
    "***"
   ]
  },
  {
   "cell_type": "markdown",
   "metadata": {},
   "source": [
    "***\n",
    "### Sample Problem: normal/tangential\n",
    "\n",
    ">The mass is attached to a string which wraps around a pole which has a constant radius (like a tether ball pole). Initially the ball has a velocity of $v_0$. Assume the process is taking place in the horizontal plane so gravity or friction play no role. Find $\\theta (t)$.  \n",
    "\n",
    "<img src=\"https://raw.githubusercontent.com/smithrockmaker/ENGR212/master/images/Sample6-4.png\" />\n",
    "\n",
    "[Solution](https://github.com/smithrockmaker/ENGR212/blob/main/documents/SampleProb6-2.pdf)\n",
    "***"
   ]
  },
  {
   "cell_type": "markdown",
   "metadata": {},
   "source": [
    "***\n",
    "### Sample Problem: polar\n",
    "\n",
    ">A 2 kg mass rests of a flat horizontal bar. The bar rotates in the vertical plane (gravity is a factor) with a constant angular acceleration of $\\alpha = 1\\: rad/s^2$. The mass starts slipping when the bar is $30^{\\circ}$ above the initial orientation. What is the static coefficient of friction and which way does the mass slip?\n",
    "\n",
    "<img src=\"https://raw.githubusercontent.com/smithrockmaker/ENGR212/master/images/Sample6-3.png\" />\n",
    "\n",
    "[Solution](https://github.com/smithrockmaker/ENGR212/blob/main/documents/SampleProb6-3.pdf)\n",
    "***"
   ]
  },
  {
   "cell_type": "markdown",
   "metadata": {},
   "source": [
    "***\n",
    "### Sample Problem: polar\n",
    "\n",
    ">The 110 g slider is pushed along the circular bar because it is captured in the rotating slotted bar. The apparatus is oriented in the vertical plane. The position of the slotted bar is given by $\\theta = 10 t^2$ rad. What are the polar components of the force on the slider due to the two bars?\n",
    "\n",
    "<img src=\"https://raw.githubusercontent.com/smithrockmaker/ENGR212/master/images/Sample6-2.png\" />\n",
    "\n",
    "[Solution](https://github.com/smithrockmaker/ENGR212/blob/main/documents/Sample6-4.pdf)\n",
    "***"
   ]
  },
  {
   "cell_type": "markdown",
   "metadata": {},
   "source": [
    "$$\\large \\bf{i} = \\hat{i} = \\bf{e_x} = \\hat{e}_x $$"
   ]
  },
  {
   "cell_type": "code",
   "execution_count": null,
   "metadata": {},
   "outputs": [],
   "source": []
  }
 ],
 "metadata": {
  "kernelspec": {
   "display_name": "Python 3",
   "language": "python",
   "name": "python3"
  },
  "language_info": {
   "codemirror_mode": {
    "name": "ipython",
    "version": 3
   },
   "file_extension": ".py",
   "mimetype": "text/x-python",
   "name": "python",
   "nbconvert_exporter": "python",
   "pygments_lexer": "ipython3",
   "version": "3.8.5"
  }
 },
 "nbformat": 4,
 "nbformat_minor": 4
}
