{
 "cells": [
  {
   "cell_type": "markdown",
   "metadata": {},
   "source": [
    "## ENGR 212 Content\n",
    "### Daily Map\n",
    "\n",
    "#### 2021"
   ]
  },
  {
   "cell_type": "markdown",
   "metadata": {},
   "source": [
    "### Week 1\n",
    "\n",
    "**HW 1** (due week 2) HW 1 contains problems from sections 13.1 to 13.4. Problems from section 13.3 are most challenging for students.  \n",
    "(13.2) 13.10 t dependence  \n",
    "(13.2) 13.11 t dependence   \n",
    "(13.2) 13.22 t dependence  \n",
    "(13.3) 13.60 s dependence  \n",
    "(13.3) 13.63 s dependence  \n",
    "(13.4) 13.74 projectile  \n",
    "(13.4) MIT \\#1 projectile  \n",
    "\n",
    "#### Day 1:\n",
    "\n",
    "Sections 13.1 - 13.3\n",
    "\n",
    "RP1: Duck: t dependent\n",
    "\n",
    "#### Day 2:\n",
    "\n",
    "Sections 13.4 - 13.6 - quick through 13.4, 13.5 is angular variables, 13.6 is the challenging and important development section of normal and tangential variables. This last section is the challenge for students.\n",
    "\n",
    "RP2: Golf Ball: Cartesian Projectile"
   ]
  },
  {
   "cell_type": "markdown",
   "metadata": {},
   "source": [
    "### Week 2\n",
    "\n",
    "**HW 2** (due week 3) HW 2 contains problems from sections 13.5 to 13.8. Problems from section 13.6/7 are challenging for students and need particular attention. 13.8 is relative motion and is often challenging in a different way but responds well to careful labeling.  \n",
    "(13.5) 13.108 angular  \n",
    "(13.6) 13.132 n/t  \n",
    "(13.7) 13.140 polar  \n",
    "(13.7) 13.154 polar  \n",
    "(13.7) 13.160 cylindrical  \n",
    "(13.8) 13.168 relative  \n",
    "\n",
    "#### Day 1:\n",
    "\n",
    "Sections 13.7 - 13.8 Polar Coordinates and cylindrical coordinates\n",
    "\n",
    "RP3: Crane: Polar\n",
    "\n",
    "#### Day 2:\n",
    "\n",
    "Sections 14.1 - 14.2 - quick through 14.1 - Newton's Law, 14.2 is applications where the student challenge is working with constrained behavior. This also the interesting part.\n",
    "\n",
    "RP4: Airplane: Cylindrical"
   ]
  },
  {
   "cell_type": "markdown",
   "metadata": {},
   "source": [
    "### Week 3\n",
    "\n",
    "**HW 3** (due at midterm) HW 3 contains problems from sections 14.1 to 14.4. Problems from sections 14.2 and 14.3 are challenging for students and need particular attention.   \n",
    "(14.2) 14.9 Linear/Cartesian  \n",
    "(14.2) 14.52 Linear/Cartesian  \n",
    "(14.3) 14.70 normal/tangential  \n",
    "(14.3) 14.83 normal/tangential  \n",
    "(14.4) 14.99 polar    \n",
    "(14.4) 14.103 polar     \n",
    "\n",
    "\n",
    "#### Day 1:\n",
    "\n",
    "MLK Holiday!!\n",
    "\n",
    "#### Day 2:\n",
    "\n",
    "Sections 14.3 - 14.4 - quick through 14.3 - Newton's Law in normal/tangential, 14.4 - Newton's Law in polar and cylindrical. It would be lovely to get to 14.5 Orbital Mechanics but time is usually too short.\n",
    "\n",
    "RP 5: Rocket Ship: v dependent forces, fix this problem"
   ]
  },
  {
   "cell_type": "markdown",
   "metadata": {},
   "source": [
    "### Week 4\n",
    "\n",
    "**Midterm:** Through HW 3: Chapters 13 and 14\n",
    "\n",
    "#### Day 1:\n",
    "\n",
    "Review\n",
    "\n",
    "#### Day 2:\n",
    "\n",
    "Midterm"
   ]
  },
  {
   "cell_type": "markdown",
   "metadata": {},
   "source": [
    "### Week 5\n",
    "\n",
    "**HW 4** HW 4 contains problems from sections 15.1 to 15.3. Problems from sections 15.2 and 15.3 can be challenging for students. Energy bar charts and attention to geometry are the tools and need more practice. \n",
    "(15.1) 15.20/21 gas gun \n",
    "(15.2) 15.48 dome\n",
    "(15.2) 15.57 spring/slider\n",
    "(15.2) 15.65 spring/slider \n",
    "(15.3) 15.84 pendulum\n",
    "(15.3) 15.92\n",
    "\n",
    "#### Day 1:\n",
    "\n",
    "Sec 15.1 - 15.2\n",
    "\n",
    "Samples \n",
    "14.93 from previous chapter\n",
    "15.55 springs/weight max v\n",
    "\n",
    "RP 6: Pole Vaulter\n",
    "\n",
    "#### Day 2:\n",
    "\n",
    "Sec 15.3\n",
    "\n",
    "Sample 15.100\n",
    "\n",
    "RP 7: Need a new one here. 15.138??"
   ]
  },
  {
   "cell_type": "markdown",
   "metadata": {},
   "source": [
    "### Week 6\n",
    "\n",
    "**HW 5** HW 5 contains problems from sections 16.1 to 16.3. Students need more practice with 2D momentum problems..   \n",
    "(16.1) 16.?  \n",
    "(16.1) 16.?  \n",
    "(16.1) 16.?   \n",
    "(16.1) 16.? \n",
    "(16.1) 16.?    \n",
    "(16.1) 16.? \n",
    "\n",
    "#### Day 1:\n",
    "\n",
    "Sec 16.??\n",
    "\n",
    "RP 8:\n",
    "\n",
    "#### Day 2:\n",
    "\n",
    "Sec 16.??\n",
    "\n",
    "RP 9:"
   ]
  },
  {
   "cell_type": "markdown",
   "metadata": {},
   "source": []
  },
  {
   "cell_type": "code",
   "execution_count": null,
   "metadata": {},
   "outputs": [],
   "source": []
  }
 ],
 "metadata": {
  "kernelspec": {
   "display_name": "Python 3",
   "language": "python",
   "name": "python3"
  },
  "language_info": {
   "codemirror_mode": {
    "name": "ipython",
    "version": 3
   },
   "file_extension": ".py",
   "mimetype": "text/x-python",
   "name": "python",
   "nbconvert_exporter": "python",
   "pygments_lexer": "ipython3",
   "version": "3.8.5"
  }
 },
 "nbformat": 4,
 "nbformat_minor": 4
}
