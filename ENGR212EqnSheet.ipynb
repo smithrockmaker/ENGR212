{
 "cells": [
  {
   "cell_type": "markdown",
   "metadata": {},
   "source": [
    "## Equation Sheet for ENGR 212\n",
    "\n",
    "There are a remarkable number of mathematical expressions which relate different representations of the movement of an object with different dependent variables and in different coordinate systems. This equation 'book' is an effort to provide you with the tools. For the sake of your own learning feel free to reorganize but do NOT add examples or explanations. Identifying what terms mean seems acceptable."
   ]
  },
  {
   "cell_type": "markdown",
   "metadata": {},
   "source": [
    "### Linear and Angular Versions:\n",
    "\n",
    "All of the kinematic relationships between a, v, and s as equally true if you make the following substitutions. These substitutions are left out to avoid excessive visual clutter in this equation sheet.\n",
    "\n",
    ".$$\\large  s \\longrightarrow \\theta$$\n",
    "\n",
    ".$$\\large  v \\longrightarrow \\omega $$\n",
    "\n",
    ".$$\\large   a \\longrightarrow \\alpha $$\n",
    "\n"
   ]
  },
  {
   "cell_type": "markdown",
   "metadata": {},
   "source": [
    "### Time Dependent Kinematics:\n",
    "\n",
    ". $$\\large v(t) = \\frac{ds(t)}{dt}$$"
   ]
  },
  {
   "cell_type": "markdown",
   "metadata": {},
   "source": [
    ".$$ \\large a(t) = \\frac{dv(t)}{dt}$$"
   ]
  },
  {
   "cell_type": "markdown",
   "metadata": {},
   "source": [
    ".$$ \\large \\int_{t_0}^{t_f} a(t)\\: dt = \\int_{v_0}^{v_f} dv $$"
   ]
  },
  {
   "cell_type": "markdown",
   "metadata": {},
   "source": [
    ".$$ \\large \\int_{v_0}^{v_f} v(t)\\: dt = \\int_{s_0}^{s_f} ds $$"
   ]
  },
  {
   "cell_type": "markdown",
   "metadata": {},
   "source": [
    "### Position Dependent Kinematics:\n",
    "\n",
    ". $$\\large v(s) = \\frac{ds}{dt} \\implies \\int_{t_0}^{t_f} dt = \\int_{s_0}^{s_f} \\frac{ds}{v(s)}$$\n",
    "\n",
    ".$$\\large a(s) = \\frac{dv}{dt} = \\frac{dv}{ds}\\frac{ds}{dt} = v \\frac{dv}{ds}$$\n",
    "\n",
    ".$$\\large \\implies \\int_{s_0}^{s_f} a(s)\\: ds = \\int_{v_0}^{v_f} v\\: dv$$"
   ]
  },
  {
   "cell_type": "markdown",
   "metadata": {},
   "source": [
    "### Velocity Dependent Kinematics:\n",
    "\n",
    "$$\\large\\int_{t_0}^{t}{dt} = \\int_{v(t=t_0) = v_0}^{v(t) = v}{\\frac{dv}{a(v)}} = \\int_{v_0}^{v}{\\frac{dv}{a(v)}}$$\n",
    "\n",
    "$$\\large \\int_{s_0}^{s}{ds} = \\int_{v(s=s_0) = v_0}^{v(s) = v}{\\frac{v \\: dv}{a(v)}} = \\int_{v_0}^{v}{\\frac{v \\: dv}{a(v)}}$$\n",
    "\n"
   ]
  },
  {
   "cell_type": "markdown",
   "metadata": {},
   "source": [
    "### When a = constant:\n",
    "\n",
    ".$$ \\large \\int_{t_0}^{t_f} a_c\\: dt = \\int_{v_0}^{v_f} dv \\implies v(t) = v_0 + a_c(t-t_0)$$\n",
    "\n",
    ".$$ \\large \\int_{t_0}^{t_f} v(t)\\: dt = \\int_{t_0}^{t_f}[v_0 + a_c(t-t_0)] dt =\\int_{s_0}^{s_f} ds \\implies$$\n",
    "\n",
    ".$$ \\large s(t) = s_0 + v_0 (t -- t_0) + \\frac{1}{2} a_c (t - t_0)^2$$\n",
    "\n",
    "combining gives..\n",
    "\n",
    ".$$ \\large v(t)^2 = v_0^2 + 2 a_c (s - s_0)$$"
   ]
  },
  {
   "cell_type": "markdown",
   "metadata": {},
   "source": [
    "### Angular Relationships\n",
    "\n",
    ".$$\\large  s_{along\\: path} \\longrightarrow \\theta , \\: \\: s = \\rho \\theta$$\n",
    "\n",
    ".$$\\large  v_t\\: or\\: v_{\\theta} \\longrightarrow \\omega , \\:\\: v_t = \\rho \\omega, \\:\\: \\omega = \\frac{d\\theta}{dt}$$\n",
    "\n",
    ".$$\\large   a_t\\: or\\: a_{\\theta} \\longrightarrow \\alpha , \\: \\:a_t = \\rho \\alpha,\\:\\: \\alpha = \\frac{d\\omega}{dt} = \\frac{d^2\\theta}{dt^2}$$\n"
   ]
  },
  {
   "cell_type": "markdown",
   "metadata": {},
   "source": [
    "### Curvilinear Motion: Linear Motion\n",
    "\n",
    "Because $\\hat{e}$ is along a line all the previous relationships and possible dependences apply.\n",
    "\n",
    ".$$ \\large \\bar{r} = s\\hat{e} \\: and \\: \\frac{d\\hat{e}}{dt} = 0$$\n",
    "\n",
    ".$$ \\large \\bar{v} = \\frac{d\\bar{r}}{dt}= \\frac{ds}{dt}\\hat{e} = v \\: \\hat{e}$$\n",
    "\n",
    ".$$ \\large \\bar{a} = \\frac{d(v \\hat{e})}{dt}= \\frac{dv}{dt}\\hat{e} = a \\: \\hat{e}$$"
   ]
  },
  {
   "cell_type": "markdown",
   "metadata": {},
   "source": [
    "### Curvilinear Motion: Cartesian Coordinates\n",
    "\n",
    "Each axis is a linear kinematics problem using tools from the  first 4 sections.\n",
    "\n",
    ".$$ \\large \\bar{r} = x\\hat{i} + y\\hat{j} + z\\hat{k} = 0 \\:and \\:\\frac{d[\\hat{i},\\hat{j},\\hat{k}]}\n",
    "{dt} = 0$$\n",
    "\n",
    ".$$ \\large \\bar{v} = \\frac{d\\bar{r}}{dt}= \\frac{dx}{dt}\\hat{i} + \\frac{dy}{dt}\\hat{j} + \\frac{dz}{dt}\\hat{k} = 0 $$\n",
    "\n",
    "\n",
    ".$$ \\large \\bar{v} = v_x\\hat{i} + v_y\\hat{j} + v_z\\hat{k} $$\n",
    "\n",
    "\n",
    ".$$ \\large \\bar{a} = \\frac{d\\bar{v}}{dt}= \\frac{dv_x}{dt}\\hat{i} + \\frac{dv_y}{dt}\\hat{j} + \\frac{dv_z}{dt}\\hat{k} = 0 $$\n",
    "\n",
    "\n",
    ".$$ \\large \\bar{a} = a_x\\hat{i} + a_y\\hat{j} + a_z\\hat{k} $$"
   ]
  },
  {
   "cell_type": "markdown",
   "metadata": {},
   "source": [
    "### Curvilinear Motion: Normal and Tangential\n",
    "\n",
    "Normal and tangential unit vectors can be $\\hat{n}$ or $\\hat{e}_n$ and $\\hat{t}$ or $\\hat{e}_t$. Velocity is always in $\\hat{e}_t$ direction and $\\rho$ is the radius of curvature of the path at a point.\n",
    "\n",
    ".$$ \\large \\frac{d\\hat{e}_t}{dt} = \\frac{d\\theta}{dt}\\hat{e}_n = \\omega\\: \\hat{e}_n$$\n",
    "\n",
    ".$$ \\large \\bar{v} = \\frac{d\\bar{r}}{dt}= v_t \\: \\hat{e}_t = \\frac{ds}{dt}\\hat{e}_t$$\n",
    "\n",
    ".$$ \\large \\bar{a} = \\frac{d\\bar{v}}{dt}= \\frac{dv}{dt} \\hat{e}_t + v\\: \\frac{d\\hat{e}_t}{dt} = \\frac{dv}{dt} \\hat{e}_t + v\\: \\frac{d\\theta}{dt}\\hat{e}_n$$\n",
    "\n",
    ".$$ \\large a_t = \\frac{dv}{dt} , \\: a_n = v\\: \\frac{d\\theta}{dt} = \\frac{v^2}{\\rho} = \\rho\\: \\omega^2 $$"
   ]
  },
  {
   "cell_type": "markdown",
   "metadata": {},
   "source": [
    "### Curvilinear Motion: Polar Coordinates\n",
    "\n",
    "Radial and angular unit vectors can be $\\hat{r}$ or $\\hat{e}_r$ and $\\hat{\\theta}$ or $\\hat{e}_{\\theta}$. \n",
    "\n",
    ".$$\\large \\bar{r} = r\\hat{e}_r$$\n",
    "\n",
    ".$$\\large \\bar{v}_{polar} = \\frac{dr}{dt}\\hat{e}_r+ r \\omega \\hat{e}_{\\theta} = v_r \\hat{e}_r + v_{\\theta}\\hat{e}_{\\theta}$$\n",
    "\n",
    ".$$\\large \\bar{a} = [\\frac{d^2r}{dt^2} - r\\:(\\frac{d\\theta}{dt})^2]\\hat{e}_r + [r\\frac{d^2\\theta}{dt^2} + 2\\frac{dr}{dt}\\frac{d\\theta}{dt}]\\hat{e}_{\\theta}$$\n",
    "\n",
    ".$$\\large \\bar{a} = a_r\\hat{e}_r +a_{\\theta}\\hat{e}_{\\theta}$$\n",
    "\n",
    "...where\n",
    "\n",
    ".$$\\large a_r = \\frac{d^2r}{dt^2} - r\\:(\\frac{d\\theta}{dt})^2 = \\frac{d^2r}{dt^2} - r\\omega^2$$\n",
    "\n",
    "...and...\n",
    "\n",
    ".$$\\large a_{\\theta}= r\\frac{d^2\\theta}{dt^2} + 2\\frac{dr}{dt}\\frac{d\\theta}{dt} = r\\alpha + 2\\frac{dr}{dt}\\omega$$\n",
    "\n",
    "#### converting back to cartesian\n",
    "\n",
    "Substitute and gather terms...\n",
    "\n",
    ".$$\\large \\hat{e}_r = cos(\\theta) \\:\\hat{i} + sin(\\theta)\\: \\hat{j} $$\n",
    "\n",
    ".$$\\large \\hat{e}_{\\theta} = -sin(\\theta)\\: \\hat{i} + cos(\\theta)\\: \\hat{j} $$\n"
   ]
  },
  {
   "cell_type": "markdown",
   "metadata": {},
   "source": [
    "### Curvilinear Motion: Circular (in Polar Coord)\n",
    "\n",
    "$\\frac{dr}{dt} = 0$ so a number of terms go away...\n",
    "\n",
    ".$$\\large \\bar{v}_{circular} = r \\:\\omega \\: \\hat{e}_{\\theta} $$\n",
    "\n",
    ".$$\\large \\bar{a}_{circular} = - r\\:(\\frac{d\\theta}{dt})^2\\:\\hat{e}_r + r \\:\\frac{d^2\\theta}{dt^2}\\:\\hat{e}_{\\theta} = -r \\:\\omega^2\\:\\hat{e}_r + r\\:\\alpha \\:\\hat{e}_{\\theta}$$"
   ]
  },
  {
   "cell_type": "markdown",
   "metadata": {},
   "source": [
    "### Curvilinear Motion: Cylindrical (polar + z)\n",
    "\n",
    "Many problems where cylindrical coords are useful are 'circular' motion with z which means $\\frac{dr}{dt} = 0 $ which distinctly simplifies things.\n",
    "\n",
    ".$$ \\large \\bar{r} = r\\: \\hat{e}_r + z\\: \\hat{e}_z $$\n",
    "\n",
    ".$$\\large \\bar{v}_{cylindrical} = \\frac{dr}{dt}\\hat{e}_r+ r \\omega \\hat{e}_{\\theta} + \\frac{dz}{dt} \\: \\hat{e}_z =r \\omega \\hat{e}_{\\theta} + \\frac{dz}{dt} \\: \\hat{e}_z$$\n",
    "\n",
    ".$$\\large \\bar{a}_{cylindrical} = [\\frac{d^2r}{dt^2} - r\\: \\omega^2]\\hat{e}_r + [r\\: \\alpha + 2\\frac{dr}{dt}\\omega]\\hat{e}_{\\theta} + \\frac{d^2z}{dt^2} \\: \\hat{e}_z = -r\\: \\omega^2\\hat{e}_r + r\\: \\alpha \\hat{e}_{\\theta} + \\frac{d^2z}{dt^2} \\: \\hat{e}_z$$"
   ]
  },
  {
   "cell_type": "markdown",
   "metadata": {},
   "source": [
    "### Newton's Laws/Center of Mass\n",
    "\n",
    "For discrete masses or simple blocks:(repeat along each axis)\n",
    "\n",
    "$$\\large \\bar{x}_{cm} = \\frac{\\sum_{i} m_i\\: \\bar{x}_i}{\\sum_{i}m_i = m_{total}} = \\frac{\\sum_{i} m_i\\: \\bar{x}_i}{m}$$\n",
    "\n",
    "For continuously varying distributions of mass: (repeat along each axis)\n",
    "\n",
    "$$\\large \\bar{x}_{cm} = \\frac{\\int x \\: dm(x) }{\\int dm(x) }$$\n",
    "\n",
    "Newton's 2nd Applied to CM: \n",
    "\n",
    ".$$\\large F_{net} = \\sum_{i} F_i = m\\bar{a}_{cm} $$"
   ]
  },
  {
   "cell_type": "markdown",
   "metadata": {},
   "source": [
    "### Work/Energy\n",
    "\n",
    ".$$ \\large W_{12} = U_{12} = W_{F_{12}} = \\int_1^2 \\bar{F} \\cdot d\\bar{r}$$\n",
    "\n",
    ".$$\\large  KE = T = K = U = \\frac{1}{2} m v^2 $$\n",
    "\n",
    ".$$\\large PE_g = U_g = m g y$$\n",
    "\n",
    ".$$ \\large U_g = m g R_{E}^2 \\frac{1}{r}$$\n",
    "\n",
    ".$$\\large PE_s = U_s = \\frac{1}{2}k \\Delta x^2$$\n",
    "\n",
    ".$$ \\large U_{12} = -W_{F_{12}}$$\n",
    "\n",
    ".$$\\large P = \\frac{d}{dt} \\int_1^2 \\bar{F_{net}} \\cdot d\\bar{r} =\\frac{dW_{net}}{dt}$$\n",
    "\n",
    ".$$\\large P_{instantaneous} = \\bar{F} \\cdot \\bar{v}$$\n",
    "\n",
    ".$$\\large P_{average} = \\frac{W_{net}}{\\Delta t}$$"
   ]
  },
  {
   "cell_type": "markdown",
   "metadata": {},
   "source": [
    "### Impulse and Momentum\n",
    "\n",
    ".$$\\large \\int_{t_0}^{t_f}\\bar{F}_{net} dt = \\bar{F}_{ave}(t_f -t_0) = \\Delta \\bar{p}$$\n",
    "\n",
    ".$$\\large \\int_{t_0}^{t_f}\\bar{F}_{net_{system}} dt =  \\Delta \\bar{p}_{system} $$ \n",
    "\n",
    ".$$\\large \\bar{p}_{1_0} + \\bar{p}_{2_0} + ....\\bar{p}_{N_0} = \\bar{p}_{1_f} + \\bar{p}_{2_f} + ....\\bar{p}_{N_f} $$ \n",
    "\n",
    ".$$\\large e = \\frac{|v_{2_f} - v_{1_f}|}{|v_{1_0} - v_{2_0}|}$$\n",
    "\n",
    ".$$ \\large e = 1 \\implies elastic\\:; \\: e = 0 \\implies inelastic$$\n"
   ]
  },
  {
   "cell_type": "code",
   "execution_count": null,
   "metadata": {},
   "outputs": [],
   "source": []
  }
 ],
 "metadata": {
  "kernelspec": {
   "display_name": "Python 3 (ipykernel)",
   "language": "python",
   "name": "python3"
  },
  "language_info": {
   "codemirror_mode": {
    "name": "ipython",
    "version": 3
   },
   "file_extension": ".py",
   "mimetype": "text/x-python",
   "name": "python",
   "nbconvert_exporter": "python",
   "pygments_lexer": "ipython3",
   "version": "3.8.12"
  }
 },
 "nbformat": 4,
 "nbformat_minor": 4
}
