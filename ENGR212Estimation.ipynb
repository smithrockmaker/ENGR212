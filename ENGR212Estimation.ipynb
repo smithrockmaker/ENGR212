{
 "cells": [
  {
   "cell_type": "markdown",
   "metadata": {},
   "source": [
    "## ENGR 212 Lecture Notes\n",
    "\n",
    "### Estimation\n",
    "#### A Set of Approaches"
   ]
  },
  {
   "cell_type": "markdown",
   "metadata": {},
   "source": [
    "### Why Estimation? \n",
    "\n",
    "#### A Reminder\n",
    "\n",
    "In every class where estimation skills have been an explicit part of the learning expectation they are also a significant challenge for students. It seems respectful to spend a moment discussing the potential value to the student created by learning to be a more successful estimator. I was considering drawing some quotes from some of my favorite estimators and realized that I have already done this for my PH211 class. I hope you find it a useful reminder of why the skill of estimation is valued in engineering and science.\n",
    "\n",
    "[PH 211 Estimation Discussion](http://coccweb.cocc.edu/bemerson/PhysicsGlobal/Courses/PH211/PH211Materials/PH211Breadcrumb/PH211BCEstimation.html)\n",
    "\n",
    "#### Case in Point: Deepwater Horizon Spill\n",
    "\n",
    "In May 2010 there was a serious accident on an oil platform in the Gulf of Mexico that resulted in a ruptured pipe on the sea floor that was leaking oil and natural gas continuously. BP, the owner of the destroyed platform estimate the leak to be a few thousand barrels of oil/day. While that's a lot of oil it's not really a lot when compared to other oil spills. A few days later a video of the leak surfaced and a number of folks used their well developed estimation skills and came up with estimates that were 20 to 50 times greater which suggested that this was a much more serious event. Here is the video for your consideration. It was known from various resources that the pipe in the image is 20 - 24 inches in diameter.\n",
    "\n",
    "[BP Deep Horizon Leak](https://www.youtube.com/watch?v=EJ91G3e0OBQ)\n",
    "\n",
    "Here is the [NPR story](https://www.npr.org/templates/story/story.php?storyId=126809525) that brought out these very different estimates. BP continued to assert for days that the volume of the spill was the smaller number and there was nothing to worry about. It turns out that, in fact, the estimates were very close and BP was seriously wrong. Because of the multiple effective estimations the conversation was changed and the level of attention from the public and the government ramped up dramatically and appropriately to cope with the largest oil spill on record (still the largest in 2021) 200+ million gallons of oil. Without the excellent work of the 'estimators' there would have been a much more tepid response to this disaster.\n"
   ]
  },
  {
   "cell_type": "markdown",
   "metadata": {},
   "source": [
    "### Simplify, Simplify\n",
    "\n",
    "In the first recitation problem the acceleration of the duck is given as $a = C(1+sin(18t))$. The boundary conditions are that the duck goes from 0  to 20 '/s (takeoff speed) in 1.36 s.  What can we do to estimate both C and the distance over which the duck takes off?\n",
    "\n",
    "A primary tool for estimation is to simplify everything as much as possible. The acceleration in this case is a periodic function which is hard to work with. How can we simplify it?\n",
    "\n",
    "#### Simplify Values:\n",
    "\n",
    "Any estimates we make should substitute values that are simpler to work with in our heads or even quickly on paper. 1.36 s $\\approx$ 1.5 s = 3/2 s. The sine function completes a cycle when the argument = $2\\pi$ so that implies $18 t = 2 \\pi = 6$. That means t for a complete cycle (the period T) is 1/3 s which also means the frequency is 3 'flaps'/s. All seems pretty reasonable. If the math had been more complex I would have changed the 18 to a 20 if needed but under the circumstances 18 divides by 6 nicely.\n",
    "\n",
    "#### Average Behavior: Conceptual\n",
    "\n",
    "If we know $v_0$ and $v_f$ and the time we should be able to get a sense of the average acceleration since \n",
    "\n",
    "$$ a_{ave} = \\frac{\\Delta v}{\\Delta t}$$\n",
    "\n",
    "Using our simplified numbers \n",
    "\n",
    "$$ a_{ave} = \\frac{20}{1.5 = 3/2} = (20)(2/3) = 13 '/s^2$$\n",
    "\n",
    "What about $v_{ave}$? If the duck goes from 0 to 20 '/s then the average is about half that so $v_{ave} = 10 '/s$. Going 10 '/s for 1.5 s (the meaning of average) means the duck takes about 15 feet to take off.\n",
    "\n",
    "#### Find min, max, and average of complex terms\n",
    "\n",
    "A quick examination of the acceleration function tells us that the $(1+sin(18t))$ part varies between between 0 and 2. That means the minimum acceleration is 0 and the maximum is 2C. The O doesn't tell us much but the 2C could be useful.\n",
    "\n",
    "If we think about the graph of the sine function we would expect the average value of $(1+sing(18t))$ to be 1 (ranges from 0 to 2) $a_{ave} \\approx$ C.\n",
    "\n",
    "From our previous discussion if we take $a_{max} = 13 '/s = 2C$ then C is about $7 '/s^2$. If we take $a_{ave} = 13 '/s = C$ then C is $13 '/s^2$ . This suggests that C is greater than $7 '/s^2$ and probably around $13 '/s^2$\n"
   ]
  },
  {
   "cell_type": "markdown",
   "metadata": {},
   "source": [
    "### (future suggestions)"
   ]
  },
  {
   "cell_type": "markdown",
   "metadata": {},
   "source": []
  }
 ],
 "metadata": {
  "kernelspec": {
   "display_name": "Python 3 (ipykernel)",
   "language": "python",
   "name": "python3"
  },
  "language_info": {
   "codemirror_mode": {
    "name": "ipython",
    "version": 3
   },
   "file_extension": ".py",
   "mimetype": "text/x-python",
   "name": "python",
   "nbconvert_exporter": "python",
   "pygments_lexer": "ipython3",
   "version": "3.7.11"
  }
 },
 "nbformat": 4,
 "nbformat_minor": 4
}
