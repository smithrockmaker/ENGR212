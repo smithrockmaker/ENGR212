{
 "cells": [
  {
   "cell_type": "markdown",
   "metadata": {},
   "source": [
    "## ENGR Dynamics: Exam 1 Review\n",
    "\n",
    "### 1/21\n",
    "\n",
    "Various links to video and other resources to support your review for the exam.\n"
   ]
  },
  {
   "cell_type": "markdown",
   "metadata": {},
   "source": [
    "#### Recitation Problem 5: RP 5\n",
    "\n",
    "This is actually from CH14 which is NOT on the test but it has a clear polar coordinate focus and seemed to be helpful.\n",
    "\n",
    "[RP5](https://www.youtube.com/watch?v=2uS0kod32ao&feature=youtu.be)"
   ]
  },
  {
   "cell_type": "markdown",
   "metadata": {},
   "source": [
    "#### HW 2: 154\n",
    "\n",
    "This problem is framed in polar coordinates due to the rotation of the slotted bar with a constraint on the pin that is traveling at constant velocity in $\\hat{j}$ direction. The general focus is to determine the components of the velocity and acceleration in polar coordinates by taking it one term at a time. There are a variety of ways to work through this problem. This is just one....\n",
    "\n",
    "[Polar Coordinates: Constrained](https://www.youtube.com/watch?v=cOAVDy4VPEQ&feature=youtu.be)"
   ]
  },
  {
   "cell_type": "markdown",
   "metadata": {},
   "source": [
    "#### Exam Review: Polar Coordinates: Kinematics\n",
    "\n",
    "This problem looks intimidating because of the geometry but we are given $r(\\theta)$ so we have some tools to try to sort out the terms of velocity and acceleration in polar coordinatees. The problem(s) give us critically useful bits of information about $\\omega$ and $\\alpha$ that seriously simplify our lives.\n",
    "\n",
    "[Circular Hoop]( https://youtu.be/cms3uFIMHrk )\n"
   ]
  },
  {
   "cell_type": "code",
   "execution_count": null,
   "metadata": {},
   "outputs": [],
   "source": []
  }
 ],
 "metadata": {
  "kernelspec": {
   "display_name": "Python 3 (ipykernel)",
   "language": "python",
   "name": "python3"
  },
  "language_info": {
   "codemirror_mode": {
    "name": "ipython",
    "version": 3
   },
   "file_extension": ".py",
   "mimetype": "text/x-python",
   "name": "python",
   "nbconvert_exporter": "python",
   "pygments_lexer": "ipython3",
   "version": "3.9.7"
  }
 },
 "nbformat": 4,
 "nbformat_minor": 4
}
