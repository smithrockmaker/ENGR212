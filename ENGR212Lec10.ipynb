{
 "cells": [
  {
   "cell_type": "markdown",
   "metadata": {},
   "source": [
    "## ENGR 212 Lecture Notes\n",
    "\n",
    "### Lecture 10\n",
    "#### 16.3 - 16.4 in Bedford/Fowler\n",
    "\n",
    "This lecture introduces new concepts which build on momentum. They are angular momentum (the spinny version of momentum) and momentum applied to systems where there is mass flow or change.\n"
   ]
  },
  {
   "cell_type": "markdown",
   "metadata": {},
   "source": [
    "### Angular Momentum\n",
    "\n",
    "If we return to the basic statement of Newton's 2nd Law for an object with a constant mass we might write....\n",
    "\n",
    ".$$\\large \\bar{F}_{net} = m\\: \\frac{d\\bar{v}}{dt}$$  \n",
    "\n",
    "### Torque/Moment\n",
    "\n",
    "As you saw in ENGR 211 the torque or moment produces by a force acting at a distance from a pivot point is given by...\n",
    "\n",
    ".$$ \\bar{M}_A = \\bar{r}_A \\times \\bar{F}$$\n",
    "\n",
    "where you may or may not have noticed that the moment is a vector. In many of the problems from ENGR 211 the forces are planar which means the vector M is either out of the page (+) or into the page (-). The expression above is more general and applies in 3D as well.\n",
    "\n",
    "Following this idea we take the cross product of the position vector of the center of mass with the net force $\\bar{F}_{net}$ we get...\n",
    "\n",
    ".$$\\large \\bar{r} \\times \\bar{F}_{net} = \\bar{r} \\times (m\\: \\frac{d\\bar{v}}{dt})$$ \n",
    "\n",
    "which suggests we might think about the following derivative (why?)..\n",
    "\n",
    ".$$\\large \\frac{d}{dt}(\\bar{r} \\times (m\\:\\bar{v})) = (\\frac{d\\bar{r}}{dt} \\times m\\bar{v}) + (\\bar{r} \\times m\\frac{d\\bar{v}}{dt})$$ \n",
    "\n",
    "..and looking carefully at the first term of the product rule we see that\n",
    "\n",
    ".$$\\large \\frac{d\\bar{r}}{dt} = \\bar{v} \\implies (\\frac{d\\bar{r}}{dt} \\times m\\bar{v}) = \\bar{v} \\times m \\bar{v} = 0$$ \n",
    "\n",
    "..because the cross product of a vector with another vector in the same direction is 0 (remember the RHR??). This simplifies our earlier derivative to....\n",
    "\n",
    ".$$\\large \\frac{d}{dt}(\\bar{r} \\times (m\\:\\bar{v})) = (\\bar{r} \\times m\\frac{d\\bar{v}}{dt})$$ \n",
    "\n",
    "which means we can rewrite our earlier expression...\n",
    "\n",
    ".$$\\large M_{net} = \\bar{r} \\times \\bar{F}_{net} = \\frac{d}{dt}(\\bar{r} \\times (m\\:\\bar{v}))$$ \n",
    "\n",
    "which, after separating varibles looks like this....\n",
    "\n",
    ".$$\\large \\int_{t_0}^{t_f}M_{net}\\: dt =\\int_{t_0}^{t_f}(\\bar{r} \\times \\bar{F}_{net}) dt = \\Delta (\\bar{r} \\times (m\\:\\bar{v})) $$ \n",
    "\n",
    "which is completely analogous to our previous linear impulse expression....\n",
    "\n",
    ".$$\\large \\int_{t_0}^{t_f}\\bar{F}_{net} dt =  \\Delta (\\bar{p})$$ \n",
    "\n",
    "\n"
   ]
  },
  {
   "cell_type": "markdown",
   "metadata": {},
   "source": [
    "### What is this??\n",
    "\n",
    "So what do we call this $(𝑟¯×(𝑚𝑣¯))$ which seems very like momentum but has this cross product in it? Because the cause of this behavior is an angular force (which is related to momentum) we call this quantity the **Angular Momentum**. It behaves conceptually just like linear momentum but involves the spinning of objects rather than their translation.\n",
    "\n",
    "### Symbols\n",
    "\n",
    "In this engineering text the symbol for angular momentum is $H_0$ which I have never seen anywhere else. More generally the symbol for angular moment is $L$. \n",
    "\n",
    ".$$\\large \\int_{t_0}^{t_f}M_{net}\\: dt =\\int_{t_0}^{t_f}(\\bar{r} \\times \\bar{F}_{net}) dt = \\Delta (\\bar{H}_0)$$ \n",
    "\n",
    "## Note:\n",
    "\n",
    "I suspect that the reason for the odd symbol used at this point in the text is that this discussion treats the mass as if it is essentially a point. For a distributed mass we have to develop a more robust description of the angular momentum."
   ]
  },
  {
   "cell_type": "markdown",
   "metadata": {},
   "source": [
    "### Angular Impulse\n",
    "\n",
    "In the previous expression the change in angular momentum $\\Delta (\\bar{H}_0)$ is called the angular impulse in the same way that $\\Delta(\\bar{p})$. The individual moments that contribute to $M_{net}$ are impulsive moments. We make the same connection between the average impulsive moment and the integral that we did for linear impulse and we get...\n",
    "\n",
    ".$$\\large \\int_{t_0}^{t_f}M_{net}\\: dt = M_{net_{ave}} \\Delta t = \\Delta (\\bar{H}_0) $$ \n",
    "\n",
    "where...\n",
    "\n",
    "\n",
    ".$$\\large  \\bar{H}_0 = (\\bar{r} \\times (m\\:\\bar{v})) $$ \n",
    "\n",
    "\n"
   ]
  },
  {
   "cell_type": "markdown",
   "metadata": {},
   "source": [
    "### Conservation of Angular Momentum\n",
    "\n",
    "As you would suspect if $M_{net} = 0$ then $\\Delta (\\bar{H}_0 = 0$ just as we saw in the linear momentum case. This leads to the same concept of conservation of angular momentum that we saw in the linear case.\n",
    "\n",
    ".$$\\large \\bar{H}_{0_{1_0}} + \\bar{H}_{0_{2_0}} + ....\\bar{H}_{0_{N_0}} = \\bar{H}_{0_{1_f}} + \\bar{H}_{0_{2_f}} + ....\\bar{H}_{0_{N_f}} $$ \n",
    "\n",
    "Make sure you understand the complex subscripting which is aggravated because the symbol we use for momentum is already subscripted!\n",
    "\n",
    "**Note:** A common setting where the conservation of angular momentum is often used is as a constraint on the results in a rotating energy problem. The sample below is an example."
   ]
  },
  {
   "cell_type": "markdown",
   "metadata": {},
   "source": [
    "***\n",
    "### Sample Problem: Angular Momentum and Energy\n",
    "\n",
    ">This problem looks like an old friend that you can't decide if you like. The bar rotates in the horizontal plane with no friction. The sleeve has a mass of 2 kg and the spring is unstretched when r = 0. The spring constant is 40 N/m. When t = 0 the mass is at r = 0.2m and $v_r = 0$. The angular velocity at this point is $\\omega_0 = 6\\: rad/s$. What is $\\omega$  and $v_r$ when r = 0.25 m? \n",
    "\n",
    "<img src=\"https://raw.githubusercontent.com/smithrockmaker/ENGR212/master/images/Sample10-1.png\" />\n",
    "\n",
    "[Solution](https://github.com/smithrockmaker/ENGR212/blob/main/documents/SampleProb10-1.pdf)\n",
    "***"
   ]
  },
  {
   "cell_type": "markdown",
   "metadata": {},
   "source": [
    "### Mass Flow\n",
    "\n",
    "Finally, after all this time considering systems where the mass is constant we get a quick shot at systems where mass is leaving or being added to the system. This is what rockets are so it seems really interesting to have a way to address such a system.\n",
    "\n",
    "The text does a reasonable job of running through the derivation and it doesn't seem particularly helpful to reproduce it here. What does seem helpful is to consider the formal expression of the force due to mass flow and spend some time getting clarity about what the terms mean. This is where it has always been challenging for me.\n",
    "\n",
    "Here is the 'result' as stated in the text.\n",
    "\n",
    ".$$\\large \\bar{F}_{flow} = - \\frac{d m_{flow}}{dt} \\bar{v}_{flow}$$\n",
    "\n",
    "Notice that this means that the force (a vector) due to a flow of mass **LEAVING** the object is in the opposite direction of that flow. The minus sign on the RHS tells us this. When the mass is 'entering' the object dm/dt is negative! The $\\bar{v}_{flow}$ term is the magnitude and direction of the flow **RELATIVE** to the object ejecting the mass. This is important because it explains why rocket engines and jet engines generate the same amount of force regardless of how fast the plane or rocket is traveling."
   ]
  },
  {
   "cell_type": "markdown",
   "metadata": {},
   "source": [
    "***\n",
    "### Sample Problem: Mass Flow\n",
    "\n",
    ">Interestingly a snowblower/rotary snowplow is an example of mass flows in two ways. There is a mass entering the machine in the 'front' usually and there is a mass ejected from the machine to the side at some angle. Consider a highway snowplow which is moving at 1 m/s such that 750 kg/s of snow enters the impellers of the snowblower. At the same time 750 kg/s of snow is being ejected at an angle of $30^o$ from a point 2.5 m above the road so that it lands 10 m away. Find the resulting forces on the snowplow.\n",
    "\n",
    "<img src=\"https://raw.githubusercontent.com/smithrockmaker/ENGR212/master/images/Sample10-2.png\" />\n",
    "\n",
    "[Solution](https://github.com/smithrockmaker/ENGR212/blob/main/documents/SampleProb10-2.pdf)\n",
    "***"
   ]
  },
  {
   "cell_type": "markdown",
   "metadata": {},
   "source": [
    "***\n",
    "### Sample Problem: Mass Flow\n",
    "\n",
    ">This not a particularly fascinating problem setting but it permits an exploration of a behavior that is common in hydropower settings. The water is entering each object at 40 m/s with a mass flow rate of 30 kg/s. The 'turbine blade' changes the direction of the flow which produces a force on the blade. Much like the snowplow problem above consider the force due to the entering mass flow as well as the exiting mass flow to get the net force on the turnine blade.\n",
    "\n",
    "<img src=\"https://raw.githubusercontent.com/smithrockmaker/ENGR212/master/images/Sample10-3.png\" />\n",
    "\n",
    "[Solution](https://github.com/smithrockmaker/ENGR212/blob/main/documents/SampleProb10-3.pdf)\n",
    "***"
   ]
  },
  {
   "cell_type": "code",
   "execution_count": null,
   "metadata": {},
   "outputs": [],
   "source": []
  }
 ],
 "metadata": {
  "kernelspec": {
   "display_name": "Python 3 (ipykernel)",
   "language": "python",
   "name": "python3"
  },
  "language_info": {
   "codemirror_mode": {
    "name": "ipython",
    "version": 3
   },
   "file_extension": ".py",
   "mimetype": "text/x-python",
   "name": "python",
   "nbconvert_exporter": "python",
   "pygments_lexer": "ipython3",
   "version": "3.9.7"
  }
 },
 "nbformat": 4,
 "nbformat_minor": 4
}
