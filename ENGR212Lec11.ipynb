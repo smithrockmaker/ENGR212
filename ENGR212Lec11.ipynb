{
 "cells": [
  {
   "cell_type": "markdown",
   "metadata": {},
   "source": [
    "## ENGR 212 Lecture Notes\n",
    "\n",
    "### Lecture 11\n",
    "#### 17.1 - 17.3 in Bedford/Fowler\n",
    "\n",
    "Now we combine the motion of the center of mass with rotational motion around the center of mass. The classic mental picture is of a wrench or axe flying through the air while rotating. The CM follows a parabolic path while there is additional movement around that path.\n"
   ]
  },
  {
   "cell_type": "markdown",
   "metadata": {},
   "source": [
    "### Rigid Body Motion\n",
    "\n",
    "It seems helpful to separate the motion of rigid bodies into some general claases to help distinguish the tools that are relevant. Starting from the awareness the the motion of a rigid body is the collective motion of all the points which make up the rigid body. How those points move relative to the external world and relative to each other characterize different types of motion.\n",
    "\n",
    "#### Pure Translation:\n",
    "\n",
    "This is motion where there is no rotation of the object. Surprisingly this can be a bit confusing in some cases though it sounds simple. Thinking of the many points which make up the rigid body can help clarify this setting. When the description of the both the velocity and acceleration of one point of the object completely describes the motion of EVERY point of the object then it is undergoing pure translation.\n",
    "\n",
    "#### Rotation Around Fixed Axis:\n",
    "\n",
    "Put in more everyday language this is an object whose only motion is rotation around an unmoving axis. Expressed more carefully this object has a set of points that are not moving which form an axis. All other points of the object are moving in circles around that axis. \n",
    "\n",
    "#### Planar Motion:\n",
    "\n",
    "Any motion of an object, potentially complex, where some set of point of the object lie in a plane and stay in that plane as it moves. The object itself does not need to be planar so long as it meets this criteria. Most settings we have considered this term fall into this catergory. Notice that both of our previous catagories are also planar.\n"
   ]
  },
  {
   "cell_type": "markdown",
   "metadata": {},
   "source": [
    "### Rotation Around a Fixed Axis:\n",
    "\n",
    "Gear trains are a classic setting where each object in the gear train is undergoing rotation around a fixed axis. The following music making machine is full of gear and pulley chains that are used to control timing and release of the marbles to play the music.\n",
    "\n",
    "<img src=\"https://raw.githubusercontent.com/smithrockmaker/PH211/master/images/wintergartan.jpg\" />\n",
    "\n",
    "For a given object in rotation around a fixed axis there is a $\\theta$,  an $\\omega$, and an $\\alpha$ that describe the rotation of the object as a whole. Because every point on the object is moving in a circle of some radius we can use polar or n/t coordinates to describe the motion of that point.\n",
    "\n",
    ".$$\\large \\bar{v}_{circular} = r \\:\\omega \\: \\hat{e}_{\\theta} =  r \\:\\omega \\: \\hat{e}_{t} \\implies |\\bar{v}| = r\\: \\omega$$\n",
    "\n",
    ".$$\\large \\bar{a}_{circular} = -r \\:\\omega^2\\:\\hat{e}_r + r\\:\\alpha \\:\\hat{e}_{\\theta}$$\n",
    "\n",
    "or, remembering that $\\rho = r$ for circular motion, ...\n",
    "\n",
    ".$$\\large \\bar{a}_{circular} = r \\:\\omega^2\\:\\hat{e}_n + r\\:\\alpha \\:\\hat{e}_{t}$$\n",
    "\n",
    "Note that even when $\\alpha = 0$ there is still an acceleration in the radial/normal direction.\n",
    "\n",
    "When we connect multiple rotating object like this together with a chain or belt then the speed and acceleration of the edges of each object must be the same. Consider the following example.\n",
    "\n",
    "<img src=\"https://raw.githubusercontent.com/smithrockmaker/PH211/master/images/simpleGearChain.jpg\" />\n",
    "\n",
    "For a point on the edge of each gear we can write...\n",
    "\n",
    ".$$\\large v_{A_{edge}} = r_A \\:\\omega_A \\: ,\\: v_{B_{edge}} = r_B \\:\\omega_B$$\n",
    "\n",
    "Since the chain constrains the system to the edge velocities are the same (when the chain moves forward one link on one gear it must move the same one link forward in the same time on the other gear) then....\n",
    "\n",
    "\n",
    ".$$\\large v_{A_{edge}} = r_A \\:\\omega_A = r_B \\:\\omega_B = v_{B_{edge}}$$\n",
    "\n",
    "..which, after a little algebra, gives...\n",
    "\n",
    ".$$\\large  \\omega_A = (\\frac{r_B}{r_A}) \\:\\omega_B$$\n",
    "\n",
    "The same relationships apply the acceleration of the edges of the gears leading to....\n",
    "\n",
    ".$$\\large  \\alpha_A = (\\frac{r_B}{r_A}) \\:\\alpha_B$$\n",
    "\n",
    "**NOTE:**\n",
    "\n",
    "Please don't think of these as formulae to be used blindly. The goal is to examine the circumstances of the setting and notice when rotating objects are constrained to share the same linear edge velocity and acceleration. Those edge velocities and accelerations are related to the angular velocities and accelerations of the rotating object. Write those mathematical relationships as part of any solution and then assess whether the information is helpful.\n"
   ]
  },
  {
   "cell_type": "markdown",
   "metadata": {},
   "source": [
    "***\n",
    "### Sample Problem: Gear Chain\n",
    "\n",
    ">What are the components of the velocity and acceleration of point A on the right hand disk? \n",
    "\n",
    "<img src=\"https://raw.githubusercontent.com/smithrockmaker/ENGR212/master/images/Sample11-1.png\" />\n",
    "\n",
    "[Solution](https://github.com/smithrockmaker/ENGR212/blob/main/documents/SampleProb11-1.pdf)\n",
    "***"
   ]
  },
  {
   "cell_type": "markdown",
   "metadata": {},
   "source": [
    "### Planar Velocities\n",
    "\n",
    "By way of motivation consider the various complex linkages illustrated part way down this link from the MIT FabLab. The linking is driven by a rotating drive shaft and has a particular point which is fixed. All other connecting points are pins that allow rotation. A real engineering dynamic problem.\n",
    "\n",
    "[Strandbeest Style Linkages](http://fab.cba.mit.edu/classes/863.13/people/Kristin/Weeks/Week6/index.html)\n",
    "\n",
    "So, how do we describe a particular object that is translating and rotating? Not surprisingly what we do is describe each part of the motion separately and put the parts together. Here is an graphical way of thinking about this (thanks to the Engineering School at Brown University for posting the old notes from [EN40 Engineering Dynamics](https://www.brown.edu/Departments/Engineering/Courses/En4/notes_old/RigidKinematics/rigkin.htm))\n",
    "\n",
    "<img src=\"https://raw.githubusercontent.com/smithrockmaker/ENGR212/master/images/planarVelocity.gif\" />\n",
    "\n",
    "Remembering our careful description of relative motion from Lec 3 and relabeling to match the setting above...\n",
    "\n",
    "$$ \\large \\bar{r}_{B/O} + \\bar{r}_{A/B} = \\bar{r}_{A/O}$$\n",
    "\n",
    "....then...\n",
    "\n",
    "$$ \\large \\bar{v}_{B/O} + \\bar{v}_{A/B} = \\bar{v}_{A/O}$$\n",
    "\n",
    "..and...\n",
    "\n",
    "$$ \\large \\bar{a}_{B/O} + \\bar{a}_{A/B} = \\bar{a}_{A/O}$$\n",
    "\n",
    "Today we are only considering the generalized description of the velocity. We'll get to the acceleration in a couple of days. Notice that because the translational motion of A and B must be the same $\\bar{v}_{A/B}$ must be only rotational around B. That means that $\\bar{v}_{A/B}$ is tangent to the rotation of A around B and is given by $r_{A/B}\\: \\omega_{A/B}$. All this leads to the following expression...\n",
    "\n",
    "$$ \\large  \\bar{v}_{A/O} = \\bar{v}_{B/O} + (r_{A/B}\\:\\omega_{A/B})\\bar{e}_{t_{A/B}}$$\n",
    "\n",
    "...which is all a bit complicated. We need a better way to be clear about each of the vectors in this expression. We need to do this in a way which is reasonably independent of our coordinate system. "
   ]
  },
  {
   "cell_type": "markdown",
   "metadata": {},
   "source": [
    "### Angular Velocity Vector\n",
    "\n",
    "Thinking back we defined $v_t = r\\: \\omega$ without directly addressing the vector nature of any of these three quantities. To be more careful both $\\bar{v}$ and $\\bar{r}$ have well defined directions. What does this mean about $\\bar{\\omega}$? We only have two choice for multiplying vectors - the dot product and the cross product. Because the dot product yields a scalar we must be using the cross product and that means the right hand rule. This means either $\\bar{v} = \\bar{r} \\times \\bar{\\omega}$ or $\\bar{v} = \\bar{\\omega} \\times \\bar{r} $"
   ]
  },
  {
   "cell_type": "markdown",
   "metadata": {},
   "source": [
    "***\n",
    "### Sample Problem: Linkage\n",
    "\n",
    ">Interestingly a s.\n",
    "\n",
    "<img src=\"https://raw.githubusercontent.com/smithrockmaker/ENGR212/master/images/Sample11-2.png\" />\n",
    "\n",
    "[Solution](https://github.com/smithrockmaker/ENGR212/blob/main/documents/SampleProb11-2.pdf)\n",
    "***"
   ]
  },
  {
   "cell_type": "code",
   "execution_count": null,
   "metadata": {},
   "outputs": [],
   "source": []
  }
 ],
 "metadata": {
  "kernelspec": {
   "display_name": "Python 3",
   "language": "python",
   "name": "python3"
  },
  "language_info": {
   "codemirror_mode": {
    "name": "ipython",
    "version": 3
   },
   "file_extension": ".py",
   "mimetype": "text/x-python",
   "name": "python",
   "nbconvert_exporter": "python",
   "pygments_lexer": "ipython3",
   "version": "3.8.5"
  }
 },
 "nbformat": 4,
 "nbformat_minor": 4
}
