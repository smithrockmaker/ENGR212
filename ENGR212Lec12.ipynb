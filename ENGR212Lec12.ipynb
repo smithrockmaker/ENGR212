{
 "cells": [
  {
   "cell_type": "markdown",
   "metadata": {},
   "source": [
    "## ENGR 212 Lecture Notes\n",
    "\n",
    "### Lecture 12\n",
    "#### 17.4 in Bedford/Fowler\n",
    "\n",
    "Todays discussion is about instantaneous centers and their application.\n"
   ]
  },
  {
   "cell_type": "markdown",
   "metadata": {},
   "source": [
    "### Instantaneous Centers\n",
    "\n",
    "If we return to the basic statement of Newton's 2nd Law for an object with a constant mass we might write....\n",
    "\n",
    ".$$\\large \\bar{F}_{net} = m\\: \\frac{d\\bar{v}}{dt}$$  \n",
    "\n"
   ]
  },
  {
   "cell_type": "markdown",
   "metadata": {},
   "source": [
    "***\n",
    "### Sample Problem: Angular Momentum\n",
    "\n",
    ">This problem looks like an old friend that you can't decide if you like. The bar rotates in the horizontal plane with no friction. The sleeve has a mass of 2 kg and the spring is unstretched when r = 0. The spring constant is 40 N/m. When t = 0 the mass is at r = 0.2m and $v_r = 0$. The angular velocity at this point is $\\omega_0 = 6\\: rad/s$. What is $\\omega$  and $v_r$ when r = 0.25 m? \n",
    "\n",
    "<img src=\"https://raw.githubusercontent.com/smithrockmaker/ENGR212/master/images/Sample10-1.png\" />\n",
    "\n",
    "[Solution](https://github.com/smithrockmaker/ENGR212/blob/main/documents/SampleProb10-1.pdf)\n",
    "***"
   ]
  },
  {
   "cell_type": "markdown",
   "metadata": {},
   "source": [
    "### ???\n",
    "\n",
    "Finally, after all this time considering systems where the mass is constant we get a quick shot at systems where mass is leaving or being added to the system. This is what rockets are so it seems really interesting to have a way to address such a system.\n",
    "\n"
   ]
  },
  {
   "cell_type": "markdown",
   "metadata": {},
   "source": [
    "***\n",
    "### Sample Problem: Mass Flow\n",
    "\n",
    ">Interestingly a snowblower/rotary snowplow is an example of mass flows in two ways. There is a mass entering the machine in the 'front' usually and there is a mass ejected from the machine to the side at some angle. Consider a highway snowplow which is moving at 1 m/s such that 750 kg/s of snow enters the impellers of the snowblower. At the same time 750 kg/s of snow is being ejected at an angle of $30^o$ from a point 2.5 m above the road so that it lands 10 m away. Find the resulting forces on the snowplow.\n",
    "\n",
    "<img src=\"https://raw.githubusercontent.com/smithrockmaker/ENGR212/master/images/Sample10-2.png\" />\n",
    "\n",
    "[Solution](https://github.com/smithrockmaker/ENGR212/blob/main/documents/SampleProb10-2.pdf)\n",
    "***"
   ]
  },
  {
   "cell_type": "markdown",
   "metadata": {},
   "source": [
    "***\n",
    "### Sample Problem: Mass Flow\n",
    "\n",
    ">This not a particularly fascinating problem setting but it permits an exploration of a behavior that is common in hydropower settings. The water is entering each object at 40 m/s with a mass flow rate of 30 kg/s. The 'turbine blade' changes the direction of the flow which produces a force on the blade. Much like the snowplow problem above consider the force due to the entering mass flow as well as the exiting mass flow to get the net force on the turnine blade.\n",
    "\n",
    "<img src=\"https://raw.githubusercontent.com/smithrockmaker/ENGR212/master/images/Sample10-3.png\" />\n",
    "\n",
    "[Solution](https://github.com/smithrockmaker/ENGR212/blob/main/documents/SampleProb10-3.pdf)\n",
    "***"
   ]
  },
  {
   "cell_type": "code",
   "execution_count": null,
   "metadata": {},
   "outputs": [],
   "source": []
  }
 ],
 "metadata": {
  "kernelspec": {
   "display_name": "Python 3",
   "language": "python",
   "name": "python3"
  },
  "language_info": {
   "codemirror_mode": {
    "name": "ipython",
    "version": 3
   },
   "file_extension": ".py",
   "mimetype": "text/x-python",
   "name": "python",
   "nbconvert_exporter": "python",
   "pygments_lexer": "ipython3",
   "version": "3.8.5"
  }
 },
 "nbformat": 4,
 "nbformat_minor": 4
}
