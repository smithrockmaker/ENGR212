{
 "cells": [
  {
   "cell_type": "markdown",
   "metadata": {},
   "source": [
    "## ENGR 212 Lecture Notes\n",
    "\n",
    "### Lecture 12\n",
    "#### 17.4 in Bedford/Fowler\n",
    "\n",
    "Todays discussion is about instantaneous centers and their application.\n"
   ]
  },
  {
   "cell_type": "markdown",
   "metadata": {},
   "source": [
    "### Instantaneous Centers\n",
    "\n",
    "The approach to linkages that we discussed last time apply in all circumstances. In cases where the geometry is relatively simple the special technique of instantaneous centers can make finding the solution simpler. \n",
    "\n",
    "As you are aware I am not a fan of 'special techniques' since they smack of mathematical magic and sorcery. On the other hand I am aware that this is a technique which shows up often enough that I wouldn't want you to be mystified in some future professional conversation when someone talks about 'instantaneous centers'. \n"
   ]
  },
  {
   "cell_type": "markdown",
   "metadata": {},
   "source": [
    "### Core Idea\n",
    "\n",
    "The core idea is that in the special case of planar motion one can always find a point in space that is stationary and around which the whole object is purely rotating. It is VERY important to recognize that this center of motion may only be stationary for an instant (hence the name instantaneous center), it may be a point in space outside of the object, and this point may actually be accelerating even though it's velocity is 0!!"
   ]
  },
  {
   "cell_type": "markdown",
   "metadata": {},
   "source": [
    "### What It Means:\n",
    "\n",
    "If you know the location of the instantaneous center then the velocity of EVERY point on the object is given by...\n",
    "\n",
    ".$$\\large \\bar{v}_{A/O} = \\bar{\\omega} \\times \\bar{r}_{A/center}$$  \n",
    "\n",
    "This is a simpler description of the velocity of every point that the more general expression we used previously.....\n",
    "\n",
    ".$$ \\large  \\bar{v}_{A/O} = \\bar{v}_{B/O} + \\bar{\\omega} \\times \\bar{r}_{A/B}$$"
   ]
  },
  {
   "cell_type": "markdown",
   "metadata": {},
   "source": [
    "### How To Find the Instantaneous Center\n",
    "\n",
    "Because the basic definition of instantaneous center is that all point are in pure rotation around it if we know the velocity of two point on the object we can draw the radii that are perpendicular to those two velocities and their point of intersection will be the instantaneous center. Contemplate the following image and be sure that you are convinced.\n",
    "\n",
    "<img src=\"https://raw.githubusercontent.com/smithrockmaker/ENGR212/master/images/instantCenter.gif\" />\n",
    "\n",
    "There are a number of circumstances where there are lovely symmetries that make this even easier but I'd rather you focus on integrating this idea into your conceptual understanding rather than confusing it with more specialness."
   ]
  },
  {
   "cell_type": "markdown",
   "metadata": {},
   "source": [
    "### Examples:\n",
    "\n",
    "In the case of the rolling wheel we looked at previously we can see by inspection that the instantaneous center of rotation is the contact point of the wheel with the road (C). \n",
    "\n",
    "\n",
    "<img src=\"https://raw.githubusercontent.com/smithrockmaker/ENGR212/master/images/rollingWheel.png\" /> \n",
    "\n",
    "If we look at it from this perspective it is clear that $v_A$ must be at $45^o$ down and to the right which is what we found using our more general tool previously. Notice that, at least for a moment, you probably envision the point A and traveling direction downwards because we think of it rotating around the axle of the wheel as if the axle were stationary. A moment of added care and recognition of the instantaneous center gives a deeper perspective."
   ]
  },
  {
   "cell_type": "markdown",
   "metadata": {},
   "source": [
    "***\n",
    "### Sample Problem: ??\n",
    "\n",
    ">What are the angular velocities of BC and CD? \n",
    "\n",
    "<img src=\"https://raw.githubusercontent.com/smithrockmaker/ENGR212/master/images/Sample12-1.png\" />\n",
    "\n",
    "[Solution](https://github.com/smithrockmaker/ENGR212/blob/main/documents/SampleProb12-1.pdf)\n",
    "***"
   ]
  },
  {
   "cell_type": "markdown",
   "metadata": {},
   "source": [
    "***\n",
    "### Sample Problem: ??\n",
    "\n",
    ">What is the angular velocity of BC as shown.\n",
    "\n",
    "<img src=\"https://raw.githubusercontent.com/smithrockmaker/ENGR212/master/images/Sample12-2.png\" /> \n",
    "\n",
    "[Solution](https://github.com/smithrockmaker/ENGR212/blob/main/documents/SampleProb12-2.pdf)\n",
    "***"
   ]
  },
  {
   "cell_type": "code",
   "execution_count": null,
   "metadata": {},
   "outputs": [],
   "source": []
  }
 ],
 "metadata": {
  "kernelspec": {
   "display_name": "Python 3",
   "language": "python",
   "name": "python3"
  },
  "language_info": {
   "codemirror_mode": {
    "name": "ipython",
    "version": 3
   },
   "file_extension": ".py",
   "mimetype": "text/x-python",
   "name": "python",
   "nbconvert_exporter": "python",
   "pygments_lexer": "ipython3",
   "version": "3.8.5"
  }
 },
 "nbformat": 4,
 "nbformat_minor": 4
}
