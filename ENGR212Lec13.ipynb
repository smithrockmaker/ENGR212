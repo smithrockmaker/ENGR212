{
 "cells": [
  {
   "cell_type": "markdown",
   "metadata": {},
   "source": [
    "## ENGR 212 Lecture Notes\n",
    "\n",
    "### Lecture 13\n",
    "#### 17.5 in Bedford/Fowler\n",
    "\n",
    "Velocity is always simpler than acceleration because of the derivatives of the unit vectors. Previous, in cartesian coordinates, things stayed pretty simple. Now that we are considering the complex motion of rigid bodies we recognize that, even if the center of mass is moving in a way easily described by a cartesian system, the possible rotation of the object around the center of mass adds a new level of complexity.\n",
    "\n",
    "Recognize that the expressions we have developed for the velocity of complex object have been typically expressed in cartesian coordinates but in this expression...\n",
    "\n",
    ".$$ \\large  \\bar{v}_{A/O} = \\bar{v}_{B/O} + \\bar{\\omega} \\times \\bar{r}_{A/B}$$\n",
    "\n",
    "which can also be written as ......\n",
    "\n",
    ".$$ \\large  \\bar{v}_{A/O} = \\bar{v}_{B/O} + \\bar{v}_{A/B}$$\n",
    "\n",
    "all the vectors can be expressed in any coordinate system. We will work mostly in cartesian coordinates but I want to be sure you recognize the potential other approaches.\n"
   ]
  },
  {
   "cell_type": "markdown",
   "metadata": {},
   "source": [
    "### General Acceleration\n",
    "\n",
    "We sort this out using our standard tools from math by differentiating the velocity to get the acceleration. \n",
    "\n",
    ".$$ \\large \\frac{d}{dt} [\\bar{v}_{A/O} = \\bar{v}_{B/O} + \\bar{v}_{A/B}] \\implies \\bar{a}_{A/O} = \\bar{a}_{B/O} + \\bar{a}_{A/B}$$\n",
    "\n",
    "The first two terms are pretty straightforward and yield...\n",
    "\n",
    ".$$ \\large  \\bar{a}_{A/O} = \\bar{a}_{B/O} + \\frac{d}{dt}(\\bar{v}_{A/B})$$\n",
    "\n",
    "It's the last term which gets really 'interesting'. We start by rewriting $\\bar{v}_{A/B}$ as\n",
    "\n",
    ".$$ \\large  \\bar{v}_{A/B} = \\bar{\\omega} \\times \\bar{r}_{A/B}$$\n",
    "\n",
    "and then using the product rule we get...\n",
    "\n",
    ".$$ \\large  \\bar{a}_{A/B} =\\frac{d}{dt}(\\bar{\\omega} \\times \\bar{r}_{A/B}) = \\frac{d\\bar{\\omega}}{dt} \\times\\bar{r}_{A/B} +  \\bar{\\omega} \\times \\frac{d\\bar{r}_{A/B}}{dt}$$\n",
    "\n",
    "Remembering that....\n",
    "\n",
    ".$$ \\large \\frac{d\\bar{\\omega}}{dt} = \\alpha\\: ; \\: \\frac{d\\bar{r}_{A/B}}{dt} = \\bar{v}_{A/B}$$\n",
    "\n",
    "..and substituting...\n",
    "\n",
    ".$$ \\large  \\bar{a}_{A/B} = \\alpha \\times\\bar{r}_{A/B} +  \\bar{\\omega} \\times \\bar{v}_{A/B}$$\n",
    "\n",
    "....and substituting again for $\\bar{v}_{A/B} = \\bar{\\omega} \\times \\bar{r}_{A/B}$ gives...\n",
    "\n",
    ".$$ \\large  \\bar{a}_{A/B} = \\alpha \\times\\bar{r}_{A/B} +  \\bar{\\omega} \\times (\\bar{\\omega} \\times \\bar{r}_{A/B})$$"
   ]
  },
  {
   "cell_type": "markdown",
   "metadata": {},
   "source": [
    "### Putting it all together:\n",
    "\n",
    "Putting all of those steps together we get this intimidating expression:\n",
    "\n",
    ".$$ \\large \\bar{a}_{A/O} = \\bar{a}_{B/O} + \\bar{\\alpha} \\times\\bar{r}_{A/B} +  \\bar{\\omega} \\times (\\bar{\\omega} \\times \\bar{r}_{A/B})$$\n",
    "\n",
    "In the particular case of planar motion (which is what we will deal with here) then the last term can be simplified to give\n",
    "\n",
    ".$$ \\large \\bar{a}_{A/O} = \\bar{a}_{B/O} + \\bar{\\alpha} \\times\\bar{r}_{A/B} - \\omega^2 \\bar{r}_{A/B}$$"
   ]
  },
  {
   "cell_type": "markdown",
   "metadata": {},
   "source": [
    "***\n",
    "### Sample Problem: Swinging Plate\n",
    "\n",
    ">The angular velocity and angular acceleration of AB are $\\omega_{AB}= 2\\: rad/s$ and $\\alpha_{AB} = 10\\: rad/s^2$. The plate is 12\" by 24\". Find the angular velocity and acceleration of the plate.\n",
    "\n",
    "<img src=\"https://raw.githubusercontent.com/smithrockmaker/ENGR212/master/images/Sample13a-1.png\" />\n",
    "\n",
    ">Notice that you know the velocity and acceleration of A so consider the acceleration of C which will include the desired results.\n",
    "\n",
    "\n",
    "[Solution](https://github.com/smithrockmaker/ENGR212/blob/main/documents/SampleProb13-1.pdf)\n",
    "***"
   ]
  },
  {
   "cell_type": "markdown",
   "metadata": {},
   "source": [
    "***\n",
    "### Sample Problem: Sliding Linkage\n",
    "\n",
    ">The angular velocity and angular acceleration of AB are $\\omega_{AB}= 2\\: rad/s$ and $\\alpha_{AB} = 8\\: rad/s^2$. Find the acceleration of D.\n",
    "\n",
    "<img src=\"https://raw.githubusercontent.com/smithrockmaker/ENGR212/master/images/Sample13a-2.png\" />\n",
    "\n",
    "[Solution](https://github.com/smithrockmaker/ENGR212/blob/main/documents/SampleProb13-2.pdf)\n",
    "***"
   ]
  },
  {
   "cell_type": "code",
   "execution_count": null,
   "metadata": {},
   "outputs": [],
   "source": []
  }
 ],
 "metadata": {
  "kernelspec": {
   "display_name": "Python 3 (ipykernel)",
   "language": "python",
   "name": "python3"
  },
  "language_info": {
   "codemirror_mode": {
    "name": "ipython",
    "version": 3
   },
   "file_extension": ".py",
   "mimetype": "text/x-python",
   "name": "python",
   "nbconvert_exporter": "python",
   "pygments_lexer": "ipython3",
   "version": "3.9.7"
  }
 },
 "nbformat": 4,
 "nbformat_minor": 4
}
