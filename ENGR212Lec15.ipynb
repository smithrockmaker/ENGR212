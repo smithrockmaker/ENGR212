{
 "cells": [
  {
   "cell_type": "markdown",
   "metadata": {},
   "source": [
    "## ENGR 212 Lecture Notes\n",
    "\n",
    "### Lecture 15\n",
    "#### Appendix from CH18 on Moments of Inertia in Bedford/Fowler\n",
    "\n",
    "In our previous discussion of dynamics of complex machines we introduced the idea of the moment of inertia (I is the usual symbol) that represents the rotational equivalent of mass. In depends both on the mass of the object subjected to a moment (torque) as well as the arrangement of the mass relative to the axis of rotation."
   ]
  },
  {
   "cell_type": "markdown",
   "metadata": {},
   "source": [
    "#### Newton's 2nd Law for Rotation:\n",
    "\n",
    "As we noted previously Newton's 2nd Law takes two forms. The first for moments around a general axis of rotation and the second is implicitly for moments and rotations around the center of mass of the object.\n",
    "\n",
    "Around a particular origin:\n",
    "\n",
    ".$$\\large \\sum\\bar{M}_{O} = I_O\\: \\bar{\\alpha} $$\n",
    "\n",
    "Around the center of mass:\n",
    "\n",
    ".$$\\large \\sum\\bar{M}= I\\: \\bar{\\alpha} $$\n"
   ]
  },
  {
   "cell_type": "markdown",
   "metadata": {},
   "source": [
    "### I (moment of inertia)\n",
    "\n",
    "### Formal Math Description:\n",
    "\n",
    "This is the formal mathematical description of the moment of inertia of an object around any axis:\n",
    "\n",
    ".$$\\large I_0 = \\int_m r^2\\: dm$$\n",
    "\n",
    "Where r is the location of each dm relative to the axis of rotation. This can get quite complex for 3D object though it is not so bad for planar objects. Please notice that the moment of inertia is a SCALAR not a vector!!\n",
    "\n",
    "Notice also that 'I' has units of $kg\\: m^2$. Another mixed set of units for which there is no special name at this point."
   ]
  },
  {
   "cell_type": "markdown",
   "metadata": {},
   "source": [
    "### The Reality\n",
    "\n",
    "**Look it up!!** The reality is that all the typical shapes for which we need to know moments of inertia have been calculated. This includes rectangles, spheres, I beams, bars, etc etc. As a result we look them up. Here is a sample table...\n",
    "\n",
    "<img src=\"https://raw.githubusercontent.com/smithrockmaker/ENGR212/master/images/momentInertia.jpg\" />\n",
    "\n",
    "You will no doubt notice that the moments of inertia are all for rotation around the center of mass of the object. This is because we have a simple tool to find the moment of inertial around another axis parallel to the axis through the center of mass. This tool is called the Parallel Axis Theorem.\n",
    "\n",
    "Here are some additional useful shapes and their moments around different axes.\n",
    "\n",
    "<img src=\"https://raw.githubusercontent.com/smithrockmaker/ENGR212/master/images/momentInertia2.jpg\" />"
   ]
  },
  {
   "cell_type": "markdown",
   "metadata": {},
   "source": [
    "### Parallel Axis Theorem\n",
    "\n",
    "You can look in many places to see a mathematical proof of the parallel axis theorem. I don't find a lot of conceptual value in this particular proof so I will not reproduce it here. Suffice to say you can find it many places if you are interested. Here is the result:\n",
    "\n",
    ".$$\\large I_0 = I + d^2\\:m$$\n",
    "\n",
    "'d' is the distance from the axis through the center of mass and m is the total mass of the object. Consider the moment of inertia for a meter stick or rod around it's end rather than it's middle. I (around the center of mass is given by...\n",
    "\n",
    ".$$\\large I = \\frac{1}{12}m L^2$$\n",
    "\n",
    "To find I around the end of the stick or rod we only have to notice that the end is L/2 away from the center of mass and....\n",
    "\n",
    ".$$\\large I_{end} = \\frac{1}{12}m\\: L^2 + \\frac{L}{2}^2 m = \\frac{mL^2}{3}$$\n",
    "\n",
    "This is 4x as big as the moment of inertia around the center of mass which explains why trying to 'waggle' a meter stick around it's center is MUCH easier than trying to 'waggle' it from the end.\n"
   ]
  },
  {
   "cell_type": "markdown",
   "metadata": {},
   "source": [
    "### I for Compound Objects\n",
    "\n",
    "So what do we do for slightly more complex objects like an I beam? Next term in Strengths we will need the moment of inertia for the cross section of various beams. Some of these are tabulated but sometimes we need to figure them out. Consider this basic I beam.\n",
    "\n",
    "<img src=\"https://raw.githubusercontent.com/smithrockmaker/ENGR212/master/images/Ibeam.jpg\" />\n",
    "\n",
    "If you squint as you look at it you can see that the beam is a big rectangle that is missing two smaller rectangles (one on each side). The total moment of inertia of this beam is the moment of inertia for the large rectangle minus the moment of inertia for each of the 'anti-rectangles' around whatever axis you are interested in. Not surprisingly one has to be careful doing this to get the various applications of the parallel axis theorem correct but it is much easier than trying to set up the integral."
   ]
  },
  {
   "cell_type": "markdown",
   "metadata": {},
   "source": [
    "***\n",
    "### Sample Problem: Dynamics of Ladder\n",
    "\n",
    ">While it's tempting to ask you to sort out the dynamics of a ladder against the wall from scratch it is a but of a pain algebraically. In addition the text has an error in it's derivation of the basic result.  \n",
    "\n",
    "<img src=\"https://raw.githubusercontent.com/smithrockmaker/ENGR212/master/images/ladderWall.jpg\" />\n",
    "\n",
    ">The text approaches a similar example problem in cartesian coordinates which is reasonable enough for the starting point but is unhelpful for any other location. My solution starts in polar coordinates. You may gain some insight from comparing the two solutions.\n",
    "\n",
    "\n",
    "[Solution](https://github.com/smithrockmaker/ENGR212/blob/main/documents/SampleProb14-1.pdf)\n",
    "***"
   ]
  },
  {
   "cell_type": "code",
   "execution_count": null,
   "metadata": {},
   "outputs": [],
   "source": []
  }
 ],
 "metadata": {
  "kernelspec": {
   "display_name": "Python 3",
   "language": "python",
   "name": "python3"
  },
  "language_info": {
   "codemirror_mode": {
    "name": "ipython",
    "version": 3
   },
   "file_extension": ".py",
   "mimetype": "text/x-python",
   "name": "python",
   "nbconvert_exporter": "python",
   "pygments_lexer": "ipython3",
   "version": "3.8.5"
  }
 },
 "nbformat": 4,
 "nbformat_minor": 4
}
