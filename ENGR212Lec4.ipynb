{
 "cells": [
  {
   "cell_type": "markdown",
   "metadata": {},
   "source": [
    "## ENGR 212 Lecture Notes\n",
    "\n",
    "### Lecture 4\n",
    "#### Sections 14.1 - 14.2 in Bedford/Fowler"
   ]
  },
  {
   "cell_type": "markdown",
   "metadata": {},
   "source": [
    "## Summary:\n",
    "\n",
    "Two Concepts: Center of Mass and Newton's 2nd Law for the Center of Mass (cm)\n",
    "\n",
    "### Center of Mass (cm):\n",
    "\n",
    "$$\\large \\bar{r}_{cm} = \\frac{\\sum_{i} m_i\\: \\bar{r}_i}{\\sum_{i}m_i = m_{total}} = \\frac{\\sum_{i} m_i\\: \\bar{r}_i}{m}$$\n",
    "\n",
    "### Newton's 2nd for cm:\n",
    "\n",
    ".$$\\large F_{net} = \\sum_{i} F_i = m\\bar{a}_{cm} $$\n",
    "\n",
    "Nothing too weird just more explicit than we did in physics. These statements are independent of coordinate system."
   ]
  },
  {
   "cell_type": "markdown",
   "metadata": {},
   "source": [
    "## How we get to all the tools/expressions in the Summary!"
   ]
  },
  {
   "cell_type": "markdown",
   "metadata": {},
   "source": [
    "### Newton's 2nd Law: Center of Mass\n",
    "#### 14.1\n",
    "\n",
    "#### Concept Review:\n",
    "\n",
    "When we learned about Newton's Laws in physics we started by treating every object as a single point. We probably mentioned that, if we were careful, this point should be located at the center of mass. We rarely talked about this consideration after that. Because we will be looking at more complex behavior in this class we need to be explicit about the meaning of the center of mass as well as it's motion relative to that center of mass. \n",
    "\n",
    "#### The Center of Mass:\n",
    "\n",
    "Conceptually it is just the balance point of the object. In 1D we have a pretty good intuitive sense of how it works. That intuitive sense gets less secure as we move to 2D and 3D. In 1D the balance point can be determined like this\n",
    "\n",
    "$$\\large x_{cm} = \\frac{\\sum_{i} x_i m_i}{\\sum_{i}m_i}$$\n",
    "\n",
    "The $x_i\\: m_i$ terms mean that masses further from the balance point have more effect on the location of the center of mass as you would expect. We can extend this exact idea to arbitrary geometries as\n",
    "\n",
    "$$\\large \\bar{r}_{cm} = \\frac{\\sum_{i} m_i\\: \\bar{r}_i}{\\sum_{i}m_i = m_{total}} = \\frac{\\sum_{i} m_i\\: \\bar{r}_i}{m}$$\n",
    "\n",
    "If we take the second derivative with respect to time of all the individual masses the resulting expression is the same as the second derivative of the center of mass of the system. Because of Newton's 3rd Law **AND** our assumption that we are dealing with rigid bodies any forces acting on any point of the rigid body is effectively acting on the center of mass. \n",
    "\n",
    "If we take the second derivative of this expression we see that \n",
    "\n",
    ".\n",
    "$$\\large \\bar{a}_{cm} = \\frac{d^2\\bar{r}_{cm}}{dt^2}  = \\frac{\\sum_{i} m_i\\: \\frac{d^2\\bar{r_i}}{dt^2}}{m}$$\n",
    " \n",
    "..or..\n",
    "\n",
    ".\n",
    "$$\\large m \\bar{a}_{cm} = \\sum_{i} m_i\\: \\frac{d^2\\bar{r_i}}{dt^2}= \\sum_{i} F_i $$\n",
    "\n",
    "..where $\\sum\\limits_{i} F_i $ is the sum of all forces acting on each bit of the rigid object. The conceptually important idea here is that center of mass of an object acts as if ALL forces on the rigid object act on an equivent mass located at the center of mass. Even if the object were to twist and spin as a result of the complex forces acting on it the center of mass responds as a simple object subject to $F_{net}$.\n",
    "\n",
    ".$$\\large F_{net} = \\sum_{i} F_i = m\\bar{a}_{cm} $$\n",
    "\n",
    "Here's an example of a situation where you may not be so confident about this statement. Imagine you have a 2x4 lying flat on a sheet of ice and you are going to push it 'sideways' across the ice. Push on the center, at the center of mass, of the 2x4 with some force and it will move across the ice with some initial speed. Push on the end of the 2x4 with the same force and it will rotate as it moves across the ice (because you pushed at a point away from the center of mass) **BUT** how does it move laterally as it rotates? Is it moving faster, slower, or the same as it travels across the ice while rotating?\n",
    "\n",
    "Most of us have the expectation that it will move slower which is wrong. **IF** we push with the same force, which is very hard to do as the end swings away from us, the 2x4 will travel across the ice at the same lateral speed as it did when we push on the middle. This is what the statement above asserts and it is correct. \n",
    "\n",
    "Note: I am assuming that I push with the same force over the same **time** in each of these cases."
   ]
  },
  {
   "cell_type": "markdown",
   "metadata": {},
   "source": [
    "### Newton's 2nd Law: Linear Motion (1D) in Cartesian Coordinates\n",
    "#### 14.2\n",
    "\n",
    "#### Concept Review:\n",
    "\n",
    "Newton's Laws (particularly the 2nd) allow us to determine the acceleration of an object in some coordinate system. What we spent all of our time doing up until now is developing tools to describe the motion of objects if we know their acceleration in some coordinate system regardless of the the functional dependence of the acceleration. \n",
    "\n",
    "#### Newton's 2nd: Same as physics but more depth!\n",
    "\n",
    "Do I have to say it? **START WITH A GOOD FREEBODY DIAGRAM!** After that determine the net force in your chosen coordinate system, divide by mass, and solve for required behavior from the acceleration. Sounds simple eh? \n",
    "\n",
    ".$$\\large F_{net} = \\sum_{i} F_i = m\\bar{a}_{cm} $$\n"
   ]
  },
  {
   "cell_type": "markdown",
   "metadata": {},
   "source": [
    "***\n",
    "### Sample Problem: Linear Cartesian\n",
    "\n",
    ">The crate on the ramp has a mass of 120 kg and the coefficients of friction between the crate and the ramp are $\\mu_s = 0.6$ and $\\mu_k=0.4$ respectively. What is the cable tension needed to start moving the crate and how fast will the crate be moving when it is 2 m up the ramp. Assume the tension is constant once the crate starts moving.\n",
    "\n",
    "<img src=\"https://raw.githubusercontent.com/smithrockmaker/ENGR212/master/images/boxRamp.png\" />\n",
    "\n",
    "[Solution](https://github.com/smithrockmaker/ENGR212/blob/main/documents/SampleProb4-1.pdf)\n",
    "***"
   ]
  },
  {
   "cell_type": "markdown",
   "metadata": {},
   "source": [
    "***\n",
    "### Sample Problem: Linear Cartesian\n",
    "\n",
    ">A particular multipupose military aircraft has a mass of 18,000 kg and a landing speed of 213 km/h. The thrust reversers and aerodynamic drag combine to give a decelerating force of $F = 80,000 + 2.5 v^2 N$ where v is in m/s. What is the landing distance for this aircraft under these circumstances?\n",
    "\n",
    "\n",
    "[Solution](https://github.com/smithrockmaker/ENGR212/blob/main/documents/SampleProb4-2.pdf)\n",
    "***"
   ]
  },
  {
   "cell_type": "code",
   "execution_count": null,
   "metadata": {},
   "outputs": [],
   "source": []
  }
 ],
 "metadata": {
  "kernelspec": {
   "display_name": "Python 3 (ipykernel)",
   "language": "python",
   "name": "python3"
  },
  "language_info": {
   "codemirror_mode": {
    "name": "ipython",
    "version": 3
   },
   "file_extension": ".py",
   "mimetype": "text/x-python",
   "name": "python",
   "nbconvert_exporter": "python",
   "pygments_lexer": "ipython3",
   "version": "3.8.12"
  }
 },
 "nbformat": 4,
 "nbformat_minor": 4
}
