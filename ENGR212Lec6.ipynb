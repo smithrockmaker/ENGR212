{
 "cells": [
  {
   "cell_type": "markdown",
   "metadata": {},
   "source": [
    "## ENGR 212 Lecture Notes\n",
    "\n",
    "### Lecture 6\n",
    "#### 14.3 - 14.4 in Bedford/Fowler\n",
    "\n",
    "On one hand it's very tempting to say \"Just do Newton's 2nd Law in any coordinate system to figure out the acceleration followed by CH 13 - kinematics to finish\" as if that was a reasonable and self evident thing. Perhaps someday you will think this is obvious but probably not yet. \n",
    "\n",
    "What I do hope you are comfortable with is the idea that once we identify the forces acting on an object you can find the components of those forces in **ANY** coordinate system that you might choose. In calc physics we typically stick to the Cartesian coordinate system because it's familiar and, as we now know, the unit vectors have no potential time dependent behavior. In these sections we're going to explore examples of Newton's Laws applied in contexts where we can use normal and tangential coordinates or polar coordinates to represent the Forces. This is what we are doing and all that changes is the coordinate system with which we describe the forces.\n",
    "\n",
    ".$$\\large F_{net} = \\sum_{i} F_i = m\\bar{a}_{cm} $$\n",
    "\n",
    "In each case we start where we always start with forces which is the freebody diagram. The difference comes at the point when we get to choose which coordinate system to use for the particular setting, What to choose and why is really the question. All of which is to say that being clear in your freebody diagram what your choice of coordinate system is and how it relates to the forces in the problem is the first important 'move'.\n",
    "\n",
    "#### Important Note:\n",
    "\n",
    "Ultimately it doesn't matter what coordinate system you use. If your math skills are up to it all problems must be solvable in any coordinate system. The fact that the math might be immensely simplified in one coordinate system rather than another is another matter.\n"
   ]
  },
  {
   "cell_type": "markdown",
   "metadata": {},
   "source": [
    "### Which Coordinate System to Choose:\n",
    "\n",
    "In the textbook it's easy because the problems are staged to use a particular coordinate system for the problems in that section. In life there are no such clues.\n",
    "\n",
    "#### Cartesian:\n",
    "\n",
    "The Cartesian coordinate system is most obviously relevant when the directions of the forces don't change. In many cases the actual movement of the object is linear as well although projectile motion responds well to Cartesian coordinates.\n",
    "\n",
    "#### Normal/Tangential\n",
    "\n",
    "In some sense the normal and tangential system is structured to address the movement of objects along very general paths. It is a bit misleading that most of the textbook problems we do in this section represent planar and circular paths. These can often be addressed equally well with Cartesian and Polar coordinates. We are exploring this coordinate system so you understand it's basic features but problems for which normal/tangential coordinates are going to be more useful than other choices will almost certainly have complex paths along which we will need to know a fair amount of information about the forces or the kinematics, and/or the shape of the path. \n",
    "\n",
    "After digging around I found an example of such a problem. If we consider the flight path of airplane where the acceleration in the normal direction is kept constant while v and $\\rho$ are allowed to vary. Another problem of this type is the so called pursuit problem where one object is moving along a path and the other is constantly adjusting to pursue the first object. Think of the velociraptor chasing you across the field. Perhaps I will include one or both of these in some future version of this class. For now I link the MIT dynamics document for those who are interested.\n",
    "\n",
    "[MIT Intrinsic Coordinates](https://ocw.mit.edu/courses/aeronautics-and-astronautics/16-07-dynamics-fall-2009/lecture-notes/MIT16_07F09_Lec06.pdf)\n",
    "\n",
    "[MIT 16.07](https://ocw.mit.edu/courses/aeronautics-and-astronautics/16-07-dynamics-fall-2009/index.htm)\n",
    "\n",
    "#### Polar:\n",
    "\n",
    "Again, many of the example problems addressed in textbooks are circular motion problems that could be addressed equally well in Cartesian coordinates. In general polar coordinates are particularly relevant when some of the forces in a problem align with the $\\hat{e}_r$ or the $\\hat{e}_{\\theta}$ unit vectors. An example would be orbital settings there the primary force in the problem is towards the center of the coordinate system which means the acceleration in that direction is known. Even though the path is NOT aligned with the polar coordinate directions this can still be considered in polar coordinates. The last sample problem is an example where some of the forces are aligned with polar coordinates and others are not. It is not clear whether it is easier in polar rather than cartesian (someday when I have infinite time I might try it) but it definitely works.\n",
    "\n",
    "Another care where polar coordinates arise naturally is when the data we have about the path of an object is essentially polar. Radar detection systems are intrinsically polar in that they record the distance to an object and it's anglular position. You are right that this is actually spherical coordinates but if we limit the setting to a vertical plane it becomes polar. A classic problem of this type provides you with the description of a object falling straight down (a rock) in polar coordinates and asks you to verify it's total acceleration and path. Much easier in cartesian coordinates but an 'amusing' challenge problem in polar coordinates.\n",
    "\n",
    "These notes (pdf) from an MIT Dynamics course explore some of these situations [MIT Dynamics: Polar](https://ocw.mit.edu/courses/aeronautics-and-astronautics/16-07-dynamics-fall-2009/lecture-notes/MIT16_07F09_Lec05.pdf). There is a great deal in this document and it talks about spherical coordinates as well. Happy exploring!"
   ]
  },
  {
   "cell_type": "markdown",
   "metadata": {},
   "source": [
    "***\n",
    "### Sample Problem: normal/tangential\n",
    "\n",
    ">The disc is rotating in the horizontal plane at a constant angular velocity of 4 rad/s. The sides of the slot are 'smooth' and the string is aligned with the slot. Determine tension in the string as well as the direction and magnitude of the force on the slider ($m_{slider} = .5\\:$ kg) from the side of the slot.\n",
    "\n",
    "<img src=\"https://raw.githubusercontent.com/smithrockmaker/ENGR212/master/images/Sample6-1.png\" />\n",
    "\n",
    "[Solution](https://github.com/smithrockmaker/ENGR212/blob/main/documents/SampleProb6-1.pdf)\n",
    "***"
   ]
  },
  {
   "cell_type": "markdown",
   "metadata": {},
   "source": [
    "***\n",
    "### Sample Problem: normal/tangential\n",
    "\n",
    ">The mass is attached to a string which wraps around a pole which has a constant radius (like a tether ball pole). Initially the ball has a velocity of $v_0$. Assume the process is taking place in the horizontal plane so gravity or friction play no role. Find $\\theta (t)$.  \n",
    "\n",
    "<img src=\"https://raw.githubusercontent.com/smithrockmaker/ENGR212/master/images/Sample6-4.png\" />\n",
    "\n",
    "[Solution](https://github.com/smithrockmaker/ENGR212/blob/main/documents/SampleProb6-2.pdf)\n",
    "***"
   ]
  },
  {
   "cell_type": "markdown",
   "metadata": {},
   "source": [
    "***\n",
    "### Sample Problem: polar\n",
    "\n",
    ">A 2 kg mass rests of a flat horizontal bar. The bar rotates in the vertical plane (gravity is a factor) with a constant angular acceleration of $\\alpha = 1\\: rad/s^2$. The mass starts slipping when the bar is $30^{\\circ}$ above the initial orientation. What is the static coefficient of friction and which way does the mass slip?\n",
    "\n",
    "<img src=\"https://raw.githubusercontent.com/smithrockmaker/ENGR212/master/images/Sample6-3.png\" />\n",
    "\n",
    "[Solution](https://github.com/smithrockmaker/ENGR212/blob/main/documents/SampleProb6-3.pdf)\n",
    "***"
   ]
  },
  {
   "cell_type": "markdown",
   "metadata": {},
   "source": [
    "***\n",
    "### Sample Problem: polar\n",
    "\n",
    ">The 110 g slider is pushed along the circular bar because it is captured in the rotating slotted bar. The apparatus is oriented in the vertical plane. The position of the slotted bar is given by $\\theta = 10 t^2$ rad. What are the polar components of the force on the slider due to the two bars?\n",
    "\n",
    "<img src=\"https://raw.githubusercontent.com/smithrockmaker/ENGR212/master/images/Sample6-2.png\" />\n",
    "\n",
    "[Solution](https://github.com/smithrockmaker/ENGR212/blob/main/documents/Sample6-4.pdf)\n",
    "***"
   ]
  },
  {
   "cell_type": "markdown",
   "metadata": {},
   "source": [
    "$$\\large \\bf{i} = \\hat{i} = \\bf{e_x} = \\hat{e}_x $$"
   ]
  },
  {
   "cell_type": "code",
   "execution_count": null,
   "metadata": {},
   "outputs": [],
   "source": []
  }
 ],
 "metadata": {
  "kernelspec": {
   "display_name": "Python 3 (ipykernel)",
   "language": "python",
   "name": "python3"
  },
  "language_info": {
   "codemirror_mode": {
    "name": "ipython",
    "version": 3
   },
   "file_extension": ".py",
   "mimetype": "text/x-python",
   "name": "python",
   "nbconvert_exporter": "python",
   "pygments_lexer": "ipython3",
   "version": "3.8.12"
  }
 },
 "nbformat": 4,
 "nbformat_minor": 4
}
