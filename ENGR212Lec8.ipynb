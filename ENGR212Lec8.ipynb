{
 "cells": [
  {
   "cell_type": "markdown",
   "metadata": {},
   "source": [
    "## ENGR 212 Lecture Notes\n",
    "\n",
    "### Lecture 8\n",
    "#### 15.3 in Bedford/Fowler\n",
    "\n",
    "Nothing new here. All the relevant tools are in Lec 7. Just more sample problems here.\n"
   ]
  },
  {
   "cell_type": "markdown",
   "metadata": {},
   "source": [
    "***\n",
    "### Sample Problem: Springs and Stuff\n",
    "\n",
    ">The system is at rest as shown. The collar has a weight of 12 lbs and the spring constant is 20 lb/ft. A constant 30 lb force is applied to the cable. What is the velocity of the collar when it has risen 1 ft?\n",
    "\n",
    "<img src=\"https://raw.githubusercontent.com/smithrockmaker/ENGR212/master/images/Sample8-1.png\" />\n",
    "\n",
    "[Solution](https://github.com/smithrockmaker/ENGR212/blob/main/documents/SampleProb8-1.pdf)\n",
    "***"
   ]
  },
  {
   "cell_type": "markdown",
   "metadata": {},
   "source": [
    "***\n",
    "### Sample Problem: Polar\n",
    "\n",
    ">The 1 kg disk pictured slide on a 'smooth' horizontal table. The string which passes through the hope has a constant tension of 10 N (possibly a weight!). At the moment pictured r= 1 m and $v_{\\theta} = 8\\: \\hat{e}_{\\theta}$ m/s. $v_t =$ constant (not  $v_{\\theta}$!). Find the velocity of the disk when r = 2 m.\n",
    "\n",
    "<img src=\"https://raw.githubusercontent.com/smithrockmaker/ENGR212/master/images/Sample8-2.png\" />\n",
    "\n",
    "[Solution](https://github.com/smithrockmaker/ENGR212/blob/main/documents/SampleProb8-2.pdf)\n",
    "***"
   ]
  },
  {
   "cell_type": "code",
   "execution_count": null,
   "metadata": {},
   "outputs": [],
   "source": []
  }
 ],
 "metadata": {
  "kernelspec": {
   "display_name": "Python 3 (ipykernel)",
   "language": "python",
   "name": "python3"
  },
  "language_info": {
   "codemirror_mode": {
    "name": "ipython",
    "version": 3
   },
   "file_extension": ".py",
   "mimetype": "text/x-python",
   "name": "python",
   "nbconvert_exporter": "python",
   "pygments_lexer": "ipython3",
   "version": "3.8.12"
  }
 },
 "nbformat": 4,
 "nbformat_minor": 4
}
