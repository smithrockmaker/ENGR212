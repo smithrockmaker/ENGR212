{
 "cells": [
  {
   "cell_type": "markdown",
   "metadata": {},
   "source": [
    "## ENGR 212 Lecture Notes\n",
    "\n",
    "### Lecture 9\n",
    "#### 16.1 - 16.2 in Bedford/Fowler\n",
    "\n",
    "At this point we start edging into material which we discussed in PH 211 but probably didn't have time to explore too deeply. This week we revisit and tune up that understanding.\n"
   ]
  },
  {
   "cell_type": "markdown",
   "metadata": {},
   "source": [
    "## Summary:\n",
    "\n",
    "Impulse and Conservation of Momentum. Assumes we remember the concept of moment ($\\bar{p} = m\\bar{v}$) from physics. The new thing we have to consider is the possibility that the mass is NOT constant.\n",
    "\n",
    "Elastic, Inelastic, and Coefficient of Restitution:\n",
    "\n",
    "### Impulse:\n",
    "\n",
    "The change in momentum of a single object is called the impulse. The integral at the begining is the area under the plot of $\\bar{F}_{net}$ vs t.\n",
    "\n",
    ".$$\\large \\int_{t_0}^{t_f}\\bar{F}_{net} dt = \\bar{F}_{ave}(t_f -t_0) = \\Delta \\bar{p}$$\n",
    "\n",
    "### Conservation of Momentum:\n",
    "\n",
    "The following expression is a vector expression so there is a bar chart for each axis in our problem.\n",
    "\n",
    ".$$\\large \\bar{p}_{1_0} + \\bar{p}_{2_0} + ....\\bar{p}_{N_0} = \\bar{p}_{1_f} + \\bar{p}_{2_f} + ....\\bar{p}_{N_f} $$ \n",
    "\n",
    "### Elastic, Inelastic, Coeff of Restitution (e):\n",
    "\n",
    "**Elastic:** Kinetic energy is conserved (unchanged) before and after.  \n",
    "**Inelastic:** Masses stick together and final velocities are the same.\n",
    "\n",
    "**Everything Else:**\n",
    "\n",
    ".$$\\large e = \\frac{|\\bar{v}_{2_f} \\pm \\bar{v}_{1_f}|}{|\\bar{v}_{1_0} \\pm \\bar{v}_{2_0}|} = \\frac{|v_{2/1_{final}}|}{|v_{1/2_{initial}}|}$$\n",
    "\n",
    "perfectly elastic $\\large \\implies  e = 1$  \n",
    "\n",
    "perfectly inelastic $\\large \\implies  e = 0$"
   ]
  },
  {
   "cell_type": "markdown",
   "metadata": {},
   "source": [
    "### Impulse\n",
    "\n",
    "I think it's helpful to recognize that we have different ways of describing the same event. It's not that one is better or worse but that they provide different perspectives on some aspect of the problem. Energy is an example of focusing on how forces acting over distances either add or remove this quantity we call energy. In the exact same setting we could consider how those same forces act over some time (which is related to distance) and what that might tell us about the event.\n",
    "\n",
    "If we start from a basic statement of Newton's 2nd Law for an object with a constant mass we might write....\n",
    "\n",
    ".$$\\large \\bar{F}_{net} = m\\: \\frac{d\\bar{v}}{dt}$$  \n",
    "\n",
    "which, if we separate variables and integrate gives us....\n",
    "\n",
    ".$$\\large \\int_{t_0}^{t_f}\\bar{F}_{net} dt = m \\int_{v_0}^{v_f}d\\bar{v} = m \\: \\bar{v_f} - m\\:\\bar{v_0} = \\Delta (m\\: \\bar{v}) $$ \n",
    "\n",
    "Because we define the momentum (p) = m v  this is sometime written as....\n",
    "\n",
    ".$$\\large \\int_{t_0}^{t_f}\\bar{F}_{net} dt =  \\Delta (\\bar{p}) ,\\: \\bar{p} = m\\bar{v}$$ \n",
    "\n",
    "As we did in physics we note that the definition of the average force ($F_{ave}$ is that it is constant over the interval then the left side of this integral can be expressed....\n",
    "\n",
    ".$$\\large \\int_{t_0}^{t_f}\\bar{F}_{net} dt =  \\bar{F}_{ave}\\int_{t_0}^{t_f}dt = \\bar{F}_{ave}(t_f -t_0)$$\n",
    "\n",
    "Many forces act on objects over short periods of time and we have a very limited understanding of their explicit time dependence. In these cases we can glean at least some information by considering the average force that produces a particular change in momentum. On a language level we call **$\\Delta \\bar{p}$ the impulse** and the forces which create the impulse are called impulsive forces. In some sense all forces are impulsive but we tend to reserve the description for forces acting over a short time frame.\n",
    "\n",
    "All of the above can be summarized as....\n",
    "\n",
    ".$$\\large \\int_{t_0}^{t_f}\\bar{F}_{net} dt = \\bar{F}_{ave}(t_f -t_0) = \\Delta \\bar{p}$$\n",
    "\n",
    "where the right hand side is the impulse and the forces contributing to the left hand side are called impulsive forces whether average or not. These are all vector quantities so if we know the velocity along a path in some coordinate system we can at least find the vector form of the average net force.\n",
    "\n",
    "### Application Note:\n",
    "\n",
    "Impulse as a concept is about the net forces on a single object of interest. Momentum concepts are more commonly associated with collisions which sometimes leads to confusion. There are impulsive forces on each individual object in a collision which we can determine **IF** we know the duration of the collision. If you are asked about impulse you will normally need to know something about the time over which the process takes place."
   ]
  },
  {
   "cell_type": "markdown",
   "metadata": {},
   "source": [
    "***\n",
    "### Sample Problem: Impulse\n",
    "\n",
    ">In all kinds of sports there is the 'opportunity' to get hit by the ball/puck/racket used in that sport. In hockey the puck has a mass of 170 g and might be moving as fast as 40 m/s. Using high speed photography the duration of the impact with a facemask is determined to be 0.02 s (representative not universal) and the rebound velocity is 5 m/s. If you are a design engineering working for a sports equiment company what is the average impulsive force that that this data suggests? What design force would this suggest for the facemask? Given that the head has a typical mass of 5 kg what is the acceleration of the head in g's after this impact?\n",
    "\n",
    "\n",
    "[Solution](https://github.com/smithrockmaker/ENGR212/blob/main/documents/SampleProb9-1.pdf)\n",
    "***"
   ]
  },
  {
   "cell_type": "markdown",
   "metadata": {},
   "source": [
    "### Linear Momentum and Collisions:\n",
    "\n",
    "In some sense the use of momentum as a tool in collisions comes from the application of the impulse discussion above to a broader system of multiple objects. Nothing in the following expression prevents it from being applied to a system of multiple objects (pointing out the importance of being clear about your system).\n",
    "\n",
    ".$$\\large \\int_{t_0}^{t_f}\\bar{F}_{net_{system}} dt =  \\Delta \\bar{p}_{system} $$ \n",
    "\n",
    "Since $\\bar{F}_{net}$ is a sum of forces this can be expressed as\n",
    "\n",
    ".$$\\large \\int_{t_0}^{t_f}\\bar{F}_{net_{obj1}} + \\bar{F}_{net_{obj2}}...\\bar{F}_{net_{obj-N}} dt =  \\Delta \\bar{p}_{system} $$ \n",
    "\n",
    "which implies...\n",
    "\n",
    ".$$\\large \\Delta\\bar{p}_{obj1} + \\Delta\\bar{p}_{obj2} + ....\\Delta\\bar{p}_{obj-N} = \\Delta \\bar{p}_{system} $$ \n",
    "\n",
    "All of which is most useful **IF** \n",
    "\n",
    ".$$\\large \\bar{F}_{net_{system}} = 0 \\implies \\Delta \\bar{p}_{system} = 0$$\n",
    "\n",
    "leading to.....\n",
    "\n",
    ".$$\\large \\Delta\\bar{p}_{obj1} + \\Delta\\bar{p}_{obj2} + ....\\Delta\\bar{p}_{obj-N} =0$$ \n",
    "\n",
    "and\n",
    "\n",
    ".$$\\large \\bar{p}_{1_0} + \\bar{p}_{2_0} + ....\\bar{p}_{N_0} = \\bar{p}_{1_f} + \\bar{p}_{2_f} + ....\\bar{p}_{N_f} $$ \n",
    "\n",
    "which we call **Conservation of Momentum**. Note that it is usually applied to only two objects but nothing in the machinery of this idea limits the application to only two objects.\n",
    "\n",
    "### Application Note:\n",
    "\n",
    "While it is not yet customary in engineering we will always use the idea of a momentum conservation bar chart when approaching these problems. As long as all forces are internal the momentum bar chart is a valid representation of our problem."
   ]
  },
  {
   "cell_type": "markdown",
   "metadata": {},
   "source": [
    "### Elastic, Inelastic, and Coefficient of Restitution\n",
    "\n",
    "As we noted in physics the two extreme forms of collisions are those where the objects stick together as a single mass after the collision, called **inelastic**, and rigid body collisions where no energy is lost during the collision, called **elastic**. It would be prudent to change our language slightly to recognize these extreme cases as **perfectly inelastic** and **perfectly elastic** to distinguish them from all the intermediate possibilities.\n",
    "\n",
    "### Perfectly Inelastic\n",
    "\n",
    "The take home for perfectly inelastic collision is that the final velocity of both objects is the same. This reduces the number of unknowns and often simplifies the math. Be aware that there is also the inverse of a perfectly inelastic collision that starts with one object that comes apart into multiple objects. Radioactive decay is actually an example of a perfectly inelastic anti-collision!\n",
    "\n",
    "### Perfectly Elastic\n",
    "\n",
    "In perfectly elastic collisions there is no energy lost which requires that the total kinetic energy of the objects after the collision be identical to the total kinetic energy before the collision. This type of collision is often referred to as a 'rigid body' collision since if the object don't deform no energy can be lost.\n",
    "\n",
    ".$$ \\large KE_{1_0} + KE_{2_0}...+KE_{N_0} = KE_{1_f} + KE_{2_f}...+KE_{N_f}$$\n",
    "\n",
    "This seems like it would be nice mathematically but because the kinetic energy depends on $v^2$ and the momentum depends only on $v$ it often leads to challenging algebra. \n",
    "\n",
    "### Coefficient of Restitution.\n",
    "\n",
    "By careful analysis of the impulsive forces within the collision (along a single axis) we can define a term that relates the velocities of the objects before and after the collision when some energy is lost. The details don't seem to add much value here at this point so I merely quote the result. The symbol for the coefficient of restitution is usually e.\n",
    "\n",
    ".$$\\large e = \\frac{|\\bar{v}_{2_f} \\pm \\bar{v}_{1_f}|}{|\\bar{v}_{1_0} \\pm \\bar{v}_{2_0}|} = \\frac{|v_{2/1_{final}}|}{|v_{1/2_{initial}}|}$$\n",
    "\n",
    "**I have found it difficult to keep this expression straight and last version is the most helpful for me**! Depending on the direction of the velocities of each object in your coordinate system you may add or subtract those velocities to get the relative velocity. The coefficient of restitution relates the **magnitude** of the relative velocity AFTER the collision to the **magnitude** of the relative velocity BEFORE the collision. It only applies along any axis where there are forces.\n",
    "\n",
    "For elastic collisions e = 1 and for inelastic collisions e = 0 (because the denominator is 0). "
   ]
  },
  {
   "cell_type": "markdown",
   "metadata": {},
   "source": [
    "***\n",
    "### Sample Problem: Collision/Coefficient of Restitution\n",
    "\n",
    ">A Newton's Cradle is a 'toy' with multiple pendula (usually 5) that swing in different patterns. In this problem we address the simpler question of two pendula colliding with a given coefficient of restitution. Assume the mass of each ball is 225 g and the string is 15 cm long. If the first ball is released from an angle of $ \\theta = 35^o$ and the coefficient of restitution (e) is 0.9 what is the maximum angle for the struck ball after the collision?\n",
    "\n",
    "<img src=\"https://raw.githubusercontent.com/smithrockmaker/ENGR212/master/images/Sample9-2.png\" />\n",
    "\n",
    "[Solution](https://github.com/smithrockmaker/ENGR212/blob/main/documents/SampleProb9-2.pdf)\n",
    "***"
   ]
  },
  {
   "cell_type": "code",
   "execution_count": null,
   "metadata": {},
   "outputs": [],
   "source": []
  }
 ],
 "metadata": {
  "kernelspec": {
   "display_name": "Python 3 (ipykernel)",
   "language": "python",
   "name": "python3"
  },
  "language_info": {
   "codemirror_mode": {
    "name": "ipython",
    "version": 3
   },
   "file_extension": ".py",
   "mimetype": "text/x-python",
   "name": "python",
   "nbconvert_exporter": "python",
   "pygments_lexer": "ipython3",
   "version": "3.9.7"
  }
 },
 "nbformat": 4,
 "nbformat_minor": 4
}
