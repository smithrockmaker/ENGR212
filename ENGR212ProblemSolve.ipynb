{
 "cells": [
  {
   "cell_type": "markdown",
   "metadata": {},
   "source": [
    "## Dynamics: Problem Solving Strategies\n",
    "\n",
    "### 1/21\n",
    "\n",
    "A consistent feature of the student experience in this class is that the individual pieces of the content make reasonable sense but connecting all the parts together in a range of different physical settings is much more confusing. This notebook is an effort to pull together a range of comments I have made in different 'lectures' to form a set of strategies for figuring out which mathematical tool might be useful or relevant. After that there is still the question of how to use the tool. \n",
    "\n",
    "**FEEDBACK PLEASE!**\n",
    "\n",
    "This notebook will necessarily be a evolving document. Please email questions and/or comments so I can make it more helpful for you.\n",
    "\n",
    "### Equation Sheet:\n",
    "\n",
    "I think it is advisable to have the equation sheet for this class open as you work on every problem. There is an enormous amount of information on it about kinematic relationships as well as the representation of those kinematic variables in different coordinate systems. Knowing how to find the mathematical tools you need only comes with practice."
   ]
  },
  {
   "cell_type": "markdown",
   "metadata": {},
   "source": [
    "### Problem Geometry:\n",
    "\n",
    "Part of the focus of the dynamics course is to consider PH211 style problems but in geometries besides cartesian (x, y, and z). This leads to a need to assess the geometric characteristics of a problem as a first step. Look for clues in the sketch of the problem and in the language of the problem.\n",
    "\n",
    "**NOTE**\n",
    "\n",
    "I want to reiterate that approaching a problem using a particular coordinate system does **NOT** change the actual accceleration or velocity vectors. The motion of the object is the motion of the object. I encourage yoyu to draw any known velocity or acceleration vectors on your sketch so it's staring back at you as you work. The choice of the coordinate system only changes how we represent it. A case in point. An object traveling at a constant speed in a circle has a constant tangential component but varying $v_x$ and $v_y$. \n",
    "\n",
    "**Cartesian:**\n",
    "\n",
    "i, j, k are good indicators. Forces or accelerations that are consistently in one direction. Sometimes there are linear features to a problem that are connected to non-linear features. This suggests that we will need to connect the linear behavior to another coordinate system.\n",
    "\n",
    "**n/t:**\n",
    "\n",
    "Normal and tangential follows the object along it's path. This suggests the path is known. Langauge in the problem statement or in the unit vectors descibing the problem may suggest this is a relevant coordinate system. Remember that in this coordinate system $\\bar{v}$ is ONLY in the $\\hat{e}_t$ direction.\n",
    "\n",
    "**Polar:**\n",
    "\n",
    "Polar coordinates are typically relevant to planar problems (all the motion is in a plane). Simple polar coordinate problems can look a lot like n/t problems. If you can determine the functions that describe r and $\\theta$ then this may be a good choice. In the text we usually ask you to use a particular coordinate system for a problem to practice your skills even if it might be simpler in another system.\n",
    "\n",
    "**Moving Between Coordinates:**\n",
    "\n",
    "Some of the more frustrating problems in the begining are ones where there are elements of two coordinate systems. If this happens draw both coordinate systems on the sketch and write down both sets of velocity and acceleration expressions.\n",
    "\n",
    "**Circular Motion:**\n",
    "\n",
    "When we simplify more general curvilinear motion down to circular motion the distinctions between n/t and polar essentially disappear. In circular motion $\\hat{e}_t = \\hat{e}_{\\theta}$ and  $\\hat{e}_n = -\\hat{e}_{r}$. "
   ]
  },
  {
   "cell_type": "markdown",
   "metadata": {},
   "source": [
    "### The Sketch:\n",
    "\n",
    "I can't emphasize this enough. Once you have decided which coordinate systems might be relevant draw those unit vectors on your sketch. For most of us this is an important step in visualizing the relationships between the given features of the problem and the coordinate directions. "
   ]
  },
  {
   "cell_type": "markdown",
   "metadata": {},
   "source": [
    "### Write Down the Tools:\n",
    "\n",
    "Having identified the coordinate system(s) that may be relevant then write down the general form of the velocity and acceleration in that coordinate system. This will involve multiple terms with particular components in the chosen coordinate system. Be careful about the difference between $\\rho$ and r. \n",
    "\n",
    "**Assess the Situation:**\n",
    "\n",
    "Once you have the mathematical tools written down go through them term by term and see which ones you know and which you don't. Be thoughtful about derivatives which may be zero because something is constant. Do you know all of the terms in the velocity or the acceleration? Were you given information that tells you the magnitude of the velocity or a particular component of the velocity? Same question for acceleration?\n",
    "\n",
    "**Remember the $a \\rightarrow \\alpha$ and $v \\rightarrow \\omega$:**\n",
    "\n",
    "You may have one or the other but as you're assessing the situation don't lose track of the tight relationship between linear and angular variables. If you have one but need the other it may be a simple relationship.\n",
    "\n",
    "**Remember Magnitudes of Components and the Total Magnitude:**\n",
    "\n",
    "It is easy to get caught up in the many terms and expressions that are spilling across your page. Don't forget that each component of v and a have a magnitude which you may know or perhaps you know the magnitude of the total a or v. \n"
   ]
  },
  {
   "cell_type": "markdown",
   "metadata": {},
   "source": [
    "### Components:\n",
    "\n",
    "Once you have drawn unit vectors on your sketch it's time consider accelerations in those directions and/or force components along those coordinate axes. Keep the concept firmly in your mind that the acceleration along a coordinate axis is determined by the net forces along that axis and vica versa. If you know the acceleration in a direction you know the net force along that axis (assuming you have the mass).\n",
    "\n",
    "**Normal Forces**\n",
    "\n",
    "Be particularly careful about normal forces. Normal forces are perpendicular to the surface in contact with the object of interest. This is sometimes subtly different that it might at first appear.\n"
   ]
  },
  {
   "cell_type": "markdown",
   "metadata": {},
   "source": [
    "### Functional Dependence:\n",
    "\n",
    "As you examine the various terms in your acceleration or velocity in what ever coordinate system take a moment to clearly state to yourself whether that term is constant or not. If it is NOT constant what does it depend on? Many times the dependence is implicit which means that it is hiding inside another variable. A common version of this is when the velocity depends on $cos(\\theta)$ but $\\theta = \\theta (t)$ is time dependent. Maybe we don't need to know the explicit form of that time dependence but it is generally helpful to be aware of it. \n",
    "\n",
    "**How to Separate Variables:**\n",
    "\n",
    "Having a clear picture of the functional dependence of a variable (particularly a kinematic variable) gives you clues "
   ]
  },
  {
   "cell_type": "markdown",
   "metadata": {},
   "source": [
    "### Solving:\n",
    "\n",
    "It is my belief that, in most cases, when you have gone through the steps above it is lik"
   ]
  }
 ],
 "metadata": {
  "kernelspec": {
   "display_name": "Python 3",
   "language": "python",
   "name": "python3"
  },
  "language_info": {
   "codemirror_mode": {
    "name": "ipython",
    "version": 3
   },
   "file_extension": ".py",
   "mimetype": "text/x-python",
   "name": "python",
   "nbconvert_exporter": "python",
   "pygments_lexer": "ipython3",
   "version": "3.8.5"
  }
 },
 "nbformat": 4,
 "nbformat_minor": 4
}
