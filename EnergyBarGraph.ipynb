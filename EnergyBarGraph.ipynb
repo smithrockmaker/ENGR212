{
 "cells": [
  {
   "cell_type": "markdown",
   "metadata": {},
   "source": [
    "## Energy Bar Charts:\n",
    "\n",
    "### ENGR 212\n",
    "\n",
    "##### Why?\n",
    "\n",
    "Energy bar charts are core tool for visualizing work-energy problems. It would be lovely to have a tool that is interactive AND provides an effective tool for both problem solving as well as teaching. That's what this is attempting. Static first!"
   ]
  },
  {
   "cell_type": "code",
   "execution_count": 111,
   "metadata": {},
   "outputs": [],
   "source": [
    "import numpy as np\n",
    "import matplotlib.pyplot as plt"
   ]
  },
  {
   "cell_type": "markdown",
   "metadata": {},
   "source": [
    "### Setting Up the Bar Graph\n",
    "\n",
    "My starting plan is 4 bars for the begining, 4 for the end, 2 for the transition, and two dividing lines. This is 12 locations for objects to be plotted.\n",
    "\n",
    "[matplotlib.pyplot.bar documentation](https://matplotlib.org/3.1.1/api/_as_gen/matplotlib.pyplot.bar.html)\n",
    "\n",
    "[numpy.arange() documentation](https://numpy.org/doc/stable/reference/generated/numpy.arange.html)\n",
    "\n",
    "I like the visual look of the width argument being .4. Default is apparently 0.8\n",
    "\n",
    "Then I need to generate the labels for the bars. I'm going to define them individually and then assemble them into the list of the current 12"
   ]
  },
  {
   "cell_type": "code",
   "execution_count": 115,
   "metadata": {},
   "outputs": [
    {
     "name": "stdout",
     "output_type": "stream",
     "text": [
      "[0 1 2 3]\n",
      "[ 8  9 10 11]\n"
     ]
    }
   ],
   "source": [
    "# set up locations for bars and other objects\n",
    "# start with how many of each bar\n",
    "initialBars = 4\n",
    "transBars = 2\n",
    "finalBars = initialBars\n",
    "\n",
    "# total number of bars + 2 for vertical dividers +1 for net energy at end +1 extra\n",
    "N = initialBars + transBars + finalBars + 2 + 1 +1\n",
    "locate = np.arange(N) \n",
    "\n",
    "# shifted locations for labels\n",
    "locateShift = locate - 0.4\n",
    "\n",
    "# the x locations for the groups\n",
    "initialLoc = locate[0:initialBars]\n",
    "transLoc = locate[initialBars+1: initialBars + transBars +1]\n",
    "finalLoc = locate[N-(finalBars + 2):N-2]\n",
    "vlineLoc = [initialBars, (initialBars + transBars +1)]\n",
    "netLoc = locate[N-1]\n",
    "\n",
    "print(initialLoc)\n",
    "print(finalLoc)\n",
    "\n",
    "# Structure bar width - this is a proportional value apparently\n",
    "# it scales with plot figure size.\n",
    "width = 0.4\n",
    "\n",
    "# bar labels\n",
    "labelKEi = 'KE' # initial \n",
    "labelPEgi = 'PEg' # initial \n",
    "labelPEsi = 'PEs' # initial \n",
    "labelUKi = 'U_other' # unknown source of energy initial\n",
    "vertBar = ' '\n",
    "labelPM1 = 'W_F1' # unknown source of energy added or lost during process\n",
    "labelPM2 = 'W_F2' # unknown source of energy added or lost during process\n",
    "labelKEf = 'KE' # final\n",
    "labelPEgf = 'PEg' # final\n",
    "labelPEsf = 'PEs' # final\n",
    "labelUKf = 'U_other' # unknown source of energy final\n",
    "labelNet = 'net = 0' # does everything add up?\n",
    "labelLast = ' '\n",
    "\n",
    "# break labels into sections to support color coding\n",
    "initialLabels = [labelKEi,labelPEgi,labelPEsi,labelUKi]\n",
    "transLabels = [labelPM1, labelPM2]\n",
    "finalLabels = [labelKEf,labelPEgf,labelPEsf,labelUKf]\n",
    "netLabels = [labelNet]\n",
    "vertLabel = [vertBar]\n",
    "\n",
    "# put it all together for labels\n",
    "barLabels = initialLabels + vertLabel + transLabels + vertLabel + finalLabels + vertLabel + netLabels\n"
   ]
  },
  {
   "cell_type": "markdown",
   "metadata": {},
   "source": [
    "### Data Value for Starters\n",
    "\n",
    "Assign names to each of the data points for the bar heights. It is hoped that this will ease the link to interactive widgets for some future version of this tool\n"
   ]
  },
  {
   "cell_type": "code",
   "execution_count": 116,
   "metadata": {},
   "outputs": [],
   "source": [
    "# These match up with labels from the earlier cell.\n",
    "# this is the actual data\n",
    "KEi = 3. # initial KE\n",
    "PEgi = 2.5 # initial gravitational\n",
    "PEsi = .2 # initial spring\n",
    "UKi = -1.2 # unknown source of energy initial\n",
    "PM1 = +.2 # unknown source of energy added or lost during process\n",
    "PM2 = -.6 # unknown source of energy added or lost during process\n",
    "KEf = 0.2 # final\n",
    "PEgf = -.3 # final\n",
    "PEsf = -3 # final\n",
    "UKf = 0. # unknown source of energy final\n",
    "\n",
    "# Calculate net energy in the listed bars\n",
    "netEnergy = KEi + PEgi + PEsi + UKi + PM1 + PM2 +KEf + PEgf + PEsf + UKf\n",
    "\n",
    "# The whole list -- nmay keep this around or maybe not.\n",
    "barHeights = [KEi, PEgi, PEsi, UKi, 0., PM1, PM2, 0., KEf, PEgf, PEsf, UKf, netEnergy]\n",
    "energyMax = np.max(barHeights)\n",
    "energyMin = np.min(barHeights)\n",
    "\n",
    "\n",
    "# Separate the different parts of the plot so I can assign different colors\n",
    "initialHeights = [KEi, PEgi, PEsi, UKi]\n",
    "transHeights = [PM1, PM2]\n",
    "finalHeights = [ KEf, PEgf, PEsf, UKf]\n",
    "netHeights = [netEnergy]"
   ]
  },
  {
   "cell_type": "markdown",
   "metadata": {},
   "source": [
    "### Bar Graph\n",
    "\n",
    "So much to describe here that I haven't documented yet. .... stay tuned!!\n",
    "\n",
    "[pyplot.bar documentation](https://matplotlib.org/3.1.1/api/_as_gen/matplotlib.pyplot.bar.html)\n"
   ]
  },
  {
   "cell_type": "code",
   "execution_count": 117,
   "metadata": {},
   "outputs": [
    {
     "data": {
      "image/png": "[encoded data removed]",
      "text/plain": [
       "<Figure size 864x648 with 1 Axes>"
      ]
     },
     "metadata": {
      "needs_background": "light"
     },
     "output_type": "display_data"
    }
   ],
   "source": [
    "fig1, ax1 = plt.subplots()\n",
    "\n",
    "# bar graph sections\n",
    "ax1.bar(initialLoc, \n",
    "        initialHeights, \n",
    "        width,\n",
    "        color = 'red',\n",
    "        label= 'initial energy',\n",
    "        alpha = 0.4)\n",
    "ax1.bar(transLoc, \n",
    "        transHeights, \n",
    "        width,\n",
    "        color = 'purple',\n",
    "        label= 'added/lost',\n",
    "        alpha = 0.4)\n",
    "ax1.bar(finalLoc, \n",
    "        finalHeights, \n",
    "        width,\n",
    "        color = 'blue',\n",
    "        label= 'final energy',\n",
    "        alpha = 0.4)\n",
    "ax1.bar(netLoc, \n",
    "        netHeights, \n",
    "        width,\n",
    "        color = 'green',\n",
    "        label= 'net energy',\n",
    "        alpha = 0.4)\n",
    "\n",
    "\n",
    "# dividing lines\n",
    "ax1.vlines(vlineLoc, energyMin, energyMax, linestyles= 'dashed', color = 'navy')\n",
    "\n",
    "# turn on plot grid\n",
    "ax1.grid()\n",
    "\n",
    "# labeling stuff\n",
    "# plt.text([1.,2.],[0.5,0.5],[labelKEi,labelPEgi])\n",
    "ax1.tick_params(axis=\"x\",direction=\"in\", pad=-200)\n",
    "plt.xticks(locateShift, barLabels, fontsize = 12)\n",
    "\n",
    "\n",
    "plt.xlabel('energy type', fontsize = 20)\n",
    "plt.ylabel('energy', fontsize = 20)\n",
    "plt.title('Energy Bar Chart', fontsize = 20)\n",
    "# plt.xticks(locate, barLabels)\n",
    "#plt.yticks(np.arange(0, 81, 10))\n",
    "plt.legend()\n",
    "# Set the size of my plot for better visibility\n",
    "fig1.set_size_inches(12, 9)\n",
    "\n",
    "#fig.savefig(\"myplot.png\")\n",
    "plt.show()"
   ]
  },
  {
   "cell_type": "code",
   "execution_count": null,
   "metadata": {},
   "outputs": [],
   "source": []
  },
  {
   "cell_type": "code",
   "execution_count": null,
   "metadata": {},
   "outputs": [],
   "source": []
  }
 ],
 "metadata": {
  "kernelspec": {
   "display_name": "Python 3",
   "language": "python",
   "name": "python3"
  },
  "language_info": {
   "codemirror_mode": {
    "name": "ipython",
    "version": 3
   },
   "file_extension": ".py",
   "mimetype": "text/x-python",
   "name": "python",
   "nbconvert_exporter": "python",
   "pygments_lexer": "ipython3",
   "version": "3.8.5"
  }
 },
 "nbformat": 4,
 "nbformat_minor": 4
}
