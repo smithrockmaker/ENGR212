{
 "cells": [
  {
   "cell_type": "markdown",
   "metadata": {},
   "source": [
    "### Grade Calculator\n",
    "\n",
    "I can't believe I'm doing this but hey, perhaps it's useful.\n",
    "\n",
    "Grade Policy:\n",
    "25% HW (drop lowest)\n",
    "25% Recitation Problems (drop lowest)\n",
    "30% Midterms\n",
    "20% Final\n",
    "\n",
    "Set up the lists for possible scores to match the gradebook. This allows for adjustments for assignments and tests with different points. The percent contribution from each category is given above and entered below the possible scores. "
   ]
  },
  {
   "cell_type": "code",
   "execution_count": 1,
   "metadata": {},
   "outputs": [
    {
     "name": "stdout",
     "output_type": "stream",
     "text": [
      "Check that # of assignments match expectation:\n",
      "Number of HW: 7\n",
      "Number of RP: 14\n",
      "2 Midterms and 1 Final assumed\n"
     ]
    }
   ],
   "source": [
    "import numpy as np\n",
    "import matplotlib.pyplot as plt\n",
    "\n",
    "# possible scores\n",
    "possibleHW = [24.,24.,24.,24.,24.,24.,16.]\n",
    "possibleRP = [10.,10.,10.,10.,10.,10.,10.,10.,10.,10.,10.,10.,10.,10.]\n",
    "possibleMid = [80.,80.]\n",
    "possibleFinal = [80.]\n",
    "\n",
    "# generate percent lists for later use\n",
    "perHW = np.full_like(possibleHW,0.)\n",
    "perRP = np.full_like(possibleRP,0.)\n",
    "perMid = [0,0]\n",
    "perFinal = [0]\n",
    "\n",
    "# contribution to grade out of 100\n",
    "contribHW = 25.\n",
    "contribRP = 25.\n",
    "contribMid = 30.\n",
    "contribFinal = 20.\n",
    "\n",
    "# check assignment numbers\n",
    "lenHW = len(possibleHW)\n",
    "lenRP = len(possibleRP)\n",
    "\n",
    "print(\"Check that # of assignments match expectation:\")\n",
    "print(\"Number of HW:\", lenHW)\n",
    "print(\"Number of RP:\", lenRP)\n",
    "print(\"2 Midterms and 1 Final assumed\")\n"
   ]
  },
  {
   "cell_type": "markdown",
   "metadata": {},
   "source": [
    "### Data\n",
    "\n",
    "Enter your personal data here. Code will check to be sure that you have entered the expected number of HW and RP (recitation problem) scores. \n"
   ]
  },
  {
   "cell_type": "code",
   "execution_count": 2,
   "metadata": {},
   "outputs": [
    {
     "name": "stdout",
     "output_type": "stream",
     "text": [
      "HW data looks good!\n",
      "RP data looks good!\n"
     ]
    }
   ],
   "source": [
    "# HW data\n",
    "rawHW = [12,12, 12, 12, 12, 12, 8]\n",
    "rawHWlen = len(rawHW)\n",
    "# recitation scores\n",
    "rawRP = [5.,5.,5.,5.,5.,5.,5.,5.,5.,5., 5., 5.,5.,5.]\n",
    "rawRPlen = len(rawRP)\n",
    "# midterm scores\n",
    "rawMid = [40, 40]\n",
    "# score final\n",
    "rawFinal = [40]\n",
    "\n",
    "# Check to see data points match data set up\n",
    "if rawHWlen == lenHW:\n",
    "    print(\"HW data looks good!\")\n",
    "else:\n",
    "    print(\"number of HW scores doesn't match!\")\n",
    "    print(\"Scores expected: \", lenHW)\n",
    "    print(\"Scores entered: \", rawHWlen)\n",
    "    \n",
    "if rawRPlen == lenRP:\n",
    "    print(\"RP data looks good!\")\n",
    "else:\n",
    "    print(\"number of RP scores doesn't match!\")\n",
    "    print(\"Scores expected: \", lenRP)\n",
    "    print(\"Scores entered: \", rawRPlen)\n",
    "\n"
   ]
  },
  {
   "cell_type": "code",
   "execution_count": 3,
   "metadata": {},
   "outputs": [
    {
     "name": "stdout",
     "output_type": "stream",
     "text": [
      "HW points (25.0): 12.5\n",
      "RP points (25.0): 12.5\n",
      "Midterm points (30.0): 15.0\n",
      "Final points (20.0): 10.0\n",
      "Total Points (100): 50.0\n"
     ]
    }
   ],
   "source": [
    "# generate percentage scores\n",
    "for i in range(0,lenHW-1):\n",
    "    perHW[i] = rawHW[i]/possibleHW[i]\n",
    "\n",
    "for j in range(0,lenRP-1):\n",
    "    perRP[j] = rawRP[j]/possibleRP[j]\n",
    "\n",
    "perMid = (rawMid[0]/possibleMid[0] +  rawMid[1]/possibleMid[1])/2.\n",
    "perFinal = rawFinal[0]/possibleFinal[0]\n",
    "\n",
    "# manage the data\n",
    "sumHW = np.sum(perHW)\n",
    "dropHW = np.min(perHW)\n",
    "adjustHW = (sumHW - dropHW)/(lenHW-1)\n",
    "\n",
    "sumRP = np.sum(perRP)\n",
    "dropRP = np.min(perRP)\n",
    "adjustRP = (sumRP - dropRP)/(lenRP-1)\n",
    "\n",
    "pointsFinal = perFinal * contribFinal\n",
    "pointsMid = perMid * contribMid\n",
    "pointsHW = adjustHW * contribHW\n",
    "pointsRP = adjustRP * contribRP\n",
    "pointsTotal = pointsFinal + pointsMid + pointsHW + pointsRP\n",
    "\n",
    "print(\"HW points (%.1f): %.1f\"% (contribHW, pointsHW))\n",
    "print(\"RP points (%.1f): %.1f\"% (contribRP, pointsRP))\n",
    "print(\"Midterm points (%.1f): %.1f\"% (contribMid, pointsMid))\n",
    "print(\"Final points (%.1f): %.1f\"% (contribFinal, pointsFinal))\n",
    "print(\"Total Points (100): %0.1f\"% pointsTotal)\n"
   ]
  },
  {
   "cell_type": "code",
   "execution_count": null,
   "metadata": {},
   "outputs": [],
   "source": []
  },
  {
   "cell_type": "code",
   "execution_count": null,
   "metadata": {},
   "outputs": [],
   "source": []
  }
 ],
 "metadata": {
  "kernelspec": {
   "display_name": "Python 3",
   "language": "python",
   "name": "python3"
  },
  "language_info": {
   "codemirror_mode": {
    "name": "ipython",
    "version": 3
   },
   "file_extension": ".py",
   "mimetype": "text/x-python",
   "name": "python",
   "nbconvert_exporter": "python",
   "pygments_lexer": "ipython3",
   "version": "3.8.5"
  }
 },
 "nbformat": 4,
 "nbformat_minor": 4
}
