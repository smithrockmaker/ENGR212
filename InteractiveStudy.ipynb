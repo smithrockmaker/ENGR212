{
 "cells": [
  {
   "cell_type": "markdown",
   "metadata": {},
   "source": [
    "## Interactive Widgets Test\n",
    "\n",
    "There turn out to be a number of different widget libraries which are probably related but are also subtly different. After foundering around -- seriously !! -- I hope that these two tutorials will guide me to enlightenment.\n",
    "\n",
    "[ipywidgets basics](https://coderzcolumn.com/tutorials/python/interactive-widgets-in-jupyter-notebook-using-ipywidgets)\n",
    " \n",
    "[ipywidgets with matplotlib](https://coderzcolumn.com/tutorials/data-science/interactive-charts-using-matplotlib-and-ipywidgets)\n",
    "\n",
    "This documentation appears to line up with ipywidgets in Jupyterlab. \n",
    "[widgets documentation](https://ipywidgets.readthedocs.io/en/stable/examples/Widget%20List.html#)\n",
    "\n",
    "Other References:\n",
    "[introdatascience](https://towardsdatascience.com/bring-your-jupyter-notebook-to-life-with-interactive-widgets-bc12e03f0916)"
   ]
  },
  {
   "cell_type": "markdown",
   "metadata": {},
   "source": [
    "### Libraries\n",
    "\n",
    "Just to keep track there are matplotlib.widgets and ipywidgets and some other widgets. Be careful which you're using since they seem to be subtly different."
   ]
  },
  {
   "cell_type": "code",
   "execution_count": 1,
   "metadata": {},
   "outputs": [],
   "source": [
    "from ipywidgets import interact, interactive, fixed, interact_manual\n",
    "import matplotlib.pyplot as plt\n",
    "import numpy as np\n",
    "import ipywidgets as widgets\n",
    "from IPython.display import display"
   ]
  },
  {
   "cell_type": "code",
   "execution_count": 2,
   "metadata": {},
   "outputs": [],
   "source": [
    "def func1(x):\n",
    "    return 5*x"
   ]
  },
  {
   "cell_type": "markdown",
   "metadata": {},
   "source": [
    "### Interact\n",
    "\n",
    "Interact chooses a form of interaction based on the form of the func which is the first argument"
   ]
  },
  {
   "cell_type": "code",
   "execution_count": 3,
   "metadata": {},
   "outputs": [
    {
     "data": {
      "application/vnd.jupyter.widget-view+json": {
       "model_id": "adb6e113a25d4d7b9e66ae4c0ab9e239",
       "version_major": 2,
       "version_minor": 0
      },
      "text/plain": [
       "interactive(children=(IntSlider(value=15, description='x', max=45, min=-15), Output()), _dom_classes=('widget-…"
      ]
     },
     "metadata": {},
     "output_type": "display_data"
    }
   ],
   "source": [
    "interact(func1, x=15);"
   ]
  },
  {
   "cell_type": "code",
   "execution_count": 4,
   "metadata": {},
   "outputs": [
    {
     "data": {
      "application/vnd.jupyter.widget-view+json": {
       "model_id": "ed86821631b84585981699f38c28c33c",
       "version_major": 2,
       "version_minor": 0
      },
      "text/plain": [
       "interactive(children=(Checkbox(value=True, description='x'), Output()), _dom_classes=('widget-interact',))"
      ]
     },
     "metadata": {},
     "output_type": "display_data"
    }
   ],
   "source": [
    "interact(func1, x=True);"
   ]
  },
  {
   "cell_type": "markdown",
   "metadata": {},
   "source": [
    "Interesting note when I define func1 to be np.sin(x) it doesn't like to take sin(\"string\") as you would expect. It handles sin(TRUE) just fine because TRUE=1 so there..."
   ]
  },
  {
   "cell_type": "code",
   "execution_count": 5,
   "metadata": {},
   "outputs": [
    {
     "data": {
      "application/vnd.jupyter.widget-view+json": {
       "model_id": "c482a273a69041c7bbbf7cc02039614f",
       "version_major": 2,
       "version_minor": 0
      },
      "text/plain": [
       "interactive(children=(Text(value='Hello !!', description='x'), Output()), _dom_classes=('widget-interact',))"
      ]
     },
     "metadata": {},
     "output_type": "display_data"
    }
   ],
   "source": [
    "interact(func1, x=\"Hello !!\");"
   ]
  },
  {
   "cell_type": "code",
   "execution_count": 6,
   "metadata": {},
   "outputs": [],
   "source": [
    "def func2(a,b,c):\n",
    "    return (a*b) + c"
   ]
  },
  {
   "cell_type": "code",
   "execution_count": 7,
   "metadata": {},
   "outputs": [
    {
     "data": {
      "application/vnd.jupyter.widget-view+json": {
       "model_id": "c4317bd053504f85a5781016ab420f44",
       "version_major": 2,
       "version_minor": 0
      },
      "text/plain": [
       "interactive(children=(IntSlider(value=5, description='a', max=15, min=-5), IntSlider(value=10, description='c'…"
      ]
     },
     "metadata": {},
     "output_type": "display_data"
    }
   ],
   "source": [
    "interact(func2, a=5, b=fixed(5), c=10);"
   ]
  },
  {
   "cell_type": "code",
   "execution_count": 8,
   "metadata": {},
   "outputs": [
    {
     "data": {
      "application/vnd.jupyter.widget-view+json": {
       "model_id": "e4a49dbad54344ba95c4f1fc73829e57",
       "version_major": 2,
       "version_minor": 0
      },
      "text/plain": [
       "interactive(children=(IntSlider(value=3, description='x', max=5, min=1), Output()), _dom_classes=('widget-inte…"
      ]
     },
     "metadata": {},
     "output_type": "display_data"
    }
   ],
   "source": [
    "interact(func1, x=(1,5));"
   ]
  },
  {
   "cell_type": "code",
   "execution_count": 9,
   "metadata": {},
   "outputs": [
    {
     "data": {
      "application/vnd.jupyter.widget-view+json": {
       "model_id": "cf9a94bddf1c4ada8b401edf1b3ea532",
       "version_major": 2,
       "version_minor": 0
      },
      "text/plain": [
       "interactive(children=(FloatSlider(value=3.0, description='x', max=5.0, min=1.0, step=0.5), Output()), _dom_cla…"
      ]
     },
     "metadata": {},
     "output_type": "display_data"
    }
   ],
   "source": [
    "interact(func1, x=(1,5, 0.5));"
   ]
  },
  {
   "cell_type": "code",
   "execution_count": 10,
   "metadata": {},
   "outputs": [
    {
     "data": {
      "application/vnd.jupyter.widget-view+json": {
       "model_id": "b6b2952e8e074a9b9505f7c8f724111d",
       "version_major": 2,
       "version_minor": 0
      },
      "text/plain": [
       "interactive(children=(Dropdown(description='x', options=('good ', 'bad '), value='good '), Output()), _dom_cla…"
      ]
     },
     "metadata": {},
     "output_type": "display_data"
    }
   ],
   "source": [
    "interact(func1, x=['good ','bad ']);"
   ]
  },
  {
   "cell_type": "code",
   "execution_count": 11,
   "metadata": {},
   "outputs": [
    {
     "data": {
      "application/vnd.jupyter.widget-view+json": {
       "model_id": "80265c19a4b843aba23a1c335d92560a",
       "version_major": 2,
       "version_minor": 0
      },
      "text/plain": [
       "interactive(children=(Dropdown(description='x', options=(('first', 100), ('second', 200)), value=100), Output(…"
      ]
     },
     "metadata": {},
     "output_type": "display_data"
    }
   ],
   "source": [
    "interact(func1, x=[('first', 100), ('second', 200)]);"
   ]
  },
  {
   "cell_type": "markdown",
   "metadata": {},
   "source": [
    "Directly from widgets instead of letting interact make the choice"
   ]
  },
  {
   "cell_type": "code",
   "execution_count": 12,
   "metadata": {},
   "outputs": [
    {
     "data": {
      "application/vnd.jupyter.widget-view+json": {
       "model_id": "6b6d0757798447c8a73110355b71ee11",
       "version_major": 2,
       "version_minor": 0
      },
      "text/plain": [
       "IntSlider(value=25, description='Integer Slider', max=50, min=10, step=2)"
      ]
     },
     "metadata": {},
     "output_type": "display_data"
    }
   ],
   "source": [
    "int_slider = widgets.IntSlider(min=10, max=50, value=25, step=2, description=\"Integer Slider\")\n",
    "int_slider"
   ]
  },
  {
   "cell_type": "code",
   "execution_count": 13,
   "metadata": {},
   "outputs": [
    {
     "data": {
      "application/vnd.jupyter.widget-view+json": {
       "model_id": "e12765a231774eefa9e244c804b2ef49",
       "version_major": 2,
       "version_minor": 0
      },
      "text/plain": [
       "FloatSlider(value=25.0, description='Float Slider', max=50.0, min=10.0, step=2.5)"
      ]
     },
     "metadata": {},
     "output_type": "display_data"
    }
   ],
   "source": [
    "float_slider = widgets.FloatSlider(min=10.0, max=50.0, value=25.0, step=2.5, description=\"Float Slider\")\n",
    "float_slider"
   ]
  },
  {
   "cell_type": "code",
   "execution_count": 14,
   "metadata": {},
   "outputs": [],
   "source": [
    "float_slider.value = 32"
   ]
  },
  {
   "cell_type": "code",
   "execution_count": 15,
   "metadata": {},
   "outputs": [
    {
     "name": "stdout",
     "output_type": "stream",
     "text": [
      "['_dom_classes', '_model_module', '_model_module_version', '_model_name', '_view_count', '_view_module', '_view_module_version', '_view_name', 'continuous_update', 'description', 'description_tooltip', 'disabled', 'layout', 'max', 'min', 'orientation', 'readout', 'readout_format', 'step', 'style', 'value']\n"
     ]
    }
   ],
   "source": [
    "# float_slider attributes\n",
    "print(float_slider.keys)"
   ]
  },
  {
   "cell_type": "code",
   "execution_count": 16,
   "metadata": {},
   "outputs": [
    {
     "data": {
      "application/vnd.jupyter.widget-view+json": {
       "model_id": "0ed93e70f96a445b9ee0f76424a1eff1",
       "version_major": 2,
       "version_minor": 0
      },
      "text/plain": [
       "Checkbox(value=True, description='Check')"
      ]
     },
     "metadata": {},
     "output_type": "display_data"
    }
   ],
   "source": [
    "widgets.Checkbox(value=True, description=\"Check\")"
   ]
  },
  {
   "cell_type": "code",
   "execution_count": 17,
   "metadata": {},
   "outputs": [
    {
     "data": {
      "application/vnd.jupyter.widget-view+json": {
       "model_id": "1810c8f4ad434a96944f1a41c0165f64",
       "version_major": 2,
       "version_minor": 0
      },
      "text/plain": [
       "Button(description='Silly', style=ButtonStyle())"
      ]
     },
     "metadata": {},
     "output_type": "display_data"
    }
   ],
   "source": [
    "buttonTest = widgets.Button(description=\"Silly\")\n",
    "buttonTest"
   ]
  },
  {
   "cell_type": "code",
   "execution_count": 18,
   "metadata": {},
   "outputs": [
    {
     "name": "stdout",
     "output_type": "stream",
     "text": [
      "['_dom_classes', '_model_module', '_model_module_version', '_model_name', '_view_count', '_view_module', '_view_module_version', '_view_name', 'button_style', 'description', 'disabled', 'icon', 'layout', 'style', 'tooltip']\n"
     ]
    }
   ],
   "source": [
    "print(buttonTest.keys)"
   ]
  },
  {
   "cell_type": "code",
   "execution_count": 19,
   "metadata": {},
   "outputs": [
    {
     "data": {
      "application/vnd.jupyter.widget-view+json": {
       "model_id": "aee08a512bd246d6b16f4ceddbb78704",
       "version_major": 2,
       "version_minor": 0
      },
      "text/plain": [
       "Dropdown(description='Select Option', options=('A', 'B', 'C', 'D'), value='A')"
      ]
     },
     "metadata": {},
     "output_type": "display_data"
    }
   ],
   "source": [
    "widgets.Dropdown(options=[\"A\",\"B\",\"C\",\"D\"], description=\"Select Option\")"
   ]
  },
  {
   "cell_type": "code",
   "execution_count": 20,
   "metadata": {},
   "outputs": [
    {
     "data": {
      "application/vnd.jupyter.widget-view+json": {
       "model_id": "42fdfa02da4a4e06910a31197783680b",
       "version_major": 2,
       "version_minor": 0
      },
      "text/plain": [
       "Textarea(value='Please enter text here..')"
      ]
     },
     "metadata": {},
     "output_type": "display_data"
    }
   ],
   "source": [
    "textBox= widgets.Textarea(value=\"Please enter text here..\")\n",
    "textBox"
   ]
  },
  {
   "cell_type": "code",
   "execution_count": 21,
   "metadata": {},
   "outputs": [
    {
     "data": {
      "text/plain": [
       "'Please enter text here..'"
      ]
     },
     "execution_count": 21,
     "metadata": {},
     "output_type": "execute_result"
    }
   ],
   "source": [
    "textBox.value"
   ]
  },
  {
   "cell_type": "markdown",
   "metadata": {},
   "source": [
    "superceding the default interact choices..."
   ]
  },
  {
   "cell_type": "code",
   "execution_count": 22,
   "metadata": {},
   "outputs": [
    {
     "data": {
      "application/vnd.jupyter.widget-view+json": {
       "model_id": "e97d0af7b24d499aa00b871ff838c334",
       "version_major": 2,
       "version_minor": 0
      },
      "text/plain": [
       "interactive(children=(IntSlider(value=25, description='Integer Slider', max=50, min=10, step=2), Output()), _d…"
      ]
     },
     "metadata": {},
     "output_type": "display_data"
    }
   ],
   "source": [
    "interact(func1, x= widgets.IntSlider(min=10, max=50, value=25, step=2, description=\"Integer Slider\"));"
   ]
  },
  {
   "cell_type": "code",
   "execution_count": 23,
   "metadata": {},
   "outputs": [
    {
     "data": {
      "application/vnd.jupyter.widget-view+json": {
       "model_id": "6371419db93d4fc4bc9aff4b5a7305b2",
       "version_major": 2,
       "version_minor": 0
      },
      "text/plain": [
       "interactive(children=(FloatSlider(value=25.0, description='Integer Slider', max=50.0, min=10.0, step=2.0), Out…"
      ]
     },
     "metadata": {},
     "output_type": "display_data"
    }
   ],
   "source": [
    "interact(func1, x= widgets.FloatSlider(min=10, max=50, value=25, step=2, description=\"Integer Slider\"));"
   ]
  },
  {
   "cell_type": "code",
   "execution_count": 24,
   "metadata": {},
   "outputs": [
    {
     "data": {
      "application/vnd.jupyter.widget-view+json": {
       "model_id": "d7a7d9f2b4be4260a46a6ba4b2809328",
       "version_major": 2,
       "version_minor": 0
      },
      "text/plain": [
       "interactive(children=(IntSlider(value=25, description='a', max=50, min=10, step=2), IntSlider(value=25, descri…"
      ]
     },
     "metadata": {},
     "output_type": "display_data"
    }
   ],
   "source": [
    "def func3(a,b,c):\n",
    "    display((a+b)^c)\n",
    "\n",
    "w = interactive(func3,  a=widgets.IntSlider(min=10, max=50, value=25, step=2),\n",
    "                        b=widgets.IntSlider(min=10, max=50, value=25, step=2),\n",
    "                        c=widgets.IntSlider(min=10, max=50, value=25, step=2),\n",
    "                       )\n",
    "display(w)"
   ]
  },
  {
   "cell_type": "code",
   "execution_count": 25,
   "metadata": {},
   "outputs": [
    {
     "name": "stdout",
     "output_type": "stream",
     "text": [
      "<class 'ipywidgets.widgets.interaction.interactive'>\n"
     ]
    }
   ],
   "source": [
    "print(type(w))"
   ]
  },
  {
   "cell_type": "code",
   "execution_count": 26,
   "metadata": {},
   "outputs": [
    {
     "data": {
      "text/plain": [
       "(IntSlider(value=25, description='a', max=50, min=10, step=2),\n",
       " IntSlider(value=25, description='b', max=50, min=10, step=2),\n",
       " IntSlider(value=25, description='c', max=50, min=10, step=2),\n",
       " Output(outputs=({'output_type': 'display_data', 'data': {'text/plain': '43'}, 'metadata': {}},)))"
      ]
     },
     "execution_count": 26,
     "metadata": {},
     "output_type": "execute_result"
    }
   ],
   "source": [
    "w.children"
   ]
  },
  {
   "cell_type": "code",
   "execution_count": 27,
   "metadata": {},
   "outputs": [
    {
     "data": {
      "text/plain": [
       "{'a': 25, 'b': 25, 'c': 25}"
      ]
     },
     "execution_count": 27,
     "metadata": {},
     "output_type": "execute_result"
    }
   ],
   "source": [
    "w.kwargs"
   ]
  },
  {
   "cell_type": "code",
   "execution_count": 28,
   "metadata": {},
   "outputs": [],
   "source": [
    "\n",
    "def plot(m,c):\n",
    "    x = np.linspace(0,10,10)\n",
    "    y = m *x + c\n",
    "    plt.xlim(0,15)\n",
    "    plt.ylim(-10,10)\n",
    "    plt.scatter(x,y, marker ='*')\n",
    "    plt.show()"
   ]
  },
  {
   "cell_type": "code",
   "execution_count": 29,
   "metadata": {},
   "outputs": [
    {
     "data": {
      "application/vnd.jupyter.widget-view+json": {
       "model_id": "14ac927e6b0848da852ad3530f8b08b8",
       "version_major": 2,
       "version_minor": 0
      },
      "text/plain": [
       "interactive(children=(FloatSlider(value=0.0, description='slope', max=10.0, min=-10.0), FloatSlider(value=0.5,…"
      ]
     },
     "metadata": {},
     "output_type": "display_data"
    }
   ],
   "source": [
    "#interactive(plot, m=(-10,10, 0.5), c=(-5,5,0.5))\n",
    "qtest = interactive(plot,  m=widgets.FloatSlider(min=-10, max=10, value=0, description = 'slope'),\n",
    "                        c=widgets.FloatSlider(min=-5, max=5, value=0.5, description = 'intercept'),\n",
    "                       )\n",
    "display(qtest)"
   ]
  },
  {
   "cell_type": "code",
   "execution_count": 30,
   "metadata": {},
   "outputs": [
    {
     "data": {
      "application/vnd.jupyter.widget-view+json": {
       "model_id": "5c2040c7770646829bd10f6f8ecb5df8",
       "version_major": 2,
       "version_minor": 0
      },
      "text/plain": [
       "Output()"
      ]
     },
     "metadata": {},
     "output_type": "display_data"
    },
    {
     "data": {
      "application/vnd.jupyter.widget-view+json": {
       "model_id": "69fce3e98fe644d5b82e8d18eb296ec2",
       "version_major": 2,
       "version_minor": 0
      },
      "text/plain": [
       "HBox(children=(FloatSlider(value=0.0, description='Slope', max=5.0, min=-5.0, step=0.5), FloatSlider(value=0.0…"
      ]
     },
     "metadata": {},
     "output_type": "display_data"
    }
   ],
   "source": [
    "m = widgets.FloatSlider(min=-5,max=5,step=0.5, description=\"Slope\")\n",
    "c = widgets.FloatSlider(min=-5,max=5,step=0.5, description=\"Intercept\")\n",
    "\n",
    "# An HBox lays out its children horizontally\n",
    "ui = widgets.HBox([m, c])\n",
    "\n",
    "def plot(m, c):\n",
    "    x = np.linspace(0,10,10)\n",
    "    y = m *x + c\n",
    "    plt.xlim(0,15)\n",
    "    plt.ylim(-10,10)\n",
    "    plt.plot(x,y)\n",
    "    plt.show()\n",
    "\n",
    "out = widgets.interactive_output(plot, {'m': m, 'c': c})\n",
    "\n",
    "display(out, ui)"
   ]
  },
  {
   "cell_type": "code",
   "execution_count": 31,
   "metadata": {},
   "outputs": [
    {
     "data": {
      "application/vnd.jupyter.widget-view+json": {
       "model_id": "11cf1ea6e56e470ca1e61b708a3829ec",
       "version_major": 2,
       "version_minor": 0
      },
      "text/plain": [
       "IntText(value=0)"
      ]
     },
     "metadata": {},
     "output_type": "display_data"
    },
    {
     "data": {
      "application/vnd.jupyter.widget-view+json": {
       "model_id": "59bec140a2774706846c051bf626645f",
       "version_major": 2,
       "version_minor": 0
      },
      "text/plain": [
       "IntSlider(value=0)"
      ]
     },
     "metadata": {},
     "output_type": "display_data"
    }
   ],
   "source": [
    "x = widgets.IntText()\n",
    "y = widgets.IntSlider()\n",
    "\n",
    "display(x,y)\n",
    "\n",
    "two_way_link_python = widgets.link((x, 'value'), (y, 'value'))"
   ]
  },
  {
   "cell_type": "code",
   "execution_count": 42,
   "metadata": {},
   "outputs": [
    {
     "data": {
      "application/vnd.jupyter.widget-view+json": {
       "model_id": "af36a04377164e45815f7ba74f42b793",
       "version_major": 2,
       "version_minor": 0
      },
      "text/plain": [
       "HBox(children=(Button(description='Button3', layout=Layout(width='30%'), style=ButtonStyle()), Button(descript…"
      ]
     },
     "metadata": {},
     "output_type": "display_data"
    }
   ],
   "source": [
    "b1 = widgets.Button(description=\"Button1\", layout=widgets.Layout(width=\"30%\"))\n",
    "b2 = widgets.Button(description=\"Button2\", layout=widgets.Layout(width=\"30%\"))\n",
    "b3 = widgets.Button(description=\"Button3\", layout=widgets.Layout(width=\"30%\"))\n",
    "b4 = widgets.Button(description=\"Button4\", layout=widgets.Layout(width=\"30%\"))\n",
    "\n",
    "h1 = widgets.HBox(children=[b1,b2])\n",
    "h1\n",
    "h2 = widgets.HBox(children=[b3,b4])\n",
    "h2"
   ]
  },
  {
   "cell_type": "code",
   "execution_count": 43,
   "metadata": {},
   "outputs": [
    {
     "data": {
      "application/vnd.jupyter.widget-view+json": {
       "model_id": "c996e4e7e5994ef797bc21a8bf4ed7bc",
       "version_major": 2,
       "version_minor": 0
      },
      "text/plain": [
       "VBox(children=(HBox(children=(Button(description='Button1', layout=Layout(width='30%'), style=ButtonStyle()), …"
      ]
     },
     "metadata": {},
     "output_type": "display_data"
    }
   ],
   "source": [
    "widgets.VBox(children=[g1,g2])"
   ]
  },
  {
   "cell_type": "code",
   "execution_count": null,
   "metadata": {},
   "outputs": [],
   "source": []
  }
 ],
 "metadata": {
  "kernelspec": {
   "display_name": "Python 3",
   "language": "python",
   "name": "python3"
  },
  "language_info": {
   "codemirror_mode": {
    "name": "ipython",
    "version": 3
   },
   "file_extension": ".py",
   "mimetype": "text/x-python",
   "name": "python",
   "nbconvert_exporter": "python",
   "pygments_lexer": "ipython3",
   "version": "3.8.5"
  }
 },
 "nbformat": 4,
 "nbformat_minor": 4
}
