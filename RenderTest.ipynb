{
 "cells": [
  {
   "cell_type": "markdown",
   "metadata": {},
   "source": [
    "### Newton's 2nd Law: Center of Mass\n",
    "#### 14.1\n",
    "\n",
    "#### Concept Review:\n",
    "\n",
    "When we learned about Newton's Laws in physics we started by treating every object as a single point. We probably mentioned that, if we were careful, this point should be located at the center of mass. We rarely talked about this consideration after that. Because we will be looking at more complex behavior in this class we need to be explicit about the meaning of the center of mass as well as it's motion relative to that center of mass. \n",
    "\n",
    "#### The Center of Mass:\n",
    "\n",
    "Conceptually it is just the balance point of the object. In 1D we have a pretty good intuitive sense of how it works. That intuitive sense gets less secure as we move to 2D and 3D. In 1D the balance point can be determined like this\n",
    "\n",
    "\n",
    "$$\\large x_{cm} = \\frac{ x_i m_i}{\\sum_i}$$\n",
    "\n",
    "The $x_i\\: m_i$ terms mean that masses further from the balance point have more effect on the location of the center of mass as you would expect. We can extend this exact idea to arbitrary geometries as"
   ]
  },
  {
   "cell_type": "code",
   "execution_count": null,
   "metadata": {},
   "outputs": [],
   "source": []
  }
 ],
 "metadata": {
  "kernelspec": {
   "display_name": "Python 3 (ipykernel)",
   "language": "python",
   "name": "python3"
  },
  "language_info": {
   "codemirror_mode": {
    "name": "ipython",
    "version": 3
   },
   "file_extension": ".py",
   "mimetype": "text/x-python",
   "name": "python",
   "nbconvert_exporter": "python",
   "pygments_lexer": "ipython3",
   "version": "3.9.7"
  }
 },
 "nbformat": 4,
 "nbformat_minor": 4
}
