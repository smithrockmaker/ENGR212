{
 "cells": [
  {
   "cell_type": "markdown",
   "metadata": {},
   "source": [
    "## Dynamics: Problem Solving Strategies\n",
    "\n",
    "### 1/21\n",
    "\n",
    "A consistent feature of the student experience in this class is that the individual pieces of the content make reasonable sense but connecting all the parts together in a range of different physical settings is much more confusing. This notebook is an effort to pull together a range of comments I have made in different 'lectures' to form a set of strategies for figuring out which mathematical tool might be useful or relevant. After that there is still the question of how to use the tool. \n",
    "\n",
    "**FEEDBACK PLEASE!**\n",
    "\n",
    "This notebook will necessarily be a evolving document. Please email questions and/or comments so I can make it more helpful for you."
   ]
  },
  {
   "cell_type": "markdown",
   "metadata": {},
   "source": []
  },
  {
   "cell_type": "code",
   "execution_count": null,
   "metadata": {},
   "outputs": [],
   "source": []
  }
 ],
 "metadata": {
  "kernelspec": {
   "display_name": "Python 3",
   "language": "python",
   "name": "python3"
  },
  "language_info": {
   "codemirror_mode": {
    "name": "ipython",
    "version": 3
   },
   "file_extension": ".py",
   "mimetype": "text/x-python",
   "name": "python",
   "nbconvert_exporter": "python",
   "pygments_lexer": "ipython3",
   "version": "3.8.5"
  }
 },
 "nbformat": 4,
 "nbformat_minor": 4
}
