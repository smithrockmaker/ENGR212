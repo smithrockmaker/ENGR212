{
 "cells": [
  {
   "cell_type": "markdown",
   "metadata": {},
   "source": [
    "## Interactive Widgets Test\n",
    "\n",
    "[introdatascience](https://towardsdatascience.com/bring-your-jupyter-notebook-to-life-with-interactive-widgets-bc12e03f0916)"
   ]
  },
  {
   "cell_type": "code",
   "execution_count": 1,
   "metadata": {},
   "outputs": [],
   "source": [
    "import numpy as np\n",
    "import matplotlib.pyplot as plt\n",
    "import ipywidgets as widgets\n",
    "from IPython.display import display\n",
    "from ipywidgets import interact, interactive, fixed, interact_manual\n"
   ]
  },
  {
   "cell_type": "code",
   "execution_count": null,
   "metadata": {},
   "outputs": [],
   "source": []
  },
  {
   "cell_type": "code",
   "execution_count": null,
   "metadata": {},
   "outputs": [],
   "source": []
  },
  {
   "cell_type": "code",
   "execution_count": 2,
   "metadata": {},
   "outputs": [
    {
     "data": {
      "image/png": "[encoded data removed]",
      "text/plain": [
       "<Figure size 432x288 with 1 Axes>"
      ]
     },
     "metadata": {
      "needs_background": "light"
     },
     "output_type": "display_data"
    }
   ],
   "source": [
    "N = 4\n",
    "bar1 = 5.\n",
    "bar2 = 3.\n",
    "\n",
    "ind = np.arange(N)    # the x locations for the groups\n",
    "width = 0.35       # the width of the bars: can also be len(x) sequence\n",
    "\n",
    "p1 = plt.bar(ind[1], bar1, width)\n",
    "p2 = plt.bar(ind[2], bar2, width)\n",
    "\n",
    "plt.ylabel('Scores')\n",
    "plt.title('Interactive Bar Test')\n",
    "plt.xticks(ind, ('','1', '2',''))\n",
    "\n",
    "plt.legend((p1[0], p2[0]), ('B1', 'B2'))\n",
    "\n",
    "plt.show()"
   ]
  },
  {
   "cell_type": "code",
   "execution_count": 3,
   "metadata": {},
   "outputs": [],
   "source": [
    "totalBar = 12\n",
    "widthBar = .35\n",
    "\n",
    "def barplt(bar1,bar2):\n",
    "    sumBar = totalBar - bar1 - bar2\n",
    "    figBar, axBar = plt.subplots()\n",
    "    b1 = axBar.bar(1, bar1, widthBar)\n",
    "    b2 = axBar.bar(2, bar2, widthBar)\n",
    "    b3 = axBar.bar(3, sumBar, widthBar)\n",
    "    plt.ylim(-12.,12.)\n",
    "    plt.ylabel('Scores')\n",
    "    plt.title('Interactive Bar Test')\n",
    "    plt.xticks(ind, ('','1', '2',''))\n",
    "    plt.legend((b1, b2), ('B1', 'B2'))\n",
    "    plt.show()\n"
   ]
  },
  {
   "cell_type": "code",
   "execution_count": 4,
   "metadata": {},
   "outputs": [
    {
     "data": {
      "application/vnd.jupyter.widget-view+json": {
       "model_id": "4c02fd2ec11941b98f03b274029da8d1",
       "version_major": 2,
       "version_minor": 0
      },
      "text/plain": [
       "interactive(children=(FloatSlider(value=3.0, continuous_update=False, description='Bar 1 Height', max=10.0, mi…"
      ]
     },
     "metadata": {},
     "output_type": "display_data"
    }
   ],
   "source": [
    "barTest = interactive(barplt,  \n",
    "                      bar1=widgets.FloatSlider(min=-10, max=10, value=3, description = 'Bar 1 Height',continuous_update=False),\n",
    "                      bar2=widgets.FloatSlider(min=-10, max=10, value=3, description = 'Bar 2 Height',continuous_update=False)\n",
    "                       )\n",
    "display(barTest)"
   ]
  },
  {
   "cell_type": "code",
   "execution_count": 16,
   "metadata": {},
   "outputs": [
    {
     "data": {
      "application/vnd.jupyter.widget-view+json": {
       "model_id": "b6b23f5450ad40f098e25ee5e2f83294",
       "version_major": 2,
       "version_minor": 0
      },
      "text/plain": [
       "Output()"
      ]
     },
     "metadata": {},
     "output_type": "display_data"
    },
    {
     "data": {
      "application/vnd.jupyter.widget-view+json": {
       "model_id": "0f44610f98284230a7f66aef58e3e356",
       "version_major": 2,
       "version_minor": 0
      },
      "text/plain": [
       "HBox(children=(VBox(children=(Label(value='Initial Energy '), FloatSlider(value=3.0, continuous_update=False, …"
      ]
     },
     "metadata": {},
     "output_type": "display_data"
    }
   ],
   "source": [
    "# Set up widgets\n",
    "cap1 = widgets.Label(value='Initial Energy ')\n",
    "cap2 = widgets.Label(value='Final Energy ')\n",
    "bar1=widgets.FloatSlider(min=-10, max=10, value=3, description = 'Bar 1 Height',continuous_update=False)\n",
    "bar2=widgets.FloatSlider(min=-10, max=10, value=3, description = 'Bar 2 Height',continuous_update=False)\n",
    "bar3=widgets.FloatSlider(min=-10, max=10, value=3, description = 'Bar 3 Height',continuous_update=False)\n",
    "bar4=widgets.FloatSlider(min=-10, max=10, value=3, description = 'Bar 4 Height',continuous_update=False)\n",
    "\n",
    "# An HBox lays out its children horizontally, VBox lays them out vertically\n",
    "col1 = widgets.VBox([cap1, bar1, bar3])\n",
    "col2 = widgets.VBox([cap2, bar2, bar4])\n",
    "panel = widgets.HBox([col1, col2])\n",
    "\n",
    "\n",
    "\n",
    "out = widgets.interactive_output(barplt, {'bar1': bar1, 'bar2': bar2})\n",
    "\n",
    "display(out, panel)"
   ]
  },
  {
   "cell_type": "code",
   "execution_count": 27,
   "metadata": {},
   "outputs": [
    {
     "name": "stdout",
     "output_type": "stream",
     "text": [
      "4.0        3.0  0.0  -2.0\n"
     ]
    }
   ],
   "source": [
    "KE0= 4.\n",
    "PEg10 = 3.1\n",
    "PEs10 = .2\n",
    "U0 = -2.1\n",
    "\n",
    "spacer = '  '\n",
    "\n",
    "\n",
    "KE0Val = str(np.trunc(KE0))\n",
    "PEg10Val = str(np.trunc(PEg10))\n",
    "PEs10Val = str(np.trunc(PEs10))\n",
    "U0Val = str(np.trunc(U0))\n",
    "testStr = KE0Val + 4*spacer + PEg10Val + spacer + PEs10Val + spacer + U0Val\n",
    "\n",
    "print(testStr)"
   ]
  },
  {
   "cell_type": "code",
   "execution_count": null,
   "metadata": {},
   "outputs": [],
   "source": []
  }
 ],
 "metadata": {
  "kernelspec": {
   "display_name": "Python 3",
   "language": "python",
   "name": "python3"
  },
  "language_info": {
   "codemirror_mode": {
    "name": "ipython",
    "version": 3
   },
   "file_extension": ".py",
   "mimetype": "text/x-python",
   "name": "python",
   "nbconvert_exporter": "python",
   "pygments_lexer": "ipython3",
   "version": "3.8.5"
  }
 },
 "nbformat": 4,
 "nbformat_minor": 4
}
